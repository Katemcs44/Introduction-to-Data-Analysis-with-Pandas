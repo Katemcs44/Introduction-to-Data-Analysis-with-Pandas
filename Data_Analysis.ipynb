{
 "cells": [
  {
   "cell_type": "markdown",
   "id": "9b3656db",
   "metadata": {},
   "source": [
    "Importing the library Pandas that allows to make Data Analysis."
   ]
  },
  {
   "cell_type": "code",
   "execution_count": 172,
   "id": "a696a95e",
   "metadata": {},
   "outputs": [],
   "source": [
    "import pandas as pd"
   ]
  },
  {
   "cell_type": "markdown",
   "id": "85f16cc5",
   "metadata": {},
   "source": [
    "Importing and visualizing Data Bases from an Excel file as Data Frame"
   ]
  },
  {
   "cell_type": "code",
   "execution_count": 173,
   "id": "0b020c00",
   "metadata": {},
   "outputs": [
    {
     "data": {
      "application/vnd.microsoft.datawrangler.viewer.v0+json": {
       "columns": [
        {
         "name": "index",
         "rawType": "int64",
         "type": "integer"
        },
        {
         "name": "Código Venda",
         "rawType": "int64",
         "type": "integer"
        },
        {
         "name": "Data",
         "rawType": "datetime64[ns]",
         "type": "datetime"
        },
        {
         "name": "ID Loja",
         "rawType": "object",
         "type": "string"
        },
        {
         "name": "Produto",
         "rawType": "object",
         "type": "string"
        },
        {
         "name": "Quantidade",
         "rawType": "int64",
         "type": "integer"
        },
        {
         "name": "Valor Unitário",
         "rawType": "int64",
         "type": "integer"
        },
        {
         "name": "Valor Final",
         "rawType": "int64",
         "type": "integer"
        }
       ],
       "ref": "83f68001-b1ec-41d9-bbc2-6456a12c1ca3",
       "rows": [
        [
         "0",
         "1",
         "2019-01-01 00:00:00",
         "Iguatemi Esplanada",
         "Sapato Estampa",
         "1",
         "358",
         "358"
        ],
        [
         "1",
         "1",
         "2019-01-01 00:00:00",
         "Iguatemi Esplanada",
         "Camiseta",
         "2",
         "180",
         "360"
        ],
        [
         "2",
         "1",
         "2019-01-01 00:00:00",
         "Iguatemi Esplanada",
         "Sapato Xadrez",
         "1",
         "368",
         "368"
        ],
        [
         "3",
         "2",
         "2019-01-02 00:00:00",
         "Norte Shopping",
         "Relógio",
         "3",
         "200",
         "600"
        ],
        [
         "4",
         "2",
         "2019-01-02 00:00:00",
         "Norte Shopping",
         "Chinelo Liso",
         "1",
         "71",
         "71"
        ],
        [
         "5",
         "3",
         "2019-01-02 00:00:00",
         "Rio Mar Shopping Fortaleza",
         "Cinto Linho",
         "1",
         "248",
         "248"
        ],
        [
         "6",
         "5",
         "2019-01-02 00:00:00",
         "Shopping Barra",
         "Calça",
         "1",
         "170",
         "170"
        ],
        [
         "7",
         "6",
         "2019-01-02 00:00:00",
         "Shopping Ibirapuera",
         "Polo Listrado",
         "4",
         "149",
         "596"
        ],
        [
         "8",
         "7",
         "2019-01-02 00:00:00",
         "Norte Shopping",
         "Camisa Gola V Listrado",
         "1",
         "116",
         "116"
        ],
        [
         "9",
         "7",
         "2019-01-02 00:00:00",
         "Norte Shopping",
         "Camisa Liso",
         "1",
         "105",
         "105"
        ],
        [
         "10",
         "8",
         "2019-01-02 00:00:00",
         "Iguatemi Campinas",
         "Terno Estampa",
         "5",
         "706",
         "3530"
        ],
        [
         "11",
         "9",
         "2019-01-02 00:00:00",
         "Shopping Center Leste Aricanduva",
         "Tênis Linho",
         "1",
         "294",
         "294"
        ],
        [
         "12",
         "9",
         "2019-01-02 00:00:00",
         "Shopping Center Leste Aricanduva",
         "Casaco Xadrez",
         "2",
         "259",
         "518"
        ],
        [
         "13",
         "10",
         "2019-01-02 00:00:00",
         "Passei das Águas Shopping",
         "Camiseta Xadrez",
         "2",
         "200",
         "400"
        ],
        [
         "14",
         "10",
         "2019-01-02 00:00:00",
         "Passei das Águas Shopping",
         "Cueca Liso",
         "1",
         "69",
         "69"
        ],
        [
         "15",
         "11",
         "2019-01-02 00:00:00",
         "Shopping Recife",
         "Camiseta",
         "1",
         "180",
         "180"
        ],
        [
         "16",
         "11",
         "2019-01-02 00:00:00",
         "Shopping Recife",
         "Calça Listrado",
         "2",
         "181",
         "362"
        ],
        [
         "17",
         "11",
         "2019-01-02 00:00:00",
         "Shopping Recife",
         "Camisa Estampa",
         "1",
         "113",
         "113"
        ],
        [
         "18",
         "12",
         "2019-01-02 00:00:00",
         "Shopping Midway Mall",
         "Short Xadrez",
         "4",
         "100",
         "400"
        ],
        [
         "19",
         "12",
         "2019-01-02 00:00:00",
         "Shopping Midway Mall",
         "Sunga Liso",
         "2",
         "114",
         "228"
        ],
        [
         "20",
         "14",
         "2019-01-02 00:00:00",
         "Bourbon Shopping SP",
         "Casaco Liso",
         "2",
         "255",
         "510"
        ],
        [
         "21",
         "17",
         "2019-01-02 00:00:00",
         "Iguatemi Campinas",
         "Chinelo Liso",
         "1",
         "71",
         "71"
        ],
        [
         "22",
         "18",
         "2019-01-02 00:00:00",
         "Rio Mar Shopping Fortaleza",
         "Camisa Estampa",
         "1",
         "113",
         "113"
        ],
        [
         "23",
         "19",
         "2019-01-02 00:00:00",
         "Passei das Águas Shopping",
         "Relógio Listrado",
         "1",
         "218",
         "218"
        ],
        [
         "24",
         "19",
         "2019-01-02 00:00:00",
         "Passei das Águas Shopping",
         "Calça Linho",
         "2",
         "211",
         "422"
        ],
        [
         "25",
         "20",
         "2019-01-02 00:00:00",
         "Shopping Center Interlagos",
         "Mochila Liso",
         "1",
         "276",
         "276"
        ],
        [
         "26",
         "21",
         "2019-01-02 00:00:00",
         "Iguatemi Esplanada",
         "Camisa Gola V Listrado",
         "2",
         "116",
         "232"
        ],
        [
         "27",
         "22",
         "2019-01-02 00:00:00",
         "Parque Dom Pedro Shopping",
         "Meia",
         "1",
         "30",
         "30"
        ],
        [
         "28",
         "22",
         "2019-01-02 00:00:00",
         "Parque Dom Pedro Shopping",
         "Meia Linho",
         "2",
         "78",
         "156"
        ],
        [
         "29",
         "22",
         "2019-01-02 00:00:00",
         "Parque Dom Pedro Shopping",
         "Calça Liso",
         "2",
         "190",
         "380"
        ],
        [
         "30",
         "23",
         "2019-01-02 00:00:00",
         "Center Shopping Uberlândia",
         "Bermuda Estampa",
         "3",
         "169",
         "507"
        ],
        [
         "31",
         "23",
         "2019-01-02 00:00:00",
         "Center Shopping Uberlândia",
         "Chinelo Liso",
         "3",
         "71",
         "213"
        ],
        [
         "32",
         "26",
         "2019-01-02 00:00:00",
         "Shopping União de Osasco",
         "Chinelo",
         "2",
         "60",
         "120"
        ],
        [
         "33",
         "27",
         "2019-01-02 00:00:00",
         "Rio Mar Shopping Fortaleza",
         "Sunga Linho",
         "1",
         "149",
         "149"
        ],
        [
         "34",
         "27",
         "2019-01-02 00:00:00",
         "Rio Mar Shopping Fortaleza",
         "Terno Listrado",
         "2",
         "709",
         "1418"
        ],
        [
         "35",
         "29",
         "2019-01-02 00:00:00",
         "Shopping Center Leste Aricanduva",
         "Gorro Liso",
         "4",
         "92",
         "368"
        ],
        [
         "36",
         "31",
         "2019-01-02 00:00:00",
         "Shopping Eldorado",
         "Casaco Estampa",
         "3",
         "256",
         "768"
        ],
        [
         "37",
         "31",
         "2019-01-02 00:00:00",
         "Shopping Eldorado",
         "Pulseira",
         "3",
         "70",
         "210"
        ],
        [
         "38",
         "31",
         "2019-01-02 00:00:00",
         "Shopping Eldorado",
         "Gorro Linho",
         "1",
         "124",
         "124"
        ],
        [
         "39",
         "31",
         "2019-01-02 00:00:00",
         "Shopping Eldorado",
         "Cinto Linho",
         "3",
         "248",
         "744"
        ],
        [
         "40",
         "32",
         "2019-01-02 00:00:00",
         "Shopping Vila Velha",
         "Polo Liso",
         "1",
         "137",
         "137"
        ],
        [
         "41",
         "32",
         "2019-01-02 00:00:00",
         "Shopping Vila Velha",
         "Polo Listrado",
         "2",
         "149",
         "298"
        ],
        [
         "42",
         "33",
         "2019-01-02 00:00:00",
         "Shopping Midway Mall",
         "Camisa",
         "1",
         "100",
         "100"
        ],
        [
         "43",
         "33",
         "2019-01-02 00:00:00",
         "Shopping Midway Mall",
         "Meia Xadrez",
         "3",
         "41",
         "123"
        ],
        [
         "44",
         "34",
         "2019-01-02 00:00:00",
         "Iguatemi Esplanada",
         "Sapato Listrado",
         "1",
         "363",
         "363"
        ],
        [
         "45",
         "34",
         "2019-01-02 00:00:00",
         "Iguatemi Esplanada",
         "Camisa Gola V Liso",
         "2",
         "118",
         "236"
        ],
        [
         "46",
         "35",
         "2019-01-02 00:00:00",
         "Parque Dom Pedro Shopping",
         "Relógio",
         "2",
         "200",
         "400"
        ],
        [
         "47",
         "35",
         "2019-01-02 00:00:00",
         "Parque Dom Pedro Shopping",
         "Sapato",
         "2",
         "350",
         "700"
        ],
        [
         "48",
         "36",
         "2019-01-02 00:00:00",
         "Rio Mar Shopping Fortaleza",
         "Meia Listrado",
         "1",
         "37",
         "37"
        ],
        [
         "49",
         "38",
         "2019-01-02 00:00:00",
         "Shopping Vila Velha",
         "Meia Xadrez",
         "3",
         "41",
         "123"
        ]
       ],
       "shape": {
        "columns": 7,
        "rows": 93910
       }
      },
      "text/html": [
       "<div>\n",
       "<style scoped>\n",
       "    .dataframe tbody tr th:only-of-type {\n",
       "        vertical-align: middle;\n",
       "    }\n",
       "\n",
       "    .dataframe tbody tr th {\n",
       "        vertical-align: top;\n",
       "    }\n",
       "\n",
       "    .dataframe thead th {\n",
       "        text-align: right;\n",
       "    }\n",
       "</style>\n",
       "<table border=\"1\" class=\"dataframe\">\n",
       "  <thead>\n",
       "    <tr style=\"text-align: right;\">\n",
       "      <th></th>\n",
       "      <th>Código Venda</th>\n",
       "      <th>Data</th>\n",
       "      <th>ID Loja</th>\n",
       "      <th>Produto</th>\n",
       "      <th>Quantidade</th>\n",
       "      <th>Valor Unitário</th>\n",
       "      <th>Valor Final</th>\n",
       "    </tr>\n",
       "  </thead>\n",
       "  <tbody>\n",
       "    <tr>\n",
       "      <th>0</th>\n",
       "      <td>1</td>\n",
       "      <td>2019-01-01</td>\n",
       "      <td>Iguatemi Esplanada</td>\n",
       "      <td>Sapato Estampa</td>\n",
       "      <td>1</td>\n",
       "      <td>358</td>\n",
       "      <td>358</td>\n",
       "    </tr>\n",
       "    <tr>\n",
       "      <th>1</th>\n",
       "      <td>1</td>\n",
       "      <td>2019-01-01</td>\n",
       "      <td>Iguatemi Esplanada</td>\n",
       "      <td>Camiseta</td>\n",
       "      <td>2</td>\n",
       "      <td>180</td>\n",
       "      <td>360</td>\n",
       "    </tr>\n",
       "    <tr>\n",
       "      <th>2</th>\n",
       "      <td>1</td>\n",
       "      <td>2019-01-01</td>\n",
       "      <td>Iguatemi Esplanada</td>\n",
       "      <td>Sapato Xadrez</td>\n",
       "      <td>1</td>\n",
       "      <td>368</td>\n",
       "      <td>368</td>\n",
       "    </tr>\n",
       "    <tr>\n",
       "      <th>3</th>\n",
       "      <td>2</td>\n",
       "      <td>2019-01-02</td>\n",
       "      <td>Norte Shopping</td>\n",
       "      <td>Relógio</td>\n",
       "      <td>3</td>\n",
       "      <td>200</td>\n",
       "      <td>600</td>\n",
       "    </tr>\n",
       "    <tr>\n",
       "      <th>4</th>\n",
       "      <td>2</td>\n",
       "      <td>2019-01-02</td>\n",
       "      <td>Norte Shopping</td>\n",
       "      <td>Chinelo Liso</td>\n",
       "      <td>1</td>\n",
       "      <td>71</td>\n",
       "      <td>71</td>\n",
       "    </tr>\n",
       "    <tr>\n",
       "      <th>...</th>\n",
       "      <td>...</td>\n",
       "      <td>...</td>\n",
       "      <td>...</td>\n",
       "      <td>...</td>\n",
       "      <td>...</td>\n",
       "      <td>...</td>\n",
       "      <td>...</td>\n",
       "    </tr>\n",
       "    <tr>\n",
       "      <th>93905</th>\n",
       "      <td>65012</td>\n",
       "      <td>2019-11-30</td>\n",
       "      <td>Shopping Vila Velha</td>\n",
       "      <td>Mochila Xadrez</td>\n",
       "      <td>2</td>\n",
       "      <td>283</td>\n",
       "      <td>566</td>\n",
       "    </tr>\n",
       "    <tr>\n",
       "      <th>93906</th>\n",
       "      <td>65013</td>\n",
       "      <td>2019-11-30</td>\n",
       "      <td>Ribeirão Shopping</td>\n",
       "      <td>Pulseira Listrado</td>\n",
       "      <td>2</td>\n",
       "      <td>79</td>\n",
       "      <td>158</td>\n",
       "    </tr>\n",
       "    <tr>\n",
       "      <th>93907</th>\n",
       "      <td>65013</td>\n",
       "      <td>2019-11-30</td>\n",
       "      <td>Ribeirão Shopping</td>\n",
       "      <td>Cueca Listrado</td>\n",
       "      <td>3</td>\n",
       "      <td>67</td>\n",
       "      <td>201</td>\n",
       "    </tr>\n",
       "    <tr>\n",
       "      <th>93908</th>\n",
       "      <td>65014</td>\n",
       "      <td>2019-11-30</td>\n",
       "      <td>Shopping Morumbi</td>\n",
       "      <td>Pulseira Linho</td>\n",
       "      <td>5</td>\n",
       "      <td>114</td>\n",
       "      <td>570</td>\n",
       "    </tr>\n",
       "    <tr>\n",
       "      <th>93909</th>\n",
       "      <td>65014</td>\n",
       "      <td>2019-11-30</td>\n",
       "      <td>Shopping Morumbi</td>\n",
       "      <td>Casaco Xadrez</td>\n",
       "      <td>4</td>\n",
       "      <td>259</td>\n",
       "      <td>1036</td>\n",
       "    </tr>\n",
       "  </tbody>\n",
       "</table>\n",
       "<p>93910 rows × 7 columns</p>\n",
       "</div>"
      ],
      "text/plain": [
       "       Código Venda       Data              ID Loja            Produto  \\\n",
       "0                 1 2019-01-01   Iguatemi Esplanada     Sapato Estampa   \n",
       "1                 1 2019-01-01   Iguatemi Esplanada           Camiseta   \n",
       "2                 1 2019-01-01   Iguatemi Esplanada      Sapato Xadrez   \n",
       "3                 2 2019-01-02       Norte Shopping            Relógio   \n",
       "4                 2 2019-01-02       Norte Shopping       Chinelo Liso   \n",
       "...             ...        ...                  ...                ...   \n",
       "93905         65012 2019-11-30  Shopping Vila Velha     Mochila Xadrez   \n",
       "93906         65013 2019-11-30    Ribeirão Shopping  Pulseira Listrado   \n",
       "93907         65013 2019-11-30    Ribeirão Shopping     Cueca Listrado   \n",
       "93908         65014 2019-11-30     Shopping Morumbi     Pulseira Linho   \n",
       "93909         65014 2019-11-30     Shopping Morumbi      Casaco Xadrez   \n",
       "\n",
       "       Quantidade  Valor Unitário  Valor Final  \n",
       "0               1             358          358  \n",
       "1               2             180          360  \n",
       "2               1             368          368  \n",
       "3               3             200          600  \n",
       "4               1              71           71  \n",
       "...           ...             ...          ...  \n",
       "93905           2             283          566  \n",
       "93906           2              79          158  \n",
       "93907           3              67          201  \n",
       "93908           5             114          570  \n",
       "93909           4             259         1036  \n",
       "\n",
       "[93910 rows x 7 columns]"
      ]
     },
     "metadata": {},
     "output_type": "display_data"
    }
   ],
   "source": [
    "sales_df = pd.read_excel (\"Sales.xlsx\")\n",
    "display (sales_df)"
   ]
  },
  {
   "cell_type": "markdown",
   "id": "d1cfce4b",
   "metadata": {},
   "source": [
    "Resume of useful and simple Data Visualization \n",
    "- head: it shows the number of lines you set (the first 5, 10, etc lines of your dataframe).\n",
    "- shape: it shows how many columns and lines our table has in an easiest and faster way than making a display (very useful for big data bases).\n",
    "- describe: it takes only numeric columns and makes a resume of the basic statistical operations."
   ]
  },
  {
   "cell_type": "code",
   "execution_count": 174,
   "id": "77e1e4d0",
   "metadata": {},
   "outputs": [
    {
     "data": {
      "application/vnd.microsoft.datawrangler.viewer.v0+json": {
       "columns": [
        {
         "name": "index",
         "rawType": "int64",
         "type": "integer"
        },
        {
         "name": "Código Venda",
         "rawType": "int64",
         "type": "integer"
        },
        {
         "name": "Data",
         "rawType": "datetime64[ns]",
         "type": "datetime"
        },
        {
         "name": "ID Loja",
         "rawType": "object",
         "type": "string"
        },
        {
         "name": "Produto",
         "rawType": "object",
         "type": "string"
        },
        {
         "name": "Quantidade",
         "rawType": "int64",
         "type": "integer"
        },
        {
         "name": "Valor Unitário",
         "rawType": "int64",
         "type": "integer"
        },
        {
         "name": "Valor Final",
         "rawType": "int64",
         "type": "integer"
        }
       ],
       "ref": "b6e638e0-0fa0-4e06-9e04-ee50cdcbe348",
       "rows": [
        [
         "0",
         "1",
         "2019-01-01 00:00:00",
         "Iguatemi Esplanada",
         "Sapato Estampa",
         "1",
         "358",
         "358"
        ],
        [
         "1",
         "1",
         "2019-01-01 00:00:00",
         "Iguatemi Esplanada",
         "Camiseta",
         "2",
         "180",
         "360"
        ],
        [
         "2",
         "1",
         "2019-01-01 00:00:00",
         "Iguatemi Esplanada",
         "Sapato Xadrez",
         "1",
         "368",
         "368"
        ],
        [
         "3",
         "2",
         "2019-01-02 00:00:00",
         "Norte Shopping",
         "Relógio",
         "3",
         "200",
         "600"
        ],
        [
         "4",
         "2",
         "2019-01-02 00:00:00",
         "Norte Shopping",
         "Chinelo Liso",
         "1",
         "71",
         "71"
        ],
        [
         "5",
         "3",
         "2019-01-02 00:00:00",
         "Rio Mar Shopping Fortaleza",
         "Cinto Linho",
         "1",
         "248",
         "248"
        ],
        [
         "6",
         "5",
         "2019-01-02 00:00:00",
         "Shopping Barra",
         "Calça",
         "1",
         "170",
         "170"
        ],
        [
         "7",
         "6",
         "2019-01-02 00:00:00",
         "Shopping Ibirapuera",
         "Polo Listrado",
         "4",
         "149",
         "596"
        ],
        [
         "8",
         "7",
         "2019-01-02 00:00:00",
         "Norte Shopping",
         "Camisa Gola V Listrado",
         "1",
         "116",
         "116"
        ],
        [
         "9",
         "7",
         "2019-01-02 00:00:00",
         "Norte Shopping",
         "Camisa Liso",
         "1",
         "105",
         "105"
        ]
       ],
       "shape": {
        "columns": 7,
        "rows": 10
       }
      },
      "text/html": [
       "<div>\n",
       "<style scoped>\n",
       "    .dataframe tbody tr th:only-of-type {\n",
       "        vertical-align: middle;\n",
       "    }\n",
       "\n",
       "    .dataframe tbody tr th {\n",
       "        vertical-align: top;\n",
       "    }\n",
       "\n",
       "    .dataframe thead th {\n",
       "        text-align: right;\n",
       "    }\n",
       "</style>\n",
       "<table border=\"1\" class=\"dataframe\">\n",
       "  <thead>\n",
       "    <tr style=\"text-align: right;\">\n",
       "      <th></th>\n",
       "      <th>Código Venda</th>\n",
       "      <th>Data</th>\n",
       "      <th>ID Loja</th>\n",
       "      <th>Produto</th>\n",
       "      <th>Quantidade</th>\n",
       "      <th>Valor Unitário</th>\n",
       "      <th>Valor Final</th>\n",
       "    </tr>\n",
       "  </thead>\n",
       "  <tbody>\n",
       "    <tr>\n",
       "      <th>0</th>\n",
       "      <td>1</td>\n",
       "      <td>2019-01-01</td>\n",
       "      <td>Iguatemi Esplanada</td>\n",
       "      <td>Sapato Estampa</td>\n",
       "      <td>1</td>\n",
       "      <td>358</td>\n",
       "      <td>358</td>\n",
       "    </tr>\n",
       "    <tr>\n",
       "      <th>1</th>\n",
       "      <td>1</td>\n",
       "      <td>2019-01-01</td>\n",
       "      <td>Iguatemi Esplanada</td>\n",
       "      <td>Camiseta</td>\n",
       "      <td>2</td>\n",
       "      <td>180</td>\n",
       "      <td>360</td>\n",
       "    </tr>\n",
       "    <tr>\n",
       "      <th>2</th>\n",
       "      <td>1</td>\n",
       "      <td>2019-01-01</td>\n",
       "      <td>Iguatemi Esplanada</td>\n",
       "      <td>Sapato Xadrez</td>\n",
       "      <td>1</td>\n",
       "      <td>368</td>\n",
       "      <td>368</td>\n",
       "    </tr>\n",
       "    <tr>\n",
       "      <th>3</th>\n",
       "      <td>2</td>\n",
       "      <td>2019-01-02</td>\n",
       "      <td>Norte Shopping</td>\n",
       "      <td>Relógio</td>\n",
       "      <td>3</td>\n",
       "      <td>200</td>\n",
       "      <td>600</td>\n",
       "    </tr>\n",
       "    <tr>\n",
       "      <th>4</th>\n",
       "      <td>2</td>\n",
       "      <td>2019-01-02</td>\n",
       "      <td>Norte Shopping</td>\n",
       "      <td>Chinelo Liso</td>\n",
       "      <td>1</td>\n",
       "      <td>71</td>\n",
       "      <td>71</td>\n",
       "    </tr>\n",
       "    <tr>\n",
       "      <th>5</th>\n",
       "      <td>3</td>\n",
       "      <td>2019-01-02</td>\n",
       "      <td>Rio Mar Shopping Fortaleza</td>\n",
       "      <td>Cinto Linho</td>\n",
       "      <td>1</td>\n",
       "      <td>248</td>\n",
       "      <td>248</td>\n",
       "    </tr>\n",
       "    <tr>\n",
       "      <th>6</th>\n",
       "      <td>5</td>\n",
       "      <td>2019-01-02</td>\n",
       "      <td>Shopping Barra</td>\n",
       "      <td>Calça</td>\n",
       "      <td>1</td>\n",
       "      <td>170</td>\n",
       "      <td>170</td>\n",
       "    </tr>\n",
       "    <tr>\n",
       "      <th>7</th>\n",
       "      <td>6</td>\n",
       "      <td>2019-01-02</td>\n",
       "      <td>Shopping Ibirapuera</td>\n",
       "      <td>Polo Listrado</td>\n",
       "      <td>4</td>\n",
       "      <td>149</td>\n",
       "      <td>596</td>\n",
       "    </tr>\n",
       "    <tr>\n",
       "      <th>8</th>\n",
       "      <td>7</td>\n",
       "      <td>2019-01-02</td>\n",
       "      <td>Norte Shopping</td>\n",
       "      <td>Camisa Gola V Listrado</td>\n",
       "      <td>1</td>\n",
       "      <td>116</td>\n",
       "      <td>116</td>\n",
       "    </tr>\n",
       "    <tr>\n",
       "      <th>9</th>\n",
       "      <td>7</td>\n",
       "      <td>2019-01-02</td>\n",
       "      <td>Norte Shopping</td>\n",
       "      <td>Camisa Liso</td>\n",
       "      <td>1</td>\n",
       "      <td>105</td>\n",
       "      <td>105</td>\n",
       "    </tr>\n",
       "  </tbody>\n",
       "</table>\n",
       "</div>"
      ],
      "text/plain": [
       "   Código Venda       Data                     ID Loja  \\\n",
       "0             1 2019-01-01          Iguatemi Esplanada   \n",
       "1             1 2019-01-01          Iguatemi Esplanada   \n",
       "2             1 2019-01-01          Iguatemi Esplanada   \n",
       "3             2 2019-01-02              Norte Shopping   \n",
       "4             2 2019-01-02              Norte Shopping   \n",
       "5             3 2019-01-02  Rio Mar Shopping Fortaleza   \n",
       "6             5 2019-01-02              Shopping Barra   \n",
       "7             6 2019-01-02         Shopping Ibirapuera   \n",
       "8             7 2019-01-02              Norte Shopping   \n",
       "9             7 2019-01-02              Norte Shopping   \n",
       "\n",
       "                  Produto  Quantidade  Valor Unitário  Valor Final  \n",
       "0          Sapato Estampa           1             358          358  \n",
       "1                Camiseta           2             180          360  \n",
       "2           Sapato Xadrez           1             368          368  \n",
       "3                 Relógio           3             200          600  \n",
       "4            Chinelo Liso           1              71           71  \n",
       "5             Cinto Linho           1             248          248  \n",
       "6                   Calça           1             170          170  \n",
       "7           Polo Listrado           4             149          596  \n",
       "8  Camisa Gola V Listrado           1             116          116  \n",
       "9             Camisa Liso           1             105          105  "
      ]
     },
     "metadata": {},
     "output_type": "display_data"
    }
   ],
   "source": [
    "display (sales_df.head(10))"
   ]
  },
  {
   "cell_type": "code",
   "execution_count": 175,
   "id": "984e3f15",
   "metadata": {},
   "outputs": [
    {
     "name": "stdout",
     "output_type": "stream",
     "text": [
      "(93910, 7)\n"
     ]
    }
   ],
   "source": [
    "print (sales_df.shape)"
   ]
  },
  {
   "cell_type": "code",
   "execution_count": 176,
   "id": "28fb6b23",
   "metadata": {},
   "outputs": [
    {
     "data": {
      "application/vnd.microsoft.datawrangler.viewer.v0+json": {
       "columns": [
        {
         "name": "index",
         "rawType": "object",
         "type": "string"
        },
        {
         "name": "Código Venda",
         "rawType": "float64",
         "type": "float"
        },
        {
         "name": "Data",
         "rawType": "object",
         "type": "unknown"
        },
        {
         "name": "Quantidade",
         "rawType": "float64",
         "type": "float"
        },
        {
         "name": "Valor Unitário",
         "rawType": "float64",
         "type": "float"
        },
        {
         "name": "Valor Final",
         "rawType": "float64",
         "type": "float"
        }
       ],
       "ref": "5fd24443-849f-4e6c-b35a-bcf7ebfe9361",
       "rows": [
        [
         "count",
         "93910.0",
         "93910",
         "93910.0",
         "93910.0",
         "93910.0"
        ],
        [
         "mean",
         "32464.76",
         "2019-06-16 23:52:28.265360896",
         "2.17",
         "191.73",
         "414.86"
        ],
        [
         "min",
         "1.0",
         "2019-01-01 00:00:00",
         "1.0",
         "30.0",
         "30.0"
        ],
        [
         "25%",
         "16204.0",
         "2019-03-26 00:00:00",
         "1.0",
         "100.0",
         "156.0"
        ],
        [
         "50%",
         "32367.0",
         "2019-06-17 00:00:00",
         "2.0",
         "155.0",
         "274.0"
        ],
        [
         "75%",
         "48793.75",
         "2019-09-08 00:00:00",
         "3.0",
         "248.0",
         "524.0"
        ],
        [
         "max",
         "65014.0",
         "2019-11-30 00:00:00",
         "5.0",
         "750.0",
         "3750.0"
        ],
        [
         "std",
         "18809.01",
         null,
         "1.26",
         "145.22",
         "434.85"
        ]
       ],
       "shape": {
        "columns": 5,
        "rows": 8
       }
      },
      "text/html": [
       "<div>\n",
       "<style scoped>\n",
       "    .dataframe tbody tr th:only-of-type {\n",
       "        vertical-align: middle;\n",
       "    }\n",
       "\n",
       "    .dataframe tbody tr th {\n",
       "        vertical-align: top;\n",
       "    }\n",
       "\n",
       "    .dataframe thead th {\n",
       "        text-align: right;\n",
       "    }\n",
       "</style>\n",
       "<table border=\"1\" class=\"dataframe\">\n",
       "  <thead>\n",
       "    <tr style=\"text-align: right;\">\n",
       "      <th></th>\n",
       "      <th>Código Venda</th>\n",
       "      <th>Data</th>\n",
       "      <th>Quantidade</th>\n",
       "      <th>Valor Unitário</th>\n",
       "      <th>Valor Final</th>\n",
       "    </tr>\n",
       "  </thead>\n",
       "  <tbody>\n",
       "    <tr>\n",
       "      <th>count</th>\n",
       "      <td>93910.00</td>\n",
       "      <td>93910</td>\n",
       "      <td>93910.00</td>\n",
       "      <td>93910.00</td>\n",
       "      <td>93910.00</td>\n",
       "    </tr>\n",
       "    <tr>\n",
       "      <th>mean</th>\n",
       "      <td>32464.76</td>\n",
       "      <td>2019-06-16 23:52:28.265360896</td>\n",
       "      <td>2.17</td>\n",
       "      <td>191.73</td>\n",
       "      <td>414.86</td>\n",
       "    </tr>\n",
       "    <tr>\n",
       "      <th>min</th>\n",
       "      <td>1.00</td>\n",
       "      <td>2019-01-01 00:00:00</td>\n",
       "      <td>1.00</td>\n",
       "      <td>30.00</td>\n",
       "      <td>30.00</td>\n",
       "    </tr>\n",
       "    <tr>\n",
       "      <th>25%</th>\n",
       "      <td>16204.00</td>\n",
       "      <td>2019-03-26 00:00:00</td>\n",
       "      <td>1.00</td>\n",
       "      <td>100.00</td>\n",
       "      <td>156.00</td>\n",
       "    </tr>\n",
       "    <tr>\n",
       "      <th>50%</th>\n",
       "      <td>32367.00</td>\n",
       "      <td>2019-06-17 00:00:00</td>\n",
       "      <td>2.00</td>\n",
       "      <td>155.00</td>\n",
       "      <td>274.00</td>\n",
       "    </tr>\n",
       "    <tr>\n",
       "      <th>75%</th>\n",
       "      <td>48793.75</td>\n",
       "      <td>2019-09-08 00:00:00</td>\n",
       "      <td>3.00</td>\n",
       "      <td>248.00</td>\n",
       "      <td>524.00</td>\n",
       "    </tr>\n",
       "    <tr>\n",
       "      <th>max</th>\n",
       "      <td>65014.00</td>\n",
       "      <td>2019-11-30 00:00:00</td>\n",
       "      <td>5.00</td>\n",
       "      <td>750.00</td>\n",
       "      <td>3750.00</td>\n",
       "    </tr>\n",
       "    <tr>\n",
       "      <th>std</th>\n",
       "      <td>18809.01</td>\n",
       "      <td>NaN</td>\n",
       "      <td>1.26</td>\n",
       "      <td>145.22</td>\n",
       "      <td>434.85</td>\n",
       "    </tr>\n",
       "  </tbody>\n",
       "</table>\n",
       "</div>"
      ],
      "text/plain": [
       "       Código Venda                           Data  Quantidade  \\\n",
       "count      93910.00                          93910    93910.00   \n",
       "mean       32464.76  2019-06-16 23:52:28.265360896        2.17   \n",
       "min            1.00            2019-01-01 00:00:00        1.00   \n",
       "25%        16204.00            2019-03-26 00:00:00        1.00   \n",
       "50%        32367.00            2019-06-17 00:00:00        2.00   \n",
       "75%        48793.75            2019-09-08 00:00:00        3.00   \n",
       "max        65014.00            2019-11-30 00:00:00        5.00   \n",
       "std        18809.01                            NaN        1.26   \n",
       "\n",
       "       Valor Unitário  Valor Final  \n",
       "count        93910.00     93910.00  \n",
       "mean           191.73       414.86  \n",
       "min             30.00        30.00  \n",
       "25%            100.00       156.00  \n",
       "50%            155.00       274.00  \n",
       "75%            248.00       524.00  \n",
       "max            750.00      3750.00  \n",
       "std            145.22       434.85  "
      ]
     },
     "metadata": {},
     "output_type": "display_data"
    }
   ],
   "source": [
    "display(sales_df.describe().round(2)) #to make the table more visual we use round to round decimal places to two decimal places.\n"
   ]
  },
  {
   "cell_type": "markdown",
   "id": "db06e05e",
   "metadata": {},
   "source": [
    "Editing of our Data Frame"
   ]
  },
  {
   "cell_type": "markdown",
   "id": "16f6e217",
   "metadata": {},
   "source": [
    "Analysing only one column of our Data Frame"
   ]
  },
  {
   "cell_type": "code",
   "execution_count": 177,
   "id": "17a2176a",
   "metadata": {},
   "outputs": [
    {
     "data": {
      "application/vnd.microsoft.datawrangler.viewer.v0+json": {
       "columns": [
        {
         "name": "index",
         "rawType": "int64",
         "type": "integer"
        },
        {
         "name": "Produto",
         "rawType": "object",
         "type": "string"
        }
       ],
       "ref": "d4231d41-0972-4b7a-b595-3e966b79e7e0",
       "rows": [
        [
         "0",
         "Sapato Estampa"
        ],
        [
         "1",
         "Camiseta"
        ],
        [
         "2",
         "Sapato Xadrez"
        ],
        [
         "3",
         "Relógio"
        ],
        [
         "4",
         "Chinelo Liso"
        ],
        [
         "5",
         "Cinto Linho"
        ],
        [
         "6",
         "Calça"
        ],
        [
         "7",
         "Polo Listrado"
        ],
        [
         "8",
         "Camisa Gola V Listrado"
        ],
        [
         "9",
         "Camisa Liso"
        ],
        [
         "10",
         "Terno Estampa"
        ],
        [
         "11",
         "Tênis Linho"
        ],
        [
         "12",
         "Casaco Xadrez"
        ],
        [
         "13",
         "Camiseta Xadrez"
        ],
        [
         "14",
         "Cueca Liso"
        ],
        [
         "15",
         "Camiseta"
        ],
        [
         "16",
         "Calça Listrado"
        ],
        [
         "17",
         "Camisa Estampa"
        ],
        [
         "18",
         "Short Xadrez"
        ],
        [
         "19",
         "Sunga Liso"
        ],
        [
         "20",
         "Casaco Liso"
        ],
        [
         "21",
         "Chinelo Liso"
        ],
        [
         "22",
         "Camisa Estampa"
        ],
        [
         "23",
         "Relógio Listrado"
        ],
        [
         "24",
         "Calça Linho"
        ],
        [
         "25",
         "Mochila Liso"
        ],
        [
         "26",
         "Camisa Gola V Listrado"
        ],
        [
         "27",
         "Meia"
        ],
        [
         "28",
         "Meia Linho"
        ],
        [
         "29",
         "Calça Liso"
        ],
        [
         "30",
         "Bermuda Estampa"
        ],
        [
         "31",
         "Chinelo Liso"
        ],
        [
         "32",
         "Chinelo"
        ],
        [
         "33",
         "Sunga Linho"
        ],
        [
         "34",
         "Terno Listrado"
        ],
        [
         "35",
         "Gorro Liso"
        ],
        [
         "36",
         "Casaco Estampa"
        ],
        [
         "37",
         "Pulseira"
        ],
        [
         "38",
         "Gorro Linho"
        ],
        [
         "39",
         "Cinto Linho"
        ],
        [
         "40",
         "Polo Liso"
        ],
        [
         "41",
         "Polo Listrado"
        ],
        [
         "42",
         "Camisa"
        ],
        [
         "43",
         "Meia Xadrez"
        ],
        [
         "44",
         "Sapato Listrado"
        ],
        [
         "45",
         "Camisa Gola V Liso"
        ],
        [
         "46",
         "Relógio"
        ],
        [
         "47",
         "Sapato"
        ],
        [
         "48",
         "Meia Listrado"
        ],
        [
         "49",
         "Meia Xadrez"
        ]
       ],
       "shape": {
        "columns": 1,
        "rows": 93910
       }
      },
      "text/plain": [
       "0           Sapato Estampa\n",
       "1                 Camiseta\n",
       "2            Sapato Xadrez\n",
       "3                  Relógio\n",
       "4             Chinelo Liso\n",
       "               ...        \n",
       "93905       Mochila Xadrez\n",
       "93906    Pulseira Listrado\n",
       "93907       Cueca Listrado\n",
       "93908       Pulseira Linho\n",
       "93909        Casaco Xadrez\n",
       "Name: Produto, Length: 93910, dtype: object"
      ]
     },
     "metadata": {},
     "output_type": "display_data"
    }
   ],
   "source": [
    "# to call only one column of our Data Frama we need to create a variable\n",
    "\n",
    "products = sales_df ['Produto']\n",
    "display (products)"
   ]
  },
  {
   "cell_type": "code",
   "execution_count": 178,
   "id": "a5d1908f",
   "metadata": {},
   "outputs": [
    {
     "data": {
      "application/vnd.microsoft.datawrangler.viewer.v0+json": {
       "columns": [
        {
         "name": "index",
         "rawType": "int64",
         "type": "integer"
        },
        {
         "name": "Produto",
         "rawType": "object",
         "type": "string"
        },
        {
         "name": "ID Loja",
         "rawType": "object",
         "type": "string"
        }
       ],
       "ref": "dae311fd-4c9e-4896-8750-786c622b9271",
       "rows": [
        [
         "0",
         "Sapato Estampa",
         "Iguatemi Esplanada"
        ],
        [
         "1",
         "Camiseta",
         "Iguatemi Esplanada"
        ],
        [
         "2",
         "Sapato Xadrez",
         "Iguatemi Esplanada"
        ],
        [
         "3",
         "Relógio",
         "Norte Shopping"
        ],
        [
         "4",
         "Chinelo Liso",
         "Norte Shopping"
        ],
        [
         "5",
         "Cinto Linho",
         "Rio Mar Shopping Fortaleza"
        ],
        [
         "6",
         "Calça",
         "Shopping Barra"
        ],
        [
         "7",
         "Polo Listrado",
         "Shopping Ibirapuera"
        ],
        [
         "8",
         "Camisa Gola V Listrado",
         "Norte Shopping"
        ],
        [
         "9",
         "Camisa Liso",
         "Norte Shopping"
        ],
        [
         "10",
         "Terno Estampa",
         "Iguatemi Campinas"
        ],
        [
         "11",
         "Tênis Linho",
         "Shopping Center Leste Aricanduva"
        ],
        [
         "12",
         "Casaco Xadrez",
         "Shopping Center Leste Aricanduva"
        ],
        [
         "13",
         "Camiseta Xadrez",
         "Passei das Águas Shopping"
        ],
        [
         "14",
         "Cueca Liso",
         "Passei das Águas Shopping"
        ],
        [
         "15",
         "Camiseta",
         "Shopping Recife"
        ],
        [
         "16",
         "Calça Listrado",
         "Shopping Recife"
        ],
        [
         "17",
         "Camisa Estampa",
         "Shopping Recife"
        ],
        [
         "18",
         "Short Xadrez",
         "Shopping Midway Mall"
        ],
        [
         "19",
         "Sunga Liso",
         "Shopping Midway Mall"
        ],
        [
         "20",
         "Casaco Liso",
         "Bourbon Shopping SP"
        ],
        [
         "21",
         "Chinelo Liso",
         "Iguatemi Campinas"
        ],
        [
         "22",
         "Camisa Estampa",
         "Rio Mar Shopping Fortaleza"
        ],
        [
         "23",
         "Relógio Listrado",
         "Passei das Águas Shopping"
        ],
        [
         "24",
         "Calça Linho",
         "Passei das Águas Shopping"
        ],
        [
         "25",
         "Mochila Liso",
         "Shopping Center Interlagos"
        ],
        [
         "26",
         "Camisa Gola V Listrado",
         "Iguatemi Esplanada"
        ],
        [
         "27",
         "Meia",
         "Parque Dom Pedro Shopping"
        ],
        [
         "28",
         "Meia Linho",
         "Parque Dom Pedro Shopping"
        ],
        [
         "29",
         "Calça Liso",
         "Parque Dom Pedro Shopping"
        ],
        [
         "30",
         "Bermuda Estampa",
         "Center Shopping Uberlândia"
        ],
        [
         "31",
         "Chinelo Liso",
         "Center Shopping Uberlândia"
        ],
        [
         "32",
         "Chinelo",
         "Shopping União de Osasco"
        ],
        [
         "33",
         "Sunga Linho",
         "Rio Mar Shopping Fortaleza"
        ],
        [
         "34",
         "Terno Listrado",
         "Rio Mar Shopping Fortaleza"
        ],
        [
         "35",
         "Gorro Liso",
         "Shopping Center Leste Aricanduva"
        ],
        [
         "36",
         "Casaco Estampa",
         "Shopping Eldorado"
        ],
        [
         "37",
         "Pulseira",
         "Shopping Eldorado"
        ],
        [
         "38",
         "Gorro Linho",
         "Shopping Eldorado"
        ],
        [
         "39",
         "Cinto Linho",
         "Shopping Eldorado"
        ],
        [
         "40",
         "Polo Liso",
         "Shopping Vila Velha"
        ],
        [
         "41",
         "Polo Listrado",
         "Shopping Vila Velha"
        ],
        [
         "42",
         "Camisa",
         "Shopping Midway Mall"
        ],
        [
         "43",
         "Meia Xadrez",
         "Shopping Midway Mall"
        ],
        [
         "44",
         "Sapato Listrado",
         "Iguatemi Esplanada"
        ],
        [
         "45",
         "Camisa Gola V Liso",
         "Iguatemi Esplanada"
        ],
        [
         "46",
         "Relógio",
         "Parque Dom Pedro Shopping"
        ],
        [
         "47",
         "Sapato",
         "Parque Dom Pedro Shopping"
        ],
        [
         "48",
         "Meia Listrado",
         "Rio Mar Shopping Fortaleza"
        ],
        [
         "49",
         "Meia Xadrez",
         "Shopping Vila Velha"
        ]
       ],
       "shape": {
        "columns": 2,
        "rows": 93910
       }
      },
      "text/html": [
       "<div>\n",
       "<style scoped>\n",
       "    .dataframe tbody tr th:only-of-type {\n",
       "        vertical-align: middle;\n",
       "    }\n",
       "\n",
       "    .dataframe tbody tr th {\n",
       "        vertical-align: top;\n",
       "    }\n",
       "\n",
       "    .dataframe thead th {\n",
       "        text-align: right;\n",
       "    }\n",
       "</style>\n",
       "<table border=\"1\" class=\"dataframe\">\n",
       "  <thead>\n",
       "    <tr style=\"text-align: right;\">\n",
       "      <th></th>\n",
       "      <th>Produto</th>\n",
       "      <th>ID Loja</th>\n",
       "    </tr>\n",
       "  </thead>\n",
       "  <tbody>\n",
       "    <tr>\n",
       "      <th>0</th>\n",
       "      <td>Sapato Estampa</td>\n",
       "      <td>Iguatemi Esplanada</td>\n",
       "    </tr>\n",
       "    <tr>\n",
       "      <th>1</th>\n",
       "      <td>Camiseta</td>\n",
       "      <td>Iguatemi Esplanada</td>\n",
       "    </tr>\n",
       "    <tr>\n",
       "      <th>2</th>\n",
       "      <td>Sapato Xadrez</td>\n",
       "      <td>Iguatemi Esplanada</td>\n",
       "    </tr>\n",
       "    <tr>\n",
       "      <th>3</th>\n",
       "      <td>Relógio</td>\n",
       "      <td>Norte Shopping</td>\n",
       "    </tr>\n",
       "    <tr>\n",
       "      <th>4</th>\n",
       "      <td>Chinelo Liso</td>\n",
       "      <td>Norte Shopping</td>\n",
       "    </tr>\n",
       "    <tr>\n",
       "      <th>...</th>\n",
       "      <td>...</td>\n",
       "      <td>...</td>\n",
       "    </tr>\n",
       "    <tr>\n",
       "      <th>93905</th>\n",
       "      <td>Mochila Xadrez</td>\n",
       "      <td>Shopping Vila Velha</td>\n",
       "    </tr>\n",
       "    <tr>\n",
       "      <th>93906</th>\n",
       "      <td>Pulseira Listrado</td>\n",
       "      <td>Ribeirão Shopping</td>\n",
       "    </tr>\n",
       "    <tr>\n",
       "      <th>93907</th>\n",
       "      <td>Cueca Listrado</td>\n",
       "      <td>Ribeirão Shopping</td>\n",
       "    </tr>\n",
       "    <tr>\n",
       "      <th>93908</th>\n",
       "      <td>Pulseira Linho</td>\n",
       "      <td>Shopping Morumbi</td>\n",
       "    </tr>\n",
       "    <tr>\n",
       "      <th>93909</th>\n",
       "      <td>Casaco Xadrez</td>\n",
       "      <td>Shopping Morumbi</td>\n",
       "    </tr>\n",
       "  </tbody>\n",
       "</table>\n",
       "<p>93910 rows × 2 columns</p>\n",
       "</div>"
      ],
      "text/plain": [
       "                 Produto              ID Loja\n",
       "0         Sapato Estampa   Iguatemi Esplanada\n",
       "1               Camiseta   Iguatemi Esplanada\n",
       "2          Sapato Xadrez   Iguatemi Esplanada\n",
       "3                Relógio       Norte Shopping\n",
       "4           Chinelo Liso       Norte Shopping\n",
       "...                  ...                  ...\n",
       "93905     Mochila Xadrez  Shopping Vila Velha\n",
       "93906  Pulseira Listrado    Ribeirão Shopping\n",
       "93907     Cueca Listrado    Ribeirão Shopping\n",
       "93908     Pulseira Linho     Shopping Morumbi\n",
       "93909      Casaco Xadrez     Shopping Morumbi\n",
       "\n",
       "[93910 rows x 2 columns]"
      ]
     },
     "metadata": {},
     "output_type": "display_data"
    }
   ],
   "source": [
    "# We can also call more than one column\n",
    "products = sales_df [['Produto', 'ID Loja']]\n",
    "display (products)"
   ]
  },
  {
   "cell_type": "markdown",
   "id": "85ac5bd2",
   "metadata": {},
   "source": [
    "To call one row, one row taking into account some condition, specific rows and columns or a specifi value we use the .loc method."
   ]
  },
  {
   "cell_type": "code",
   "execution_count": 179,
   "id": "0c77d7dc",
   "metadata": {},
   "outputs": [
    {
     "data": {
      "application/vnd.microsoft.datawrangler.viewer.v0+json": {
       "columns": [
        {
         "name": "index",
         "rawType": "object",
         "type": "string"
        },
        {
         "name": "1",
         "rawType": "object",
         "type": "unknown"
        }
       ],
       "ref": "cd178531-edc2-4243-a503-626bb53c07c4",
       "rows": [
        [
         "Código Venda",
         "1"
        ],
        [
         "Data",
         "2019-01-01 00:00:00"
        ],
        [
         "ID Loja",
         "Iguatemi Esplanada"
        ],
        [
         "Produto",
         "Camiseta"
        ],
        [
         "Quantidade",
         "2"
        ],
        [
         "Valor Unitário",
         "180"
        ],
        [
         "Valor Final",
         "360"
        ]
       ],
       "shape": {
        "columns": 1,
        "rows": 7
       }
      },
      "text/plain": [
       "Código Venda                        1\n",
       "Data              2019-01-01 00:00:00\n",
       "ID Loja            Iguatemi Esplanada\n",
       "Produto                      Camiseta\n",
       "Quantidade                          2\n",
       "Valor Unitário                    180\n",
       "Valor Final                       360\n",
       "Name: 1, dtype: object"
      ]
     },
     "metadata": {},
     "output_type": "display_data"
    }
   ],
   "source": [
    "# call only a row of my table\n",
    "display(sales_df.loc[1]) # brings the row of index 1"
   ]
  },
  {
   "cell_type": "code",
   "execution_count": 180,
   "id": "acba1b85",
   "metadata": {},
   "outputs": [
    {
     "data": {
      "application/vnd.microsoft.datawrangler.viewer.v0+json": {
       "columns": [
        {
         "name": "index",
         "rawType": "int64",
         "type": "integer"
        },
        {
         "name": "Código Venda",
         "rawType": "int64",
         "type": "integer"
        },
        {
         "name": "Data",
         "rawType": "datetime64[ns]",
         "type": "datetime"
        },
        {
         "name": "ID Loja",
         "rawType": "object",
         "type": "string"
        },
        {
         "name": "Produto",
         "rawType": "object",
         "type": "string"
        },
        {
         "name": "Quantidade",
         "rawType": "int64",
         "type": "integer"
        },
        {
         "name": "Valor Unitário",
         "rawType": "int64",
         "type": "integer"
        },
        {
         "name": "Valor Final",
         "rawType": "int64",
         "type": "integer"
        }
       ],
       "ref": "600affa2-9b84-4f55-8639-c717586f3be5",
       "rows": [
        [
         "1",
         "1",
         "2019-01-01 00:00:00",
         "Iguatemi Esplanada",
         "Camiseta",
         "2",
         "180",
         "360"
        ],
        [
         "2",
         "1",
         "2019-01-01 00:00:00",
         "Iguatemi Esplanada",
         "Sapato Xadrez",
         "1",
         "368",
         "368"
        ],
        [
         "3",
         "2",
         "2019-01-02 00:00:00",
         "Norte Shopping",
         "Relógio",
         "3",
         "200",
         "600"
        ],
        [
         "4",
         "2",
         "2019-01-02 00:00:00",
         "Norte Shopping",
         "Chinelo Liso",
         "1",
         "71",
         "71"
        ],
        [
         "5",
         "3",
         "2019-01-02 00:00:00",
         "Rio Mar Shopping Fortaleza",
         "Cinto Linho",
         "1",
         "248",
         "248"
        ]
       ],
       "shape": {
        "columns": 7,
        "rows": 5
       }
      },
      "text/html": [
       "<div>\n",
       "<style scoped>\n",
       "    .dataframe tbody tr th:only-of-type {\n",
       "        vertical-align: middle;\n",
       "    }\n",
       "\n",
       "    .dataframe tbody tr th {\n",
       "        vertical-align: top;\n",
       "    }\n",
       "\n",
       "    .dataframe thead th {\n",
       "        text-align: right;\n",
       "    }\n",
       "</style>\n",
       "<table border=\"1\" class=\"dataframe\">\n",
       "  <thead>\n",
       "    <tr style=\"text-align: right;\">\n",
       "      <th></th>\n",
       "      <th>Código Venda</th>\n",
       "      <th>Data</th>\n",
       "      <th>ID Loja</th>\n",
       "      <th>Produto</th>\n",
       "      <th>Quantidade</th>\n",
       "      <th>Valor Unitário</th>\n",
       "      <th>Valor Final</th>\n",
       "    </tr>\n",
       "  </thead>\n",
       "  <tbody>\n",
       "    <tr>\n",
       "      <th>1</th>\n",
       "      <td>1</td>\n",
       "      <td>2019-01-01</td>\n",
       "      <td>Iguatemi Esplanada</td>\n",
       "      <td>Camiseta</td>\n",
       "      <td>2</td>\n",
       "      <td>180</td>\n",
       "      <td>360</td>\n",
       "    </tr>\n",
       "    <tr>\n",
       "      <th>2</th>\n",
       "      <td>1</td>\n",
       "      <td>2019-01-01</td>\n",
       "      <td>Iguatemi Esplanada</td>\n",
       "      <td>Sapato Xadrez</td>\n",
       "      <td>1</td>\n",
       "      <td>368</td>\n",
       "      <td>368</td>\n",
       "    </tr>\n",
       "    <tr>\n",
       "      <th>3</th>\n",
       "      <td>2</td>\n",
       "      <td>2019-01-02</td>\n",
       "      <td>Norte Shopping</td>\n",
       "      <td>Relógio</td>\n",
       "      <td>3</td>\n",
       "      <td>200</td>\n",
       "      <td>600</td>\n",
       "    </tr>\n",
       "    <tr>\n",
       "      <th>4</th>\n",
       "      <td>2</td>\n",
       "      <td>2019-01-02</td>\n",
       "      <td>Norte Shopping</td>\n",
       "      <td>Chinelo Liso</td>\n",
       "      <td>1</td>\n",
       "      <td>71</td>\n",
       "      <td>71</td>\n",
       "    </tr>\n",
       "    <tr>\n",
       "      <th>5</th>\n",
       "      <td>3</td>\n",
       "      <td>2019-01-02</td>\n",
       "      <td>Rio Mar Shopping Fortaleza</td>\n",
       "      <td>Cinto Linho</td>\n",
       "      <td>1</td>\n",
       "      <td>248</td>\n",
       "      <td>248</td>\n",
       "    </tr>\n",
       "  </tbody>\n",
       "</table>\n",
       "</div>"
      ],
      "text/plain": [
       "   Código Venda       Data                     ID Loja        Produto  \\\n",
       "1             1 2019-01-01          Iguatemi Esplanada       Camiseta   \n",
       "2             1 2019-01-01          Iguatemi Esplanada  Sapato Xadrez   \n",
       "3             2 2019-01-02              Norte Shopping        Relógio   \n",
       "4             2 2019-01-02              Norte Shopping   Chinelo Liso   \n",
       "5             3 2019-01-02  Rio Mar Shopping Fortaleza    Cinto Linho   \n",
       "\n",
       "   Quantidade  Valor Unitário  Valor Final  \n",
       "1           2             180          360  \n",
       "2           1             368          368  \n",
       "3           3             200          600  \n",
       "4           1              71           71  \n",
       "5           1             248          248  "
      ]
     },
     "metadata": {},
     "output_type": "display_data"
    }
   ],
   "source": [
    "# call from one row to another row\n",
    "display(sales_df.loc[1:5]) # brings rows form index 1 until index 5"
   ]
  },
  {
   "cell_type": "code",
   "execution_count": 181,
   "id": "ceab6100",
   "metadata": {},
   "outputs": [
    {
     "data": {
      "application/vnd.microsoft.datawrangler.viewer.v0+json": {
       "columns": [
        {
         "name": "index",
         "rawType": "int64",
         "type": "integer"
        },
        {
         "name": "Código Venda",
         "rawType": "int64",
         "type": "integer"
        },
        {
         "name": "Data",
         "rawType": "datetime64[ns]",
         "type": "datetime"
        },
        {
         "name": "ID Loja",
         "rawType": "object",
         "type": "string"
        },
        {
         "name": "Produto",
         "rawType": "object",
         "type": "string"
        },
        {
         "name": "Quantidade",
         "rawType": "int64",
         "type": "integer"
        },
        {
         "name": "Valor Unitário",
         "rawType": "int64",
         "type": "integer"
        },
        {
         "name": "Valor Final",
         "rawType": "int64",
         "type": "integer"
        }
       ],
       "ref": "0954551d-30b8-4624-b480-5682f63f615d",
       "rows": [
        [
         "3",
         "2",
         "2019-01-02 00:00:00",
         "Norte Shopping",
         "Relógio",
         "3",
         "200",
         "600"
        ],
        [
         "4",
         "2",
         "2019-01-02 00:00:00",
         "Norte Shopping",
         "Chinelo Liso",
         "1",
         "71",
         "71"
        ],
        [
         "8",
         "7",
         "2019-01-02 00:00:00",
         "Norte Shopping",
         "Camisa Gola V Listrado",
         "1",
         "116",
         "116"
        ],
        [
         "9",
         "7",
         "2019-01-02 00:00:00",
         "Norte Shopping",
         "Camisa Liso",
         "1",
         "105",
         "105"
        ],
        [
         "100",
         "73",
         "2019-01-02 00:00:00",
         "Norte Shopping",
         "Cueca Xadrez",
         "5",
         "60",
         "300"
        ],
        [
         "101",
         "73",
         "2019-01-02 00:00:00",
         "Norte Shopping",
         "Cueca Listrado",
         "1",
         "67",
         "67"
        ],
        [
         "182",
         "137",
         "2019-01-02 00:00:00",
         "Norte Shopping",
         "Cueca",
         "2",
         "50",
         "100"
        ],
        [
         "201",
         "147",
         "2019-01-02 00:00:00",
         "Norte Shopping",
         "Camisa Xadrez",
         "2",
         "105",
         "210"
        ],
        [
         "202",
         "147",
         "2019-01-02 00:00:00",
         "Norte Shopping",
         "Cueca",
         "3",
         "50",
         "150"
        ],
        [
         "203",
         "147",
         "2019-01-02 00:00:00",
         "Norte Shopping",
         "Gorro Liso",
         "2",
         "92",
         "184"
        ],
        [
         "270",
         "195",
         "2019-01-02 00:00:00",
         "Norte Shopping",
         "Cinto",
         "1",
         "200",
         "200"
        ],
        [
         "271",
         "195",
         "2019-01-02 00:00:00",
         "Norte Shopping",
         "Relógio Liso",
         "3",
         "216",
         "648"
        ],
        [
         "272",
         "196",
         "2019-01-02 00:00:00",
         "Norte Shopping",
         "Cueca Xadrez",
         "2",
         "60",
         "120"
        ],
        [
         "277",
         "201",
         "2019-01-02 00:00:00",
         "Norte Shopping",
         "Relógio",
         "2",
         "200",
         "400"
        ],
        [
         "278",
         "201",
         "2019-01-02 00:00:00",
         "Norte Shopping",
         "Mochila Estampa",
         "3",
         "277",
         "831"
        ],
        [
         "340",
         "244",
         "2019-01-03 00:00:00",
         "Norte Shopping",
         "Pulseira Liso",
         "1",
         "87",
         "87"
        ],
        [
         "342",
         "247",
         "2019-01-03 00:00:00",
         "Norte Shopping",
         "Camisa Gola V Listrado",
         "2",
         "116",
         "232"
        ],
        [
         "343",
         "247",
         "2019-01-03 00:00:00",
         "Norte Shopping",
         "Polo Xadrez",
         "1",
         "142",
         "142"
        ],
        [
         "449",
         "317",
         "2019-01-03 00:00:00",
         "Norte Shopping",
         "Chinelo Liso",
         "1",
         "71",
         "71"
        ],
        [
         "450",
         "317",
         "2019-01-03 00:00:00",
         "Norte Shopping",
         "Meia Listrado",
         "1",
         "37",
         "37"
        ],
        [
         "547",
         "380",
         "2019-01-03 00:00:00",
         "Norte Shopping",
         "Mochila Estampa",
         "1",
         "277",
         "277"
        ],
        [
         "588",
         "402",
         "2019-01-04 00:00:00",
         "Norte Shopping",
         "Camiseta Xadrez",
         "1",
         "200",
         "200"
        ],
        [
         "589",
         "402",
         "2019-01-04 00:00:00",
         "Norte Shopping",
         "Meia Xadrez",
         "1",
         "41",
         "41"
        ],
        [
         "590",
         "402",
         "2019-01-04 00:00:00",
         "Norte Shopping",
         "Polo",
         "5",
         "130",
         "650"
        ],
        [
         "648",
         "439",
         "2019-01-04 00:00:00",
         "Norte Shopping",
         "Pulseira Estampa",
         "4",
         "87",
         "348"
        ],
        [
         "690",
         "466",
         "2019-01-04 00:00:00",
         "Norte Shopping",
         "Camisa Listrado",
         "1",
         "108",
         "108"
        ],
        [
         "691",
         "466",
         "2019-01-04 00:00:00",
         "Norte Shopping",
         "Meia Xadrez",
         "1",
         "41",
         "41"
        ],
        [
         "825",
         "555",
         "2019-01-04 00:00:00",
         "Norte Shopping",
         "Gorro Liso",
         "1",
         "92",
         "92"
        ],
        [
         "826",
         "555",
         "2019-01-04 00:00:00",
         "Norte Shopping",
         "Cueca Linho",
         "1",
         "93",
         "93"
        ],
        [
         "827",
         "555",
         "2019-01-04 00:00:00",
         "Norte Shopping",
         "Casaco Liso",
         "1",
         "255",
         "255"
        ],
        [
         "837",
         "561",
         "2019-01-04 00:00:00",
         "Norte Shopping",
         "Calça Xadrez",
         "2",
         "185",
         "370"
        ],
        [
         "838",
         "561",
         "2019-01-04 00:00:00",
         "Norte Shopping",
         "Camiseta Linho",
         "1",
         "223",
         "223"
        ],
        [
         "951",
         "636",
         "2019-01-05 00:00:00",
         "Norte Shopping",
         "Cinto",
         "4",
         "200",
         "800"
        ],
        [
         "952",
         "636",
         "2019-01-05 00:00:00",
         "Norte Shopping",
         "Mochila Listrado",
         "3",
         "275",
         "825"
        ],
        [
         "1010",
         "672",
         "2019-01-05 00:00:00",
         "Norte Shopping",
         "Camiseta Linho",
         "1",
         "223",
         "223"
        ],
        [
         "1078",
         "720",
         "2019-01-05 00:00:00",
         "Norte Shopping",
         "Cueca Xadrez",
         "2",
         "60",
         "120"
        ],
        [
         "1131",
         "748",
         "2019-01-06 00:00:00",
         "Norte Shopping",
         "Camisa Gola V",
         "2",
         "100",
         "200"
        ],
        [
         "1132",
         "748",
         "2019-01-06 00:00:00",
         "Norte Shopping",
         "Tênis Liso",
         "2",
         "266",
         "532"
        ],
        [
         "1141",
         "756",
         "2019-01-06 00:00:00",
         "Norte Shopping",
         "Polo Listrado",
         "3",
         "149",
         "447"
        ],
        [
         "1142",
         "756",
         "2019-01-06 00:00:00",
         "Norte Shopping",
         "Calça Linho",
         "2",
         "211",
         "422"
        ],
        [
         "1143",
         "756",
         "2019-01-06 00:00:00",
         "Norte Shopping",
         "Sunga Linho",
         "1",
         "149",
         "149"
        ],
        [
         "1178",
         "785",
         "2019-01-06 00:00:00",
         "Norte Shopping",
         "Pulseira Listrado",
         "2",
         "79",
         "158"
        ],
        [
         "1179",
         "785",
         "2019-01-06 00:00:00",
         "Norte Shopping",
         "Sunga Liso",
         "5",
         "114",
         "570"
        ],
        [
         "1184",
         "788",
         "2019-01-06 00:00:00",
         "Norte Shopping",
         "Terno Xadrez",
         "4",
         "709",
         "2836"
        ],
        [
         "1185",
         "788",
         "2019-01-06 00:00:00",
         "Norte Shopping",
         "Camisa Gola V Estampa",
         "2",
         "118",
         "236"
        ],
        [
         "1186",
         "788",
         "2019-01-06 00:00:00",
         "Norte Shopping",
         "Sapato Linho",
         "3",
         "391",
         "1173"
        ],
        [
         "1206",
         "807",
         "2019-01-06 00:00:00",
         "Norte Shopping",
         "Mochila",
         "1",
         "270",
         "270"
        ],
        [
         "1207",
         "807",
         "2019-01-06 00:00:00",
         "Norte Shopping",
         "Pulseira Listrado",
         "2",
         "79",
         "158"
        ],
        [
         "1213",
         "814",
         "2019-01-06 00:00:00",
         "Norte Shopping",
         "Camisa Gola V Listrado",
         "2",
         "116",
         "232"
        ],
        [
         "1220",
         "820",
         "2019-01-06 00:00:00",
         "Norte Shopping",
         "Casaco Xadrez",
         "2",
         "259",
         "518"
        ]
       ],
       "shape": {
        "columns": 7,
        "rows": 3924
       }
      },
      "text/html": [
       "<div>\n",
       "<style scoped>\n",
       "    .dataframe tbody tr th:only-of-type {\n",
       "        vertical-align: middle;\n",
       "    }\n",
       "\n",
       "    .dataframe tbody tr th {\n",
       "        vertical-align: top;\n",
       "    }\n",
       "\n",
       "    .dataframe thead th {\n",
       "        text-align: right;\n",
       "    }\n",
       "</style>\n",
       "<table border=\"1\" class=\"dataframe\">\n",
       "  <thead>\n",
       "    <tr style=\"text-align: right;\">\n",
       "      <th></th>\n",
       "      <th>Código Venda</th>\n",
       "      <th>Data</th>\n",
       "      <th>ID Loja</th>\n",
       "      <th>Produto</th>\n",
       "      <th>Quantidade</th>\n",
       "      <th>Valor Unitário</th>\n",
       "      <th>Valor Final</th>\n",
       "    </tr>\n",
       "  </thead>\n",
       "  <tbody>\n",
       "    <tr>\n",
       "      <th>3</th>\n",
       "      <td>2</td>\n",
       "      <td>2019-01-02</td>\n",
       "      <td>Norte Shopping</td>\n",
       "      <td>Relógio</td>\n",
       "      <td>3</td>\n",
       "      <td>200</td>\n",
       "      <td>600</td>\n",
       "    </tr>\n",
       "    <tr>\n",
       "      <th>4</th>\n",
       "      <td>2</td>\n",
       "      <td>2019-01-02</td>\n",
       "      <td>Norte Shopping</td>\n",
       "      <td>Chinelo Liso</td>\n",
       "      <td>1</td>\n",
       "      <td>71</td>\n",
       "      <td>71</td>\n",
       "    </tr>\n",
       "    <tr>\n",
       "      <th>8</th>\n",
       "      <td>7</td>\n",
       "      <td>2019-01-02</td>\n",
       "      <td>Norte Shopping</td>\n",
       "      <td>Camisa Gola V Listrado</td>\n",
       "      <td>1</td>\n",
       "      <td>116</td>\n",
       "      <td>116</td>\n",
       "    </tr>\n",
       "    <tr>\n",
       "      <th>9</th>\n",
       "      <td>7</td>\n",
       "      <td>2019-01-02</td>\n",
       "      <td>Norte Shopping</td>\n",
       "      <td>Camisa Liso</td>\n",
       "      <td>1</td>\n",
       "      <td>105</td>\n",
       "      <td>105</td>\n",
       "    </tr>\n",
       "    <tr>\n",
       "      <th>100</th>\n",
       "      <td>73</td>\n",
       "      <td>2019-01-02</td>\n",
       "      <td>Norte Shopping</td>\n",
       "      <td>Cueca Xadrez</td>\n",
       "      <td>5</td>\n",
       "      <td>60</td>\n",
       "      <td>300</td>\n",
       "    </tr>\n",
       "    <tr>\n",
       "      <th>...</th>\n",
       "      <td>...</td>\n",
       "      <td>...</td>\n",
       "      <td>...</td>\n",
       "      <td>...</td>\n",
       "      <td>...</td>\n",
       "      <td>...</td>\n",
       "      <td>...</td>\n",
       "    </tr>\n",
       "    <tr>\n",
       "      <th>93716</th>\n",
       "      <td>64888</td>\n",
       "      <td>2019-11-30</td>\n",
       "      <td>Norte Shopping</td>\n",
       "      <td>Polo Xadrez</td>\n",
       "      <td>1</td>\n",
       "      <td>142</td>\n",
       "      <td>142</td>\n",
       "    </tr>\n",
       "    <tr>\n",
       "      <th>93754</th>\n",
       "      <td>64914</td>\n",
       "      <td>2019-11-30</td>\n",
       "      <td>Norte Shopping</td>\n",
       "      <td>Calça Liso</td>\n",
       "      <td>1</td>\n",
       "      <td>190</td>\n",
       "      <td>190</td>\n",
       "    </tr>\n",
       "    <tr>\n",
       "      <th>93755</th>\n",
       "      <td>64914</td>\n",
       "      <td>2019-11-30</td>\n",
       "      <td>Norte Shopping</td>\n",
       "      <td>Casaco Estampa</td>\n",
       "      <td>2</td>\n",
       "      <td>256</td>\n",
       "      <td>512</td>\n",
       "    </tr>\n",
       "    <tr>\n",
       "      <th>93756</th>\n",
       "      <td>64914</td>\n",
       "      <td>2019-11-30</td>\n",
       "      <td>Norte Shopping</td>\n",
       "      <td>Gorro</td>\n",
       "      <td>2</td>\n",
       "      <td>80</td>\n",
       "      <td>160</td>\n",
       "    </tr>\n",
       "    <tr>\n",
       "      <th>93852</th>\n",
       "      <td>64980</td>\n",
       "      <td>2019-11-30</td>\n",
       "      <td>Norte Shopping</td>\n",
       "      <td>Bermuda Linho</td>\n",
       "      <td>1</td>\n",
       "      <td>195</td>\n",
       "      <td>195</td>\n",
       "    </tr>\n",
       "  </tbody>\n",
       "</table>\n",
       "<p>3924 rows × 7 columns</p>\n",
       "</div>"
      ],
      "text/plain": [
       "       Código Venda       Data         ID Loja                 Produto  \\\n",
       "3                 2 2019-01-02  Norte Shopping                 Relógio   \n",
       "4                 2 2019-01-02  Norte Shopping            Chinelo Liso   \n",
       "8                 7 2019-01-02  Norte Shopping  Camisa Gola V Listrado   \n",
       "9                 7 2019-01-02  Norte Shopping             Camisa Liso   \n",
       "100              73 2019-01-02  Norte Shopping            Cueca Xadrez   \n",
       "...             ...        ...             ...                     ...   \n",
       "93716         64888 2019-11-30  Norte Shopping             Polo Xadrez   \n",
       "93754         64914 2019-11-30  Norte Shopping              Calça Liso   \n",
       "93755         64914 2019-11-30  Norte Shopping          Casaco Estampa   \n",
       "93756         64914 2019-11-30  Norte Shopping                   Gorro   \n",
       "93852         64980 2019-11-30  Norte Shopping           Bermuda Linho   \n",
       "\n",
       "       Quantidade  Valor Unitário  Valor Final  \n",
       "3               3             200          600  \n",
       "4               1              71           71  \n",
       "8               1             116          116  \n",
       "9               1             105          105  \n",
       "100             5              60          300  \n",
       "...           ...             ...          ...  \n",
       "93716           1             142          142  \n",
       "93754           1             190          190  \n",
       "93755           2             256          512  \n",
       "93756           2              80          160  \n",
       "93852           1             195          195  \n",
       "\n",
       "[3924 rows x 7 columns]"
      ]
     },
     "metadata": {},
     "output_type": "display_data"
    }
   ],
   "source": [
    "# call lines according one condition: we want all lines with ID Loja Norte Shopping. We will store it in a variable\n",
    "\n",
    "sales_norteShopping_df = display(sales_df.loc[sales_df['ID Loja'] == 'Norte Shopping'])"
   ]
  },
  {
   "cell_type": "code",
   "execution_count": 182,
   "id": "19646e91",
   "metadata": {},
   "outputs": [
    {
     "data": {
      "application/vnd.microsoft.datawrangler.viewer.v0+json": {
       "columns": [
        {
         "name": "index",
         "rawType": "int64",
         "type": "integer"
        },
        {
         "name": "ID Loja",
         "rawType": "object",
         "type": "string"
        },
        {
         "name": "Produto",
         "rawType": "object",
         "type": "string"
        },
        {
         "name": "Quantidade",
         "rawType": "int64",
         "type": "integer"
        }
       ],
       "ref": "67b7ef12-ea8e-4c5a-81c2-dca006e51955",
       "rows": [
        [
         "3",
         "Norte Shopping",
         "Relógio",
         "3"
        ],
        [
         "4",
         "Norte Shopping",
         "Chinelo Liso",
         "1"
        ],
        [
         "8",
         "Norte Shopping",
         "Camisa Gola V Listrado",
         "1"
        ],
        [
         "9",
         "Norte Shopping",
         "Camisa Liso",
         "1"
        ],
        [
         "100",
         "Norte Shopping",
         "Cueca Xadrez",
         "5"
        ],
        [
         "101",
         "Norte Shopping",
         "Cueca Listrado",
         "1"
        ],
        [
         "182",
         "Norte Shopping",
         "Cueca",
         "2"
        ],
        [
         "201",
         "Norte Shopping",
         "Camisa Xadrez",
         "2"
        ],
        [
         "202",
         "Norte Shopping",
         "Cueca",
         "3"
        ],
        [
         "203",
         "Norte Shopping",
         "Gorro Liso",
         "2"
        ],
        [
         "270",
         "Norte Shopping",
         "Cinto",
         "1"
        ],
        [
         "271",
         "Norte Shopping",
         "Relógio Liso",
         "3"
        ],
        [
         "272",
         "Norte Shopping",
         "Cueca Xadrez",
         "2"
        ],
        [
         "277",
         "Norte Shopping",
         "Relógio",
         "2"
        ],
        [
         "278",
         "Norte Shopping",
         "Mochila Estampa",
         "3"
        ],
        [
         "340",
         "Norte Shopping",
         "Pulseira Liso",
         "1"
        ],
        [
         "342",
         "Norte Shopping",
         "Camisa Gola V Listrado",
         "2"
        ],
        [
         "343",
         "Norte Shopping",
         "Polo Xadrez",
         "1"
        ],
        [
         "449",
         "Norte Shopping",
         "Chinelo Liso",
         "1"
        ],
        [
         "450",
         "Norte Shopping",
         "Meia Listrado",
         "1"
        ],
        [
         "547",
         "Norte Shopping",
         "Mochila Estampa",
         "1"
        ],
        [
         "588",
         "Norte Shopping",
         "Camiseta Xadrez",
         "1"
        ],
        [
         "589",
         "Norte Shopping",
         "Meia Xadrez",
         "1"
        ],
        [
         "590",
         "Norte Shopping",
         "Polo",
         "5"
        ],
        [
         "648",
         "Norte Shopping",
         "Pulseira Estampa",
         "4"
        ],
        [
         "690",
         "Norte Shopping",
         "Camisa Listrado",
         "1"
        ],
        [
         "691",
         "Norte Shopping",
         "Meia Xadrez",
         "1"
        ],
        [
         "825",
         "Norte Shopping",
         "Gorro Liso",
         "1"
        ],
        [
         "826",
         "Norte Shopping",
         "Cueca Linho",
         "1"
        ],
        [
         "827",
         "Norte Shopping",
         "Casaco Liso",
         "1"
        ],
        [
         "837",
         "Norte Shopping",
         "Calça Xadrez",
         "2"
        ],
        [
         "838",
         "Norte Shopping",
         "Camiseta Linho",
         "1"
        ],
        [
         "951",
         "Norte Shopping",
         "Cinto",
         "4"
        ],
        [
         "952",
         "Norte Shopping",
         "Mochila Listrado",
         "3"
        ],
        [
         "1010",
         "Norte Shopping",
         "Camiseta Linho",
         "1"
        ],
        [
         "1078",
         "Norte Shopping",
         "Cueca Xadrez",
         "2"
        ],
        [
         "1131",
         "Norte Shopping",
         "Camisa Gola V",
         "2"
        ],
        [
         "1132",
         "Norte Shopping",
         "Tênis Liso",
         "2"
        ],
        [
         "1141",
         "Norte Shopping",
         "Polo Listrado",
         "3"
        ],
        [
         "1142",
         "Norte Shopping",
         "Calça Linho",
         "2"
        ],
        [
         "1143",
         "Norte Shopping",
         "Sunga Linho",
         "1"
        ],
        [
         "1178",
         "Norte Shopping",
         "Pulseira Listrado",
         "2"
        ],
        [
         "1179",
         "Norte Shopping",
         "Sunga Liso",
         "5"
        ],
        [
         "1184",
         "Norte Shopping",
         "Terno Xadrez",
         "4"
        ],
        [
         "1185",
         "Norte Shopping",
         "Camisa Gola V Estampa",
         "2"
        ],
        [
         "1186",
         "Norte Shopping",
         "Sapato Linho",
         "3"
        ],
        [
         "1206",
         "Norte Shopping",
         "Mochila",
         "1"
        ],
        [
         "1207",
         "Norte Shopping",
         "Pulseira Listrado",
         "2"
        ],
        [
         "1213",
         "Norte Shopping",
         "Camisa Gola V Listrado",
         "2"
        ],
        [
         "1220",
         "Norte Shopping",
         "Casaco Xadrez",
         "2"
        ]
       ],
       "shape": {
        "columns": 3,
        "rows": 3924
       }
      },
      "text/html": [
       "<div>\n",
       "<style scoped>\n",
       "    .dataframe tbody tr th:only-of-type {\n",
       "        vertical-align: middle;\n",
       "    }\n",
       "\n",
       "    .dataframe tbody tr th {\n",
       "        vertical-align: top;\n",
       "    }\n",
       "\n",
       "    .dataframe thead th {\n",
       "        text-align: right;\n",
       "    }\n",
       "</style>\n",
       "<table border=\"1\" class=\"dataframe\">\n",
       "  <thead>\n",
       "    <tr style=\"text-align: right;\">\n",
       "      <th></th>\n",
       "      <th>ID Loja</th>\n",
       "      <th>Produto</th>\n",
       "      <th>Quantidade</th>\n",
       "    </tr>\n",
       "  </thead>\n",
       "  <tbody>\n",
       "    <tr>\n",
       "      <th>3</th>\n",
       "      <td>Norte Shopping</td>\n",
       "      <td>Relógio</td>\n",
       "      <td>3</td>\n",
       "    </tr>\n",
       "    <tr>\n",
       "      <th>4</th>\n",
       "      <td>Norte Shopping</td>\n",
       "      <td>Chinelo Liso</td>\n",
       "      <td>1</td>\n",
       "    </tr>\n",
       "    <tr>\n",
       "      <th>8</th>\n",
       "      <td>Norte Shopping</td>\n",
       "      <td>Camisa Gola V Listrado</td>\n",
       "      <td>1</td>\n",
       "    </tr>\n",
       "    <tr>\n",
       "      <th>9</th>\n",
       "      <td>Norte Shopping</td>\n",
       "      <td>Camisa Liso</td>\n",
       "      <td>1</td>\n",
       "    </tr>\n",
       "    <tr>\n",
       "      <th>100</th>\n",
       "      <td>Norte Shopping</td>\n",
       "      <td>Cueca Xadrez</td>\n",
       "      <td>5</td>\n",
       "    </tr>\n",
       "    <tr>\n",
       "      <th>...</th>\n",
       "      <td>...</td>\n",
       "      <td>...</td>\n",
       "      <td>...</td>\n",
       "    </tr>\n",
       "    <tr>\n",
       "      <th>93716</th>\n",
       "      <td>Norte Shopping</td>\n",
       "      <td>Polo Xadrez</td>\n",
       "      <td>1</td>\n",
       "    </tr>\n",
       "    <tr>\n",
       "      <th>93754</th>\n",
       "      <td>Norte Shopping</td>\n",
       "      <td>Calça Liso</td>\n",
       "      <td>1</td>\n",
       "    </tr>\n",
       "    <tr>\n",
       "      <th>93755</th>\n",
       "      <td>Norte Shopping</td>\n",
       "      <td>Casaco Estampa</td>\n",
       "      <td>2</td>\n",
       "    </tr>\n",
       "    <tr>\n",
       "      <th>93756</th>\n",
       "      <td>Norte Shopping</td>\n",
       "      <td>Gorro</td>\n",
       "      <td>2</td>\n",
       "    </tr>\n",
       "    <tr>\n",
       "      <th>93852</th>\n",
       "      <td>Norte Shopping</td>\n",
       "      <td>Bermuda Linho</td>\n",
       "      <td>1</td>\n",
       "    </tr>\n",
       "  </tbody>\n",
       "</table>\n",
       "<p>3924 rows × 3 columns</p>\n",
       "</div>"
      ],
      "text/plain": [
       "              ID Loja                 Produto  Quantidade\n",
       "3      Norte Shopping                 Relógio           3\n",
       "4      Norte Shopping            Chinelo Liso           1\n",
       "8      Norte Shopping  Camisa Gola V Listrado           1\n",
       "9      Norte Shopping             Camisa Liso           1\n",
       "100    Norte Shopping            Cueca Xadrez           5\n",
       "...               ...                     ...         ...\n",
       "93716  Norte Shopping             Polo Xadrez           1\n",
       "93754  Norte Shopping              Calça Liso           1\n",
       "93755  Norte Shopping          Casaco Estampa           2\n",
       "93756  Norte Shopping                   Gorro           2\n",
       "93852  Norte Shopping           Bermuda Linho           1\n",
       "\n",
       "[3924 rows x 3 columns]"
      ]
     },
     "metadata": {},
     "output_type": "display_data"
    }
   ],
   "source": [
    "# call lines according one condition: we want all lines with ID Loja Norte Shopping but we want to visualize only some columns. We will store it in a variable\n",
    "\n",
    "sales_norteShopping_df = display(sales_df.loc[sales_df['ID Loja'] == 'Norte Shopping', ['ID Loja', 'Produto', 'Quantidade']])\n",
    "\n",
    "# Rows - ['ID Loja'] == 'Norte Shopping', \n",
    "# Columns -  ['ID Loja', 'Produto', 'Quantidade']])\n"
   ]
  },
  {
   "cell_type": "code",
   "execution_count": 183,
   "id": "7f36f84a",
   "metadata": {},
   "outputs": [
    {
     "name": "stdout",
     "output_type": "stream",
     "text": [
      "Camiseta\n"
     ]
    }
   ],
   "source": [
    "# To call a specific value\n",
    "print(sales_df.loc[1, 'Produto'])"
   ]
  },
  {
   "cell_type": "markdown",
   "id": "dd38ccad",
   "metadata": {},
   "source": [
    "Adding a new column in our Dataframe"
   ]
  },
  {
   "cell_type": "code",
   "execution_count": 184,
   "id": "fd178406",
   "metadata": {},
   "outputs": [
    {
     "data": {
      "application/vnd.microsoft.datawrangler.viewer.v0+json": {
       "columns": [
        {
         "name": "index",
         "rawType": "int64",
         "type": "integer"
        },
        {
         "name": "Código Venda",
         "rawType": "int64",
         "type": "integer"
        },
        {
         "name": "Data",
         "rawType": "datetime64[ns]",
         "type": "datetime"
        },
        {
         "name": "ID Loja",
         "rawType": "object",
         "type": "string"
        },
        {
         "name": "Produto",
         "rawType": "object",
         "type": "string"
        },
        {
         "name": "Quantidade",
         "rawType": "int64",
         "type": "integer"
        },
        {
         "name": "Valor Unitário",
         "rawType": "int64",
         "type": "integer"
        },
        {
         "name": "Valor Final",
         "rawType": "int64",
         "type": "integer"
        },
        {
         "name": "Comissão",
         "rawType": "float64",
         "type": "float"
        }
       ],
       "ref": "f8ebe2f4-dd8b-43b2-8677-7b4aaa49c834",
       "rows": [
        [
         "0",
         "1",
         "2019-01-01 00:00:00",
         "Iguatemi Esplanada",
         "Sapato Estampa",
         "1",
         "358",
         "358",
         "17.9"
        ],
        [
         "1",
         "1",
         "2019-01-01 00:00:00",
         "Iguatemi Esplanada",
         "Camiseta",
         "2",
         "180",
         "360",
         "18.0"
        ],
        [
         "2",
         "1",
         "2019-01-01 00:00:00",
         "Iguatemi Esplanada",
         "Sapato Xadrez",
         "1",
         "368",
         "368",
         "18.4"
        ],
        [
         "3",
         "2",
         "2019-01-02 00:00:00",
         "Norte Shopping",
         "Relógio",
         "3",
         "200",
         "600",
         "30.0"
        ],
        [
         "4",
         "2",
         "2019-01-02 00:00:00",
         "Norte Shopping",
         "Chinelo Liso",
         "1",
         "71",
         "71",
         "3.55"
        ],
        [
         "5",
         "3",
         "2019-01-02 00:00:00",
         "Rio Mar Shopping Fortaleza",
         "Cinto Linho",
         "1",
         "248",
         "248",
         "12.4"
        ],
        [
         "6",
         "5",
         "2019-01-02 00:00:00",
         "Shopping Barra",
         "Calça",
         "1",
         "170",
         "170",
         "8.5"
        ],
        [
         "7",
         "6",
         "2019-01-02 00:00:00",
         "Shopping Ibirapuera",
         "Polo Listrado",
         "4",
         "149",
         "596",
         "29.8"
        ],
        [
         "8",
         "7",
         "2019-01-02 00:00:00",
         "Norte Shopping",
         "Camisa Gola V Listrado",
         "1",
         "116",
         "116",
         "5.8"
        ],
        [
         "9",
         "7",
         "2019-01-02 00:00:00",
         "Norte Shopping",
         "Camisa Liso",
         "1",
         "105",
         "105",
         "5.25"
        ],
        [
         "10",
         "8",
         "2019-01-02 00:00:00",
         "Iguatemi Campinas",
         "Terno Estampa",
         "5",
         "706",
         "3530",
         "176.5"
        ],
        [
         "11",
         "9",
         "2019-01-02 00:00:00",
         "Shopping Center Leste Aricanduva",
         "Tênis Linho",
         "1",
         "294",
         "294",
         "14.7"
        ],
        [
         "12",
         "9",
         "2019-01-02 00:00:00",
         "Shopping Center Leste Aricanduva",
         "Casaco Xadrez",
         "2",
         "259",
         "518",
         "25.9"
        ],
        [
         "13",
         "10",
         "2019-01-02 00:00:00",
         "Passei das Águas Shopping",
         "Camiseta Xadrez",
         "2",
         "200",
         "400",
         "20.0"
        ],
        [
         "14",
         "10",
         "2019-01-02 00:00:00",
         "Passei das Águas Shopping",
         "Cueca Liso",
         "1",
         "69",
         "69",
         "3.45"
        ],
        [
         "15",
         "11",
         "2019-01-02 00:00:00",
         "Shopping Recife",
         "Camiseta",
         "1",
         "180",
         "180",
         "9.0"
        ],
        [
         "16",
         "11",
         "2019-01-02 00:00:00",
         "Shopping Recife",
         "Calça Listrado",
         "2",
         "181",
         "362",
         "18.1"
        ],
        [
         "17",
         "11",
         "2019-01-02 00:00:00",
         "Shopping Recife",
         "Camisa Estampa",
         "1",
         "113",
         "113",
         "5.65"
        ],
        [
         "18",
         "12",
         "2019-01-02 00:00:00",
         "Shopping Midway Mall",
         "Short Xadrez",
         "4",
         "100",
         "400",
         "20.0"
        ],
        [
         "19",
         "12",
         "2019-01-02 00:00:00",
         "Shopping Midway Mall",
         "Sunga Liso",
         "2",
         "114",
         "228",
         "11.4"
        ],
        [
         "20",
         "14",
         "2019-01-02 00:00:00",
         "Bourbon Shopping SP",
         "Casaco Liso",
         "2",
         "255",
         "510",
         "25.5"
        ],
        [
         "21",
         "17",
         "2019-01-02 00:00:00",
         "Iguatemi Campinas",
         "Chinelo Liso",
         "1",
         "71",
         "71",
         "3.55"
        ],
        [
         "22",
         "18",
         "2019-01-02 00:00:00",
         "Rio Mar Shopping Fortaleza",
         "Camisa Estampa",
         "1",
         "113",
         "113",
         "5.65"
        ],
        [
         "23",
         "19",
         "2019-01-02 00:00:00",
         "Passei das Águas Shopping",
         "Relógio Listrado",
         "1",
         "218",
         "218",
         "10.9"
        ],
        [
         "24",
         "19",
         "2019-01-02 00:00:00",
         "Passei das Águas Shopping",
         "Calça Linho",
         "2",
         "211",
         "422",
         "21.1"
        ],
        [
         "25",
         "20",
         "2019-01-02 00:00:00",
         "Shopping Center Interlagos",
         "Mochila Liso",
         "1",
         "276",
         "276",
         "13.8"
        ],
        [
         "26",
         "21",
         "2019-01-02 00:00:00",
         "Iguatemi Esplanada",
         "Camisa Gola V Listrado",
         "2",
         "116",
         "232",
         "11.6"
        ],
        [
         "27",
         "22",
         "2019-01-02 00:00:00",
         "Parque Dom Pedro Shopping",
         "Meia",
         "1",
         "30",
         "30",
         "1.5"
        ],
        [
         "28",
         "22",
         "2019-01-02 00:00:00",
         "Parque Dom Pedro Shopping",
         "Meia Linho",
         "2",
         "78",
         "156",
         "7.8"
        ],
        [
         "29",
         "22",
         "2019-01-02 00:00:00",
         "Parque Dom Pedro Shopping",
         "Calça Liso",
         "2",
         "190",
         "380",
         "19.0"
        ],
        [
         "30",
         "23",
         "2019-01-02 00:00:00",
         "Center Shopping Uberlândia",
         "Bermuda Estampa",
         "3",
         "169",
         "507",
         "25.35"
        ],
        [
         "31",
         "23",
         "2019-01-02 00:00:00",
         "Center Shopping Uberlândia",
         "Chinelo Liso",
         "3",
         "71",
         "213",
         "10.65"
        ],
        [
         "32",
         "26",
         "2019-01-02 00:00:00",
         "Shopping União de Osasco",
         "Chinelo",
         "2",
         "60",
         "120",
         "6.0"
        ],
        [
         "33",
         "27",
         "2019-01-02 00:00:00",
         "Rio Mar Shopping Fortaleza",
         "Sunga Linho",
         "1",
         "149",
         "149",
         "7.45"
        ],
        [
         "34",
         "27",
         "2019-01-02 00:00:00",
         "Rio Mar Shopping Fortaleza",
         "Terno Listrado",
         "2",
         "709",
         "1418",
         "70.9"
        ],
        [
         "35",
         "29",
         "2019-01-02 00:00:00",
         "Shopping Center Leste Aricanduva",
         "Gorro Liso",
         "4",
         "92",
         "368",
         "18.4"
        ],
        [
         "36",
         "31",
         "2019-01-02 00:00:00",
         "Shopping Eldorado",
         "Casaco Estampa",
         "3",
         "256",
         "768",
         "38.4"
        ],
        [
         "37",
         "31",
         "2019-01-02 00:00:00",
         "Shopping Eldorado",
         "Pulseira",
         "3",
         "70",
         "210",
         "10.5"
        ],
        [
         "38",
         "31",
         "2019-01-02 00:00:00",
         "Shopping Eldorado",
         "Gorro Linho",
         "1",
         "124",
         "124",
         "6.2"
        ],
        [
         "39",
         "31",
         "2019-01-02 00:00:00",
         "Shopping Eldorado",
         "Cinto Linho",
         "3",
         "248",
         "744",
         "37.2"
        ],
        [
         "40",
         "32",
         "2019-01-02 00:00:00",
         "Shopping Vila Velha",
         "Polo Liso",
         "1",
         "137",
         "137",
         "6.85"
        ],
        [
         "41",
         "32",
         "2019-01-02 00:00:00",
         "Shopping Vila Velha",
         "Polo Listrado",
         "2",
         "149",
         "298",
         "14.9"
        ],
        [
         "42",
         "33",
         "2019-01-02 00:00:00",
         "Shopping Midway Mall",
         "Camisa",
         "1",
         "100",
         "100",
         "5.0"
        ],
        [
         "43",
         "33",
         "2019-01-02 00:00:00",
         "Shopping Midway Mall",
         "Meia Xadrez",
         "3",
         "41",
         "123",
         "6.15"
        ],
        [
         "44",
         "34",
         "2019-01-02 00:00:00",
         "Iguatemi Esplanada",
         "Sapato Listrado",
         "1",
         "363",
         "363",
         "18.15"
        ],
        [
         "45",
         "34",
         "2019-01-02 00:00:00",
         "Iguatemi Esplanada",
         "Camisa Gola V Liso",
         "2",
         "118",
         "236",
         "11.8"
        ],
        [
         "46",
         "35",
         "2019-01-02 00:00:00",
         "Parque Dom Pedro Shopping",
         "Relógio",
         "2",
         "200",
         "400",
         "20.0"
        ],
        [
         "47",
         "35",
         "2019-01-02 00:00:00",
         "Parque Dom Pedro Shopping",
         "Sapato",
         "2",
         "350",
         "700",
         "35.0"
        ],
        [
         "48",
         "36",
         "2019-01-02 00:00:00",
         "Rio Mar Shopping Fortaleza",
         "Meia Listrado",
         "1",
         "37",
         "37",
         "1.85"
        ],
        [
         "49",
         "38",
         "2019-01-02 00:00:00",
         "Shopping Vila Velha",
         "Meia Xadrez",
         "3",
         "41",
         "123",
         "6.15"
        ]
       ],
       "shape": {
        "columns": 8,
        "rows": 93910
       }
      },
      "text/html": [
       "<div>\n",
       "<style scoped>\n",
       "    .dataframe tbody tr th:only-of-type {\n",
       "        vertical-align: middle;\n",
       "    }\n",
       "\n",
       "    .dataframe tbody tr th {\n",
       "        vertical-align: top;\n",
       "    }\n",
       "\n",
       "    .dataframe thead th {\n",
       "        text-align: right;\n",
       "    }\n",
       "</style>\n",
       "<table border=\"1\" class=\"dataframe\">\n",
       "  <thead>\n",
       "    <tr style=\"text-align: right;\">\n",
       "      <th></th>\n",
       "      <th>Código Venda</th>\n",
       "      <th>Data</th>\n",
       "      <th>ID Loja</th>\n",
       "      <th>Produto</th>\n",
       "      <th>Quantidade</th>\n",
       "      <th>Valor Unitário</th>\n",
       "      <th>Valor Final</th>\n",
       "      <th>Comissão</th>\n",
       "    </tr>\n",
       "  </thead>\n",
       "  <tbody>\n",
       "    <tr>\n",
       "      <th>0</th>\n",
       "      <td>1</td>\n",
       "      <td>2019-01-01</td>\n",
       "      <td>Iguatemi Esplanada</td>\n",
       "      <td>Sapato Estampa</td>\n",
       "      <td>1</td>\n",
       "      <td>358</td>\n",
       "      <td>358</td>\n",
       "      <td>17.90</td>\n",
       "    </tr>\n",
       "    <tr>\n",
       "      <th>1</th>\n",
       "      <td>1</td>\n",
       "      <td>2019-01-01</td>\n",
       "      <td>Iguatemi Esplanada</td>\n",
       "      <td>Camiseta</td>\n",
       "      <td>2</td>\n",
       "      <td>180</td>\n",
       "      <td>360</td>\n",
       "      <td>18.00</td>\n",
       "    </tr>\n",
       "    <tr>\n",
       "      <th>2</th>\n",
       "      <td>1</td>\n",
       "      <td>2019-01-01</td>\n",
       "      <td>Iguatemi Esplanada</td>\n",
       "      <td>Sapato Xadrez</td>\n",
       "      <td>1</td>\n",
       "      <td>368</td>\n",
       "      <td>368</td>\n",
       "      <td>18.40</td>\n",
       "    </tr>\n",
       "    <tr>\n",
       "      <th>3</th>\n",
       "      <td>2</td>\n",
       "      <td>2019-01-02</td>\n",
       "      <td>Norte Shopping</td>\n",
       "      <td>Relógio</td>\n",
       "      <td>3</td>\n",
       "      <td>200</td>\n",
       "      <td>600</td>\n",
       "      <td>30.00</td>\n",
       "    </tr>\n",
       "    <tr>\n",
       "      <th>4</th>\n",
       "      <td>2</td>\n",
       "      <td>2019-01-02</td>\n",
       "      <td>Norte Shopping</td>\n",
       "      <td>Chinelo Liso</td>\n",
       "      <td>1</td>\n",
       "      <td>71</td>\n",
       "      <td>71</td>\n",
       "      <td>3.55</td>\n",
       "    </tr>\n",
       "    <tr>\n",
       "      <th>...</th>\n",
       "      <td>...</td>\n",
       "      <td>...</td>\n",
       "      <td>...</td>\n",
       "      <td>...</td>\n",
       "      <td>...</td>\n",
       "      <td>...</td>\n",
       "      <td>...</td>\n",
       "      <td>...</td>\n",
       "    </tr>\n",
       "    <tr>\n",
       "      <th>93905</th>\n",
       "      <td>65012</td>\n",
       "      <td>2019-11-30</td>\n",
       "      <td>Shopping Vila Velha</td>\n",
       "      <td>Mochila Xadrez</td>\n",
       "      <td>2</td>\n",
       "      <td>283</td>\n",
       "      <td>566</td>\n",
       "      <td>28.30</td>\n",
       "    </tr>\n",
       "    <tr>\n",
       "      <th>93906</th>\n",
       "      <td>65013</td>\n",
       "      <td>2019-11-30</td>\n",
       "      <td>Ribeirão Shopping</td>\n",
       "      <td>Pulseira Listrado</td>\n",
       "      <td>2</td>\n",
       "      <td>79</td>\n",
       "      <td>158</td>\n",
       "      <td>7.90</td>\n",
       "    </tr>\n",
       "    <tr>\n",
       "      <th>93907</th>\n",
       "      <td>65013</td>\n",
       "      <td>2019-11-30</td>\n",
       "      <td>Ribeirão Shopping</td>\n",
       "      <td>Cueca Listrado</td>\n",
       "      <td>3</td>\n",
       "      <td>67</td>\n",
       "      <td>201</td>\n",
       "      <td>10.05</td>\n",
       "    </tr>\n",
       "    <tr>\n",
       "      <th>93908</th>\n",
       "      <td>65014</td>\n",
       "      <td>2019-11-30</td>\n",
       "      <td>Shopping Morumbi</td>\n",
       "      <td>Pulseira Linho</td>\n",
       "      <td>5</td>\n",
       "      <td>114</td>\n",
       "      <td>570</td>\n",
       "      <td>28.50</td>\n",
       "    </tr>\n",
       "    <tr>\n",
       "      <th>93909</th>\n",
       "      <td>65014</td>\n",
       "      <td>2019-11-30</td>\n",
       "      <td>Shopping Morumbi</td>\n",
       "      <td>Casaco Xadrez</td>\n",
       "      <td>4</td>\n",
       "      <td>259</td>\n",
       "      <td>1036</td>\n",
       "      <td>51.80</td>\n",
       "    </tr>\n",
       "  </tbody>\n",
       "</table>\n",
       "<p>93910 rows × 8 columns</p>\n",
       "</div>"
      ],
      "text/plain": [
       "       Código Venda       Data              ID Loja            Produto  \\\n",
       "0                 1 2019-01-01   Iguatemi Esplanada     Sapato Estampa   \n",
       "1                 1 2019-01-01   Iguatemi Esplanada           Camiseta   \n",
       "2                 1 2019-01-01   Iguatemi Esplanada      Sapato Xadrez   \n",
       "3                 2 2019-01-02       Norte Shopping            Relógio   \n",
       "4                 2 2019-01-02       Norte Shopping       Chinelo Liso   \n",
       "...             ...        ...                  ...                ...   \n",
       "93905         65012 2019-11-30  Shopping Vila Velha     Mochila Xadrez   \n",
       "93906         65013 2019-11-30    Ribeirão Shopping  Pulseira Listrado   \n",
       "93907         65013 2019-11-30    Ribeirão Shopping     Cueca Listrado   \n",
       "93908         65014 2019-11-30     Shopping Morumbi     Pulseira Linho   \n",
       "93909         65014 2019-11-30     Shopping Morumbi      Casaco Xadrez   \n",
       "\n",
       "       Quantidade  Valor Unitário  Valor Final  Comissão  \n",
       "0               1             358          358     17.90  \n",
       "1               2             180          360     18.00  \n",
       "2               1             368          368     18.40  \n",
       "3               3             200          600     30.00  \n",
       "4               1              71           71      3.55  \n",
       "...           ...             ...          ...       ...  \n",
       "93905           2             283          566     28.30  \n",
       "93906           2              79          158      7.90  \n",
       "93907           3              67          201     10.05  \n",
       "93908           5             114          570     28.50  \n",
       "93909           4             259         1036     51.80  \n",
       "\n",
       "[93910 rows x 8 columns]"
      ]
     },
     "metadata": {},
     "output_type": "display_data"
    }
   ],
   "source": [
    "# From a column that already exists: we will create a column to show the sellers commission (0.05 * Valor Final)\n",
    "\n",
    "sales_df ['Comissão'] = sales_df['Valor Final'] * 0.05\n",
    "display(sales_df.round(2))"
   ]
  },
  {
   "cell_type": "code",
   "execution_count": 185,
   "id": "faf14dea",
   "metadata": {},
   "outputs": [
    {
     "data": {
      "application/vnd.microsoft.datawrangler.viewer.v0+json": {
       "columns": [
        {
         "name": "index",
         "rawType": "int64",
         "type": "integer"
        },
        {
         "name": "Código Venda",
         "rawType": "int64",
         "type": "integer"
        },
        {
         "name": "Data",
         "rawType": "datetime64[ns]",
         "type": "datetime"
        },
        {
         "name": "ID Loja",
         "rawType": "object",
         "type": "string"
        },
        {
         "name": "Produto",
         "rawType": "object",
         "type": "string"
        },
        {
         "name": "Quantidade",
         "rawType": "int64",
         "type": "integer"
        },
        {
         "name": "Valor Unitário",
         "rawType": "int64",
         "type": "integer"
        },
        {
         "name": "Valor Final",
         "rawType": "int64",
         "type": "integer"
        },
        {
         "name": "Comissão",
         "rawType": "float64",
         "type": "float"
        },
        {
         "name": "Imposto",
         "rawType": "int64",
         "type": "integer"
        }
       ],
       "ref": "7f7ab06f-48c7-4653-9eb5-4cbb4d844f37",
       "rows": [
        [
         "0",
         "1",
         "2019-01-01 00:00:00",
         "Iguatemi Esplanada",
         "Sapato Estampa",
         "1",
         "358",
         "358",
         "17.900000000000002",
         "0"
        ],
        [
         "1",
         "1",
         "2019-01-01 00:00:00",
         "Iguatemi Esplanada",
         "Camiseta",
         "2",
         "180",
         "360",
         "18.0",
         "0"
        ],
        [
         "2",
         "1",
         "2019-01-01 00:00:00",
         "Iguatemi Esplanada",
         "Sapato Xadrez",
         "1",
         "368",
         "368",
         "18.400000000000002",
         "0"
        ],
        [
         "3",
         "2",
         "2019-01-02 00:00:00",
         "Norte Shopping",
         "Relógio",
         "3",
         "200",
         "600",
         "30.0",
         "0"
        ],
        [
         "4",
         "2",
         "2019-01-02 00:00:00",
         "Norte Shopping",
         "Chinelo Liso",
         "1",
         "71",
         "71",
         "3.5500000000000003",
         "0"
        ],
        [
         "5",
         "3",
         "2019-01-02 00:00:00",
         "Rio Mar Shopping Fortaleza",
         "Cinto Linho",
         "1",
         "248",
         "248",
         "12.4",
         "0"
        ],
        [
         "6",
         "5",
         "2019-01-02 00:00:00",
         "Shopping Barra",
         "Calça",
         "1",
         "170",
         "170",
         "8.5",
         "0"
        ],
        [
         "7",
         "6",
         "2019-01-02 00:00:00",
         "Shopping Ibirapuera",
         "Polo Listrado",
         "4",
         "149",
         "596",
         "29.8",
         "0"
        ],
        [
         "8",
         "7",
         "2019-01-02 00:00:00",
         "Norte Shopping",
         "Camisa Gola V Listrado",
         "1",
         "116",
         "116",
         "5.800000000000001",
         "0"
        ],
        [
         "9",
         "7",
         "2019-01-02 00:00:00",
         "Norte Shopping",
         "Camisa Liso",
         "1",
         "105",
         "105",
         "5.25",
         "0"
        ],
        [
         "10",
         "8",
         "2019-01-02 00:00:00",
         "Iguatemi Campinas",
         "Terno Estampa",
         "5",
         "706",
         "3530",
         "176.5",
         "0"
        ],
        [
         "11",
         "9",
         "2019-01-02 00:00:00",
         "Shopping Center Leste Aricanduva",
         "Tênis Linho",
         "1",
         "294",
         "294",
         "14.700000000000001",
         "0"
        ],
        [
         "12",
         "9",
         "2019-01-02 00:00:00",
         "Shopping Center Leste Aricanduva",
         "Casaco Xadrez",
         "2",
         "259",
         "518",
         "25.900000000000002",
         "0"
        ],
        [
         "13",
         "10",
         "2019-01-02 00:00:00",
         "Passei das Águas Shopping",
         "Camiseta Xadrez",
         "2",
         "200",
         "400",
         "20.0",
         "0"
        ],
        [
         "14",
         "10",
         "2019-01-02 00:00:00",
         "Passei das Águas Shopping",
         "Cueca Liso",
         "1",
         "69",
         "69",
         "3.45",
         "0"
        ],
        [
         "15",
         "11",
         "2019-01-02 00:00:00",
         "Shopping Recife",
         "Camiseta",
         "1",
         "180",
         "180",
         "9.0",
         "0"
        ],
        [
         "16",
         "11",
         "2019-01-02 00:00:00",
         "Shopping Recife",
         "Calça Listrado",
         "2",
         "181",
         "362",
         "18.1",
         "0"
        ],
        [
         "17",
         "11",
         "2019-01-02 00:00:00",
         "Shopping Recife",
         "Camisa Estampa",
         "1",
         "113",
         "113",
         "5.65",
         "0"
        ],
        [
         "18",
         "12",
         "2019-01-02 00:00:00",
         "Shopping Midway Mall",
         "Short Xadrez",
         "4",
         "100",
         "400",
         "20.0",
         "0"
        ],
        [
         "19",
         "12",
         "2019-01-02 00:00:00",
         "Shopping Midway Mall",
         "Sunga Liso",
         "2",
         "114",
         "228",
         "11.4",
         "0"
        ],
        [
         "20",
         "14",
         "2019-01-02 00:00:00",
         "Bourbon Shopping SP",
         "Casaco Liso",
         "2",
         "255",
         "510",
         "25.5",
         "0"
        ],
        [
         "21",
         "17",
         "2019-01-02 00:00:00",
         "Iguatemi Campinas",
         "Chinelo Liso",
         "1",
         "71",
         "71",
         "3.5500000000000003",
         "0"
        ],
        [
         "22",
         "18",
         "2019-01-02 00:00:00",
         "Rio Mar Shopping Fortaleza",
         "Camisa Estampa",
         "1",
         "113",
         "113",
         "5.65",
         "0"
        ],
        [
         "23",
         "19",
         "2019-01-02 00:00:00",
         "Passei das Águas Shopping",
         "Relógio Listrado",
         "1",
         "218",
         "218",
         "10.9",
         "0"
        ],
        [
         "24",
         "19",
         "2019-01-02 00:00:00",
         "Passei das Águas Shopping",
         "Calça Linho",
         "2",
         "211",
         "422",
         "21.1",
         "0"
        ],
        [
         "25",
         "20",
         "2019-01-02 00:00:00",
         "Shopping Center Interlagos",
         "Mochila Liso",
         "1",
         "276",
         "276",
         "13.8",
         "0"
        ],
        [
         "26",
         "21",
         "2019-01-02 00:00:00",
         "Iguatemi Esplanada",
         "Camisa Gola V Listrado",
         "2",
         "116",
         "232",
         "11.600000000000001",
         "0"
        ],
        [
         "27",
         "22",
         "2019-01-02 00:00:00",
         "Parque Dom Pedro Shopping",
         "Meia",
         "1",
         "30",
         "30",
         "1.5",
         "0"
        ],
        [
         "28",
         "22",
         "2019-01-02 00:00:00",
         "Parque Dom Pedro Shopping",
         "Meia Linho",
         "2",
         "78",
         "156",
         "7.800000000000001",
         "0"
        ],
        [
         "29",
         "22",
         "2019-01-02 00:00:00",
         "Parque Dom Pedro Shopping",
         "Calça Liso",
         "2",
         "190",
         "380",
         "19.0",
         "0"
        ],
        [
         "30",
         "23",
         "2019-01-02 00:00:00",
         "Center Shopping Uberlândia",
         "Bermuda Estampa",
         "3",
         "169",
         "507",
         "25.35",
         "0"
        ],
        [
         "31",
         "23",
         "2019-01-02 00:00:00",
         "Center Shopping Uberlândia",
         "Chinelo Liso",
         "3",
         "71",
         "213",
         "10.65",
         "0"
        ],
        [
         "32",
         "26",
         "2019-01-02 00:00:00",
         "Shopping União de Osasco",
         "Chinelo",
         "2",
         "60",
         "120",
         "6.0",
         "0"
        ],
        [
         "33",
         "27",
         "2019-01-02 00:00:00",
         "Rio Mar Shopping Fortaleza",
         "Sunga Linho",
         "1",
         "149",
         "149",
         "7.45",
         "0"
        ],
        [
         "34",
         "27",
         "2019-01-02 00:00:00",
         "Rio Mar Shopping Fortaleza",
         "Terno Listrado",
         "2",
         "709",
         "1418",
         "70.9",
         "0"
        ],
        [
         "35",
         "29",
         "2019-01-02 00:00:00",
         "Shopping Center Leste Aricanduva",
         "Gorro Liso",
         "4",
         "92",
         "368",
         "18.400000000000002",
         "0"
        ],
        [
         "36",
         "31",
         "2019-01-02 00:00:00",
         "Shopping Eldorado",
         "Casaco Estampa",
         "3",
         "256",
         "768",
         "38.400000000000006",
         "0"
        ],
        [
         "37",
         "31",
         "2019-01-02 00:00:00",
         "Shopping Eldorado",
         "Pulseira",
         "3",
         "70",
         "210",
         "10.5",
         "0"
        ],
        [
         "38",
         "31",
         "2019-01-02 00:00:00",
         "Shopping Eldorado",
         "Gorro Linho",
         "1",
         "124",
         "124",
         "6.2",
         "0"
        ],
        [
         "39",
         "31",
         "2019-01-02 00:00:00",
         "Shopping Eldorado",
         "Cinto Linho",
         "3",
         "248",
         "744",
         "37.2",
         "0"
        ],
        [
         "40",
         "32",
         "2019-01-02 00:00:00",
         "Shopping Vila Velha",
         "Polo Liso",
         "1",
         "137",
         "137",
         "6.8500000000000005",
         "0"
        ],
        [
         "41",
         "32",
         "2019-01-02 00:00:00",
         "Shopping Vila Velha",
         "Polo Listrado",
         "2",
         "149",
         "298",
         "14.9",
         "0"
        ],
        [
         "42",
         "33",
         "2019-01-02 00:00:00",
         "Shopping Midway Mall",
         "Camisa",
         "1",
         "100",
         "100",
         "5.0",
         "0"
        ],
        [
         "43",
         "33",
         "2019-01-02 00:00:00",
         "Shopping Midway Mall",
         "Meia Xadrez",
         "3",
         "41",
         "123",
         "6.15",
         "0"
        ],
        [
         "44",
         "34",
         "2019-01-02 00:00:00",
         "Iguatemi Esplanada",
         "Sapato Listrado",
         "1",
         "363",
         "363",
         "18.150000000000002",
         "0"
        ],
        [
         "45",
         "34",
         "2019-01-02 00:00:00",
         "Iguatemi Esplanada",
         "Camisa Gola V Liso",
         "2",
         "118",
         "236",
         "11.8",
         "0"
        ],
        [
         "46",
         "35",
         "2019-01-02 00:00:00",
         "Parque Dom Pedro Shopping",
         "Relógio",
         "2",
         "200",
         "400",
         "20.0",
         "0"
        ],
        [
         "47",
         "35",
         "2019-01-02 00:00:00",
         "Parque Dom Pedro Shopping",
         "Sapato",
         "2",
         "350",
         "700",
         "35.0",
         "0"
        ],
        [
         "48",
         "36",
         "2019-01-02 00:00:00",
         "Rio Mar Shopping Fortaleza",
         "Meia Listrado",
         "1",
         "37",
         "37",
         "1.85",
         "0"
        ],
        [
         "49",
         "38",
         "2019-01-02 00:00:00",
         "Shopping Vila Velha",
         "Meia Xadrez",
         "3",
         "41",
         "123",
         "6.15",
         "0"
        ]
       ],
       "shape": {
        "columns": 9,
        "rows": 93910
       }
      },
      "text/html": [
       "<div>\n",
       "<style scoped>\n",
       "    .dataframe tbody tr th:only-of-type {\n",
       "        vertical-align: middle;\n",
       "    }\n",
       "\n",
       "    .dataframe tbody tr th {\n",
       "        vertical-align: top;\n",
       "    }\n",
       "\n",
       "    .dataframe thead th {\n",
       "        text-align: right;\n",
       "    }\n",
       "</style>\n",
       "<table border=\"1\" class=\"dataframe\">\n",
       "  <thead>\n",
       "    <tr style=\"text-align: right;\">\n",
       "      <th></th>\n",
       "      <th>Código Venda</th>\n",
       "      <th>Data</th>\n",
       "      <th>ID Loja</th>\n",
       "      <th>Produto</th>\n",
       "      <th>Quantidade</th>\n",
       "      <th>Valor Unitário</th>\n",
       "      <th>Valor Final</th>\n",
       "      <th>Comissão</th>\n",
       "      <th>Imposto</th>\n",
       "    </tr>\n",
       "  </thead>\n",
       "  <tbody>\n",
       "    <tr>\n",
       "      <th>0</th>\n",
       "      <td>1</td>\n",
       "      <td>2019-01-01</td>\n",
       "      <td>Iguatemi Esplanada</td>\n",
       "      <td>Sapato Estampa</td>\n",
       "      <td>1</td>\n",
       "      <td>358</td>\n",
       "      <td>358</td>\n",
       "      <td>17.90</td>\n",
       "      <td>0</td>\n",
       "    </tr>\n",
       "    <tr>\n",
       "      <th>1</th>\n",
       "      <td>1</td>\n",
       "      <td>2019-01-01</td>\n",
       "      <td>Iguatemi Esplanada</td>\n",
       "      <td>Camiseta</td>\n",
       "      <td>2</td>\n",
       "      <td>180</td>\n",
       "      <td>360</td>\n",
       "      <td>18.00</td>\n",
       "      <td>0</td>\n",
       "    </tr>\n",
       "    <tr>\n",
       "      <th>2</th>\n",
       "      <td>1</td>\n",
       "      <td>2019-01-01</td>\n",
       "      <td>Iguatemi Esplanada</td>\n",
       "      <td>Sapato Xadrez</td>\n",
       "      <td>1</td>\n",
       "      <td>368</td>\n",
       "      <td>368</td>\n",
       "      <td>18.40</td>\n",
       "      <td>0</td>\n",
       "    </tr>\n",
       "    <tr>\n",
       "      <th>3</th>\n",
       "      <td>2</td>\n",
       "      <td>2019-01-02</td>\n",
       "      <td>Norte Shopping</td>\n",
       "      <td>Relógio</td>\n",
       "      <td>3</td>\n",
       "      <td>200</td>\n",
       "      <td>600</td>\n",
       "      <td>30.00</td>\n",
       "      <td>0</td>\n",
       "    </tr>\n",
       "    <tr>\n",
       "      <th>4</th>\n",
       "      <td>2</td>\n",
       "      <td>2019-01-02</td>\n",
       "      <td>Norte Shopping</td>\n",
       "      <td>Chinelo Liso</td>\n",
       "      <td>1</td>\n",
       "      <td>71</td>\n",
       "      <td>71</td>\n",
       "      <td>3.55</td>\n",
       "      <td>0</td>\n",
       "    </tr>\n",
       "    <tr>\n",
       "      <th>...</th>\n",
       "      <td>...</td>\n",
       "      <td>...</td>\n",
       "      <td>...</td>\n",
       "      <td>...</td>\n",
       "      <td>...</td>\n",
       "      <td>...</td>\n",
       "      <td>...</td>\n",
       "      <td>...</td>\n",
       "      <td>...</td>\n",
       "    </tr>\n",
       "    <tr>\n",
       "      <th>93905</th>\n",
       "      <td>65012</td>\n",
       "      <td>2019-11-30</td>\n",
       "      <td>Shopping Vila Velha</td>\n",
       "      <td>Mochila Xadrez</td>\n",
       "      <td>2</td>\n",
       "      <td>283</td>\n",
       "      <td>566</td>\n",
       "      <td>28.30</td>\n",
       "      <td>0</td>\n",
       "    </tr>\n",
       "    <tr>\n",
       "      <th>93906</th>\n",
       "      <td>65013</td>\n",
       "      <td>2019-11-30</td>\n",
       "      <td>Ribeirão Shopping</td>\n",
       "      <td>Pulseira Listrado</td>\n",
       "      <td>2</td>\n",
       "      <td>79</td>\n",
       "      <td>158</td>\n",
       "      <td>7.90</td>\n",
       "      <td>0</td>\n",
       "    </tr>\n",
       "    <tr>\n",
       "      <th>93907</th>\n",
       "      <td>65013</td>\n",
       "      <td>2019-11-30</td>\n",
       "      <td>Ribeirão Shopping</td>\n",
       "      <td>Cueca Listrado</td>\n",
       "      <td>3</td>\n",
       "      <td>67</td>\n",
       "      <td>201</td>\n",
       "      <td>10.05</td>\n",
       "      <td>0</td>\n",
       "    </tr>\n",
       "    <tr>\n",
       "      <th>93908</th>\n",
       "      <td>65014</td>\n",
       "      <td>2019-11-30</td>\n",
       "      <td>Shopping Morumbi</td>\n",
       "      <td>Pulseira Linho</td>\n",
       "      <td>5</td>\n",
       "      <td>114</td>\n",
       "      <td>570</td>\n",
       "      <td>28.50</td>\n",
       "      <td>0</td>\n",
       "    </tr>\n",
       "    <tr>\n",
       "      <th>93909</th>\n",
       "      <td>65014</td>\n",
       "      <td>2019-11-30</td>\n",
       "      <td>Shopping Morumbi</td>\n",
       "      <td>Casaco Xadrez</td>\n",
       "      <td>4</td>\n",
       "      <td>259</td>\n",
       "      <td>1036</td>\n",
       "      <td>51.80</td>\n",
       "      <td>0</td>\n",
       "    </tr>\n",
       "  </tbody>\n",
       "</table>\n",
       "<p>93910 rows × 9 columns</p>\n",
       "</div>"
      ],
      "text/plain": [
       "       Código Venda       Data              ID Loja            Produto  \\\n",
       "0                 1 2019-01-01   Iguatemi Esplanada     Sapato Estampa   \n",
       "1                 1 2019-01-01   Iguatemi Esplanada           Camiseta   \n",
       "2                 1 2019-01-01   Iguatemi Esplanada      Sapato Xadrez   \n",
       "3                 2 2019-01-02       Norte Shopping            Relógio   \n",
       "4                 2 2019-01-02       Norte Shopping       Chinelo Liso   \n",
       "...             ...        ...                  ...                ...   \n",
       "93905         65012 2019-11-30  Shopping Vila Velha     Mochila Xadrez   \n",
       "93906         65013 2019-11-30    Ribeirão Shopping  Pulseira Listrado   \n",
       "93907         65013 2019-11-30    Ribeirão Shopping     Cueca Listrado   \n",
       "93908         65014 2019-11-30     Shopping Morumbi     Pulseira Linho   \n",
       "93909         65014 2019-11-30     Shopping Morumbi      Casaco Xadrez   \n",
       "\n",
       "       Quantidade  Valor Unitário  Valor Final  Comissão  Imposto  \n",
       "0               1             358          358     17.90        0  \n",
       "1               2             180          360     18.00        0  \n",
       "2               1             368          368     18.40        0  \n",
       "3               3             200          600     30.00        0  \n",
       "4               1              71           71      3.55        0  \n",
       "...           ...             ...          ...       ...      ...  \n",
       "93905           2             283          566     28.30        0  \n",
       "93906           2              79          158      7.90        0  \n",
       "93907           3              67          201     10.05        0  \n",
       "93908           5             114          570     28.50        0  \n",
       "93909           4             259         1036     51.80        0  \n",
       "\n",
       "[93910 rows x 9 columns]"
      ]
     },
     "metadata": {},
     "output_type": "display_data"
    }
   ],
   "source": [
    "# Creating a column with a standart value to be filled later\n",
    "\n",
    "sales_df.loc [:,'Imposto'] = 0\n",
    "display(sales_df)"
   ]
  },
  {
   "cell_type": "markdown",
   "id": "a66ec6c2",
   "metadata": {},
   "source": [
    "Adding a new row in our Dataframe"
   ]
  },
  {
   "cell_type": "code",
   "execution_count": 186,
   "id": "fbe28cad",
   "metadata": {},
   "outputs": [
    {
     "data": {
      "application/vnd.microsoft.datawrangler.viewer.v0+json": {
       "columns": [
        {
         "name": "index",
         "rawType": "int64",
         "type": "integer"
        },
        {
         "name": "Código Venda",
         "rawType": "int64",
         "type": "integer"
        },
        {
         "name": "Data",
         "rawType": "datetime64[ns]",
         "type": "datetime"
        },
        {
         "name": "ID Loja",
         "rawType": "object",
         "type": "string"
        },
        {
         "name": "Produto",
         "rawType": "object",
         "type": "string"
        },
        {
         "name": "Quantidade",
         "rawType": "int64",
         "type": "integer"
        },
        {
         "name": "Valor Unitário",
         "rawType": "int64",
         "type": "integer"
        },
        {
         "name": "Valor Final",
         "rawType": "int64",
         "type": "integer"
        },
        {
         "name": "Comissão",
         "rawType": "float64",
         "type": "float"
        },
        {
         "name": "Imposto",
         "rawType": "int64",
         "type": "integer"
        }
       ],
       "ref": "aceab8c6-5235-4fa3-8835-28d0afe63c59",
       "rows": [
        [
         "0",
         "65014",
         "2019-12-01 00:00:00",
         "Shopping Morumbi",
         "Sunga Listrado",
         "5",
         "114",
         "570",
         "28.5",
         "0"
        ],
        [
         "1",
         "65014",
         "2019-12-01 00:00:00",
         "Shopping Morumbi",
         "Casaco Listrado",
         "1",
         "269",
         "269",
         "13.45",
         "0"
        ],
        [
         "2",
         "65016",
         "2019-12-01 00:00:00",
         "Iguatemi Campinas",
         "Sapato Listrado",
         "2",
         "363",
         "726",
         "36.3",
         "0"
        ],
        [
         "3",
         "65016",
         "2019-12-01 00:00:00",
         "Iguatemi Campinas",
         "Casaco",
         "1",
         "250",
         "250",
         "12.5",
         "0"
        ],
        [
         "4",
         "65017",
         "2019-12-01 00:00:00",
         "Shopping SP Market",
         "Gorro Liso",
         "3",
         "92",
         "276",
         "13.8",
         "0"
        ],
        [
         "5",
         "65018",
         "2019-12-01 00:00:00",
         "Rio Mar Shopping Fortaleza",
         "Cueca Estampa",
         "1",
         "66",
         "66",
         "3.3",
         "0"
        ],
        [
         "6",
         "65018",
         "2019-12-01 00:00:00",
         "Rio Mar Shopping Fortaleza",
         "Sunga Xadrez",
         "1",
         "116",
         "116",
         "5.8",
         "0"
        ],
        [
         "7",
         "65018",
         "2019-12-01 00:00:00",
         "Rio Mar Shopping Fortaleza",
         "Casaco Listrado",
         "1",
         "269",
         "269",
         "13.45",
         "0"
        ],
        [
         "8",
         "65019",
         "2019-12-01 00:00:00",
         "Shopping União de Osasco",
         "Polo Xadrez",
         "2",
         "142",
         "284",
         "14.2",
         "0"
        ],
        [
         "9",
         "65019",
         "2019-12-01 00:00:00",
         "Shopping União de Osasco",
         "Tênis Linho",
         "1",
         "294",
         "294",
         "14.7",
         "0"
        ],
        [
         "10",
         "65020",
         "2019-12-01 00:00:00",
         "Shopping Morumbi",
         "Pulseira Listrado",
         "4",
         "79",
         "316",
         "15.8",
         "0"
        ],
        [
         "11",
         "65020",
         "2019-12-01 00:00:00",
         "Shopping Morumbi",
         "Camiseta Xadrez",
         "5",
         "200",
         "1000",
         "50.0",
         "0"
        ],
        [
         "12",
         "65020",
         "2019-12-01 00:00:00",
         "Shopping Morumbi",
         "Camisa Listrado",
         "2",
         "108",
         "216",
         "10.8",
         "0"
        ],
        [
         "13",
         "65024",
         "2019-12-01 00:00:00",
         "Passei das Águas Shopping",
         "Camiseta Estampa",
         "2",
         "196",
         "392",
         "19.6",
         "0"
        ],
        [
         "14",
         "65025",
         "2019-12-01 00:00:00",
         "Shopping Ibirapuera",
         "Calça Xadrez",
         "5",
         "185",
         "925",
         "46.25",
         "0"
        ],
        [
         "15",
         "65025",
         "2019-12-01 00:00:00",
         "Shopping Ibirapuera",
         "Short Listrado",
         "1",
         "102",
         "102",
         "5.1",
         "0"
        ],
        [
         "16",
         "65025",
         "2019-12-01 00:00:00",
         "Shopping Ibirapuera",
         "Meia Listrado",
         "1",
         "37",
         "37",
         "1.85",
         "0"
        ],
        [
         "17",
         "65027",
         "2019-12-01 00:00:00",
         "Norte Shopping",
         "Relógio Listrado",
         "1",
         "218",
         "218",
         "10.9",
         "0"
        ],
        [
         "18",
         "65028",
         "2019-12-01 00:00:00",
         "Iguatemi Campinas",
         "Sapato",
         "5",
         "350",
         "1750",
         "87.5",
         "0"
        ],
        [
         "19",
         "65028",
         "2019-12-01 00:00:00",
         "Iguatemi Campinas",
         "Pulseira Xadrez",
         "1",
         "87",
         "87",
         "4.35",
         "0"
        ],
        [
         "20",
         "65030",
         "2019-12-01 00:00:00",
         "Shopping Iguatemi Fortaleza",
         "Relógio Liso",
         "1",
         "216",
         "216",
         "10.8",
         "0"
        ],
        [
         "21",
         "65030",
         "2019-12-01 00:00:00",
         "Shopping Iguatemi Fortaleza",
         "Camisa Gola V Xadrez",
         "1",
         "107",
         "107",
         "5.35",
         "0"
        ],
        [
         "22",
         "65031",
         "2019-12-01 00:00:00",
         "Shopping Center Interlagos",
         "Meia Liso",
         "4",
         "38",
         "152",
         "7.6",
         "0"
        ],
        [
         "23",
         "65032",
         "2019-12-01 00:00:00",
         "Shopping Iguatemi Fortaleza",
         "Sunga",
         "2",
         "100",
         "200",
         "10.0",
         "0"
        ],
        [
         "24",
         "65032",
         "2019-12-01 00:00:00",
         "Shopping Iguatemi Fortaleza",
         "Pulseira Estampa",
         "3",
         "87",
         "261",
         "13.05",
         "0"
        ],
        [
         "25",
         "65033",
         "2019-12-01 00:00:00",
         "Iguatemi Campinas",
         "Casaco Estampa",
         "1",
         "256",
         "256",
         "12.8",
         "0"
        ],
        [
         "26",
         "65034",
         "2019-12-01 00:00:00",
         "Shopping Vila Velha",
         "Camisa Gola V Liso",
         "4",
         "118",
         "472",
         "23.6",
         "0"
        ],
        [
         "27",
         "65034",
         "2019-12-01 00:00:00",
         "Shopping Vila Velha",
         "Sapato Linho",
         "5",
         "391",
         "1955",
         "97.75",
         "0"
        ],
        [
         "28",
         "65036",
         "2019-12-01 00:00:00",
         "Rio Mar Recife",
         "Calça",
         "1",
         "170",
         "170",
         "8.5",
         "0"
        ],
        [
         "29",
         "65037",
         "2019-12-01 00:00:00",
         "Parque Dom Pedro Shopping",
         "Terno Xadrez",
         "1",
         "709",
         "709",
         "35.45",
         "0"
        ],
        [
         "30",
         "65037",
         "2019-12-01 00:00:00",
         "Parque Dom Pedro Shopping",
         "Gorro Xadrez",
         "1",
         "85",
         "85",
         "4.25",
         "0"
        ],
        [
         "31",
         "65037",
         "2019-12-01 00:00:00",
         "Parque Dom Pedro Shopping",
         "Cueca Xadrez",
         "1",
         "60",
         "60",
         "3.0",
         "0"
        ],
        [
         "32",
         "65037",
         "2019-12-01 00:00:00",
         "Parque Dom Pedro Shopping",
         "Calça Linho",
         "1",
         "211",
         "211",
         "10.55",
         "0"
        ],
        [
         "33",
         "65037",
         "2019-12-01 00:00:00",
         "Parque Dom Pedro Shopping",
         "Camisa Gola V",
         "5",
         "100",
         "500",
         "25.0",
         "0"
        ],
        [
         "34",
         "65038",
         "2019-12-01 00:00:00",
         "Shopping Iguatemi Fortaleza",
         "Sunga Linho",
         "5",
         "149",
         "745",
         "37.25",
         "0"
        ],
        [
         "35",
         "65039",
         "2019-12-01 00:00:00",
         "Rio Mar Shopping Fortaleza",
         "Mochila",
         "2",
         "270",
         "540",
         "27.0",
         "0"
        ],
        [
         "36",
         "65040",
         "2019-12-01 00:00:00",
         "Shopping Morumbi",
         "Sunga Xadrez",
         "1",
         "116",
         "116",
         "5.8",
         "0"
        ],
        [
         "37",
         "65040",
         "2019-12-01 00:00:00",
         "Shopping Morumbi",
         "Gorro Estampa",
         "4",
         "93",
         "372",
         "18.6",
         "0"
        ],
        [
         "38",
         "65043",
         "2019-12-01 00:00:00",
         "Palladium Shopping Curitiba",
         "Casaco",
         "1",
         "250",
         "250",
         "12.5",
         "0"
        ],
        [
         "39",
         "65043",
         "2019-12-01 00:00:00",
         "Palladium Shopping Curitiba",
         "Short Xadrez",
         "1",
         "100",
         "100",
         "5.0",
         "0"
        ],
        [
         "40",
         "65043",
         "2019-12-01 00:00:00",
         "Palladium Shopping Curitiba",
         "Calça",
         "5",
         "170",
         "850",
         "42.5",
         "0"
        ],
        [
         "41",
         "65043",
         "2019-12-01 00:00:00",
         "Palladium Shopping Curitiba",
         "Meia Xadrez",
         "3",
         "41",
         "123",
         "6.15",
         "0"
        ],
        [
         "42",
         "65044",
         "2019-12-01 00:00:00",
         "Shopping SP Market",
         "Camisa Linho",
         "1",
         "141",
         "141",
         "7.05",
         "0"
        ],
        [
         "43",
         "65044",
         "2019-12-01 00:00:00",
         "Shopping SP Market",
         "Short Linho",
         "1",
         "133",
         "133",
         "6.65",
         "0"
        ],
        [
         "44",
         "65045",
         "2019-12-01 00:00:00",
         "Shopping Center Interlagos",
         "Pulseira",
         "2",
         "70",
         "140",
         "7.0",
         "0"
        ],
        [
         "45",
         "65046",
         "2019-12-01 00:00:00",
         "Rio Mar Shopping Fortaleza",
         "Gorro Listrado",
         "2",
         "97",
         "194",
         "9.7",
         "0"
        ],
        [
         "46",
         "65047",
         "2019-12-01 00:00:00",
         "Salvador Shopping",
         "Calça Listrado",
         "1",
         "181",
         "181",
         "9.05",
         "0"
        ],
        [
         "47",
         "65047",
         "2019-12-01 00:00:00",
         "Salvador Shopping",
         "Bermuda Xadrez",
         "5",
         "155",
         "775",
         "38.75",
         "0"
        ],
        [
         "48",
         "65047",
         "2019-12-01 00:00:00",
         "Salvador Shopping",
         "Terno Listrado",
         "3",
         "709",
         "2127",
         "106.35",
         "0"
        ],
        [
         "49",
         "65048",
         "2019-12-01 00:00:00",
         "Bourbon Shopping SP",
         "Tênis Liso",
         "3",
         "266",
         "798",
         "39.9",
         "0"
        ]
       ],
       "shape": {
        "columns": 9,
        "rows": 7089
       }
      },
      "text/html": [
       "<div>\n",
       "<style scoped>\n",
       "    .dataframe tbody tr th:only-of-type {\n",
       "        vertical-align: middle;\n",
       "    }\n",
       "\n",
       "    .dataframe tbody tr th {\n",
       "        vertical-align: top;\n",
       "    }\n",
       "\n",
       "    .dataframe thead th {\n",
       "        text-align: right;\n",
       "    }\n",
       "</style>\n",
       "<table border=\"1\" class=\"dataframe\">\n",
       "  <thead>\n",
       "    <tr style=\"text-align: right;\">\n",
       "      <th></th>\n",
       "      <th>Código Venda</th>\n",
       "      <th>Data</th>\n",
       "      <th>ID Loja</th>\n",
       "      <th>Produto</th>\n",
       "      <th>Quantidade</th>\n",
       "      <th>Valor Unitário</th>\n",
       "      <th>Valor Final</th>\n",
       "      <th>Comissão</th>\n",
       "      <th>Imposto</th>\n",
       "    </tr>\n",
       "  </thead>\n",
       "  <tbody>\n",
       "    <tr>\n",
       "      <th>0</th>\n",
       "      <td>65014</td>\n",
       "      <td>2019-12-01</td>\n",
       "      <td>Shopping Morumbi</td>\n",
       "      <td>Sunga Listrado</td>\n",
       "      <td>5</td>\n",
       "      <td>114</td>\n",
       "      <td>570</td>\n",
       "      <td>28.50</td>\n",
       "      <td>0</td>\n",
       "    </tr>\n",
       "    <tr>\n",
       "      <th>1</th>\n",
       "      <td>65014</td>\n",
       "      <td>2019-12-01</td>\n",
       "      <td>Shopping Morumbi</td>\n",
       "      <td>Casaco Listrado</td>\n",
       "      <td>1</td>\n",
       "      <td>269</td>\n",
       "      <td>269</td>\n",
       "      <td>13.45</td>\n",
       "      <td>0</td>\n",
       "    </tr>\n",
       "    <tr>\n",
       "      <th>2</th>\n",
       "      <td>65016</td>\n",
       "      <td>2019-12-01</td>\n",
       "      <td>Iguatemi Campinas</td>\n",
       "      <td>Sapato Listrado</td>\n",
       "      <td>2</td>\n",
       "      <td>363</td>\n",
       "      <td>726</td>\n",
       "      <td>36.30</td>\n",
       "      <td>0</td>\n",
       "    </tr>\n",
       "    <tr>\n",
       "      <th>3</th>\n",
       "      <td>65016</td>\n",
       "      <td>2019-12-01</td>\n",
       "      <td>Iguatemi Campinas</td>\n",
       "      <td>Casaco</td>\n",
       "      <td>1</td>\n",
       "      <td>250</td>\n",
       "      <td>250</td>\n",
       "      <td>12.50</td>\n",
       "      <td>0</td>\n",
       "    </tr>\n",
       "    <tr>\n",
       "      <th>4</th>\n",
       "      <td>65017</td>\n",
       "      <td>2019-12-01</td>\n",
       "      <td>Shopping SP Market</td>\n",
       "      <td>Gorro Liso</td>\n",
       "      <td>3</td>\n",
       "      <td>92</td>\n",
       "      <td>276</td>\n",
       "      <td>13.80</td>\n",
       "      <td>0</td>\n",
       "    </tr>\n",
       "    <tr>\n",
       "      <th>...</th>\n",
       "      <td>...</td>\n",
       "      <td>...</td>\n",
       "      <td>...</td>\n",
       "      <td>...</td>\n",
       "      <td>...</td>\n",
       "      <td>...</td>\n",
       "      <td>...</td>\n",
       "      <td>...</td>\n",
       "      <td>...</td>\n",
       "    </tr>\n",
       "    <tr>\n",
       "      <th>7084</th>\n",
       "      <td>69996</td>\n",
       "      <td>2019-12-26</td>\n",
       "      <td>Center Shopping Uberlândia</td>\n",
       "      <td>Short Listrado</td>\n",
       "      <td>2</td>\n",
       "      <td>102</td>\n",
       "      <td>204</td>\n",
       "      <td>10.20</td>\n",
       "      <td>0</td>\n",
       "    </tr>\n",
       "    <tr>\n",
       "      <th>7085</th>\n",
       "      <td>69996</td>\n",
       "      <td>2019-12-26</td>\n",
       "      <td>Center Shopping Uberlândia</td>\n",
       "      <td>Mochila</td>\n",
       "      <td>4</td>\n",
       "      <td>270</td>\n",
       "      <td>1080</td>\n",
       "      <td>54.00</td>\n",
       "      <td>0</td>\n",
       "    </tr>\n",
       "    <tr>\n",
       "      <th>7086</th>\n",
       "      <td>69996</td>\n",
       "      <td>2019-12-26</td>\n",
       "      <td>Center Shopping Uberlândia</td>\n",
       "      <td>Pulseira Estampa</td>\n",
       "      <td>1</td>\n",
       "      <td>87</td>\n",
       "      <td>87</td>\n",
       "      <td>4.35</td>\n",
       "      <td>0</td>\n",
       "    </tr>\n",
       "    <tr>\n",
       "      <th>7087</th>\n",
       "      <td>69997</td>\n",
       "      <td>2019-12-26</td>\n",
       "      <td>Ribeirão Shopping</td>\n",
       "      <td>Camisa Listrado</td>\n",
       "      <td>1</td>\n",
       "      <td>108</td>\n",
       "      <td>108</td>\n",
       "      <td>5.40</td>\n",
       "      <td>0</td>\n",
       "    </tr>\n",
       "    <tr>\n",
       "      <th>7088</th>\n",
       "      <td>69997</td>\n",
       "      <td>2019-12-26</td>\n",
       "      <td>Ribeirão Shopping</td>\n",
       "      <td>Short Linho</td>\n",
       "      <td>2</td>\n",
       "      <td>133</td>\n",
       "      <td>266</td>\n",
       "      <td>13.30</td>\n",
       "      <td>0</td>\n",
       "    </tr>\n",
       "  </tbody>\n",
       "</table>\n",
       "<p>7089 rows × 9 columns</p>\n",
       "</div>"
      ],
      "text/plain": [
       "      Código Venda       Data                     ID Loja           Produto  \\\n",
       "0            65014 2019-12-01            Shopping Morumbi    Sunga Listrado   \n",
       "1            65014 2019-12-01            Shopping Morumbi   Casaco Listrado   \n",
       "2            65016 2019-12-01           Iguatemi Campinas   Sapato Listrado   \n",
       "3            65016 2019-12-01           Iguatemi Campinas            Casaco   \n",
       "4            65017 2019-12-01          Shopping SP Market        Gorro Liso   \n",
       "...            ...        ...                         ...               ...   \n",
       "7084         69996 2019-12-26  Center Shopping Uberlândia    Short Listrado   \n",
       "7085         69996 2019-12-26  Center Shopping Uberlândia           Mochila   \n",
       "7086         69996 2019-12-26  Center Shopping Uberlândia  Pulseira Estampa   \n",
       "7087         69997 2019-12-26           Ribeirão Shopping   Camisa Listrado   \n",
       "7088         69997 2019-12-26           Ribeirão Shopping       Short Linho   \n",
       "\n",
       "      Quantidade  Valor Unitário  Valor Final  Comissão  Imposto  \n",
       "0              5             114          570     28.50        0  \n",
       "1              1             269          269     13.45        0  \n",
       "2              2             363          726     36.30        0  \n",
       "3              1             250          250     12.50        0  \n",
       "4              3              92          276     13.80        0  \n",
       "...          ...             ...          ...       ...      ...  \n",
       "7084           2             102          204     10.20        0  \n",
       "7085           4             270         1080     54.00        0  \n",
       "7086           1              87           87      4.35        0  \n",
       "7087           1             108          108      5.40        0  \n",
       "7088           2             133          266     13.30        0  \n",
       "\n",
       "[7089 rows x 9 columns]"
      ]
     },
     "metadata": {},
     "output_type": "display_data"
    }
   ],
   "source": [
    "# Reading the databases regarding December sales\n",
    "\n",
    "sales_dec_df = pd.read_excel('sales_dec.xlsx')\n",
    "\n",
    "# Adding columns for commission and taxes also in sales_de_df\n",
    "\n",
    "sales_dec_df['Comissão'] = (sales_dec_df['Valor Final'] * 0.05).round(2)\n",
    "\n",
    "sales_dec_df.loc [:,'Imposto'] = 0\n",
    "display(sales_dec_df)"
   ]
  },
  {
   "cell_type": "code",
   "execution_count": 187,
   "id": "6e16ff8b",
   "metadata": {},
   "outputs": [
    {
     "data": {
      "application/vnd.microsoft.datawrangler.viewer.v0+json": {
       "columns": [
        {
         "name": "index",
         "rawType": "int64",
         "type": "integer"
        },
        {
         "name": "Código Venda",
         "rawType": "int64",
         "type": "integer"
        },
        {
         "name": "Data",
         "rawType": "datetime64[ns]",
         "type": "datetime"
        },
        {
         "name": "ID Loja",
         "rawType": "object",
         "type": "string"
        },
        {
         "name": "Produto",
         "rawType": "object",
         "type": "string"
        },
        {
         "name": "Quantidade",
         "rawType": "int64",
         "type": "integer"
        },
        {
         "name": "Valor Unitário",
         "rawType": "int64",
         "type": "integer"
        },
        {
         "name": "Valor Final",
         "rawType": "int64",
         "type": "integer"
        },
        {
         "name": "Comissão",
         "rawType": "float64",
         "type": "float"
        },
        {
         "name": "Imposto",
         "rawType": "int64",
         "type": "integer"
        }
       ],
       "ref": "a808f761-c5bf-4acc-a659-e4648bf11b68",
       "rows": [
        [
         "0",
         "1",
         "2019-01-01 00:00:00",
         "Iguatemi Esplanada",
         "Sapato Estampa",
         "1",
         "358",
         "358",
         "17.900000000000002",
         "0"
        ],
        [
         "1",
         "1",
         "2019-01-01 00:00:00",
         "Iguatemi Esplanada",
         "Camiseta",
         "2",
         "180",
         "360",
         "18.0",
         "0"
        ],
        [
         "2",
         "1",
         "2019-01-01 00:00:00",
         "Iguatemi Esplanada",
         "Sapato Xadrez",
         "1",
         "368",
         "368",
         "18.400000000000002",
         "0"
        ],
        [
         "3",
         "2",
         "2019-01-02 00:00:00",
         "Norte Shopping",
         "Relógio",
         "3",
         "200",
         "600",
         "30.0",
         "0"
        ],
        [
         "4",
         "2",
         "2019-01-02 00:00:00",
         "Norte Shopping",
         "Chinelo Liso",
         "1",
         "71",
         "71",
         "3.5500000000000003",
         "0"
        ],
        [
         "5",
         "3",
         "2019-01-02 00:00:00",
         "Rio Mar Shopping Fortaleza",
         "Cinto Linho",
         "1",
         "248",
         "248",
         "12.4",
         "0"
        ],
        [
         "6",
         "5",
         "2019-01-02 00:00:00",
         "Shopping Barra",
         "Calça",
         "1",
         "170",
         "170",
         "8.5",
         "0"
        ],
        [
         "7",
         "6",
         "2019-01-02 00:00:00",
         "Shopping Ibirapuera",
         "Polo Listrado",
         "4",
         "149",
         "596",
         "29.8",
         "0"
        ],
        [
         "8",
         "7",
         "2019-01-02 00:00:00",
         "Norte Shopping",
         "Camisa Gola V Listrado",
         "1",
         "116",
         "116",
         "5.800000000000001",
         "0"
        ],
        [
         "9",
         "7",
         "2019-01-02 00:00:00",
         "Norte Shopping",
         "Camisa Liso",
         "1",
         "105",
         "105",
         "5.25",
         "0"
        ],
        [
         "10",
         "8",
         "2019-01-02 00:00:00",
         "Iguatemi Campinas",
         "Terno Estampa",
         "5",
         "706",
         "3530",
         "176.5",
         "0"
        ],
        [
         "11",
         "9",
         "2019-01-02 00:00:00",
         "Shopping Center Leste Aricanduva",
         "Tênis Linho",
         "1",
         "294",
         "294",
         "14.700000000000001",
         "0"
        ],
        [
         "12",
         "9",
         "2019-01-02 00:00:00",
         "Shopping Center Leste Aricanduva",
         "Casaco Xadrez",
         "2",
         "259",
         "518",
         "25.900000000000002",
         "0"
        ],
        [
         "13",
         "10",
         "2019-01-02 00:00:00",
         "Passei das Águas Shopping",
         "Camiseta Xadrez",
         "2",
         "200",
         "400",
         "20.0",
         "0"
        ],
        [
         "14",
         "10",
         "2019-01-02 00:00:00",
         "Passei das Águas Shopping",
         "Cueca Liso",
         "1",
         "69",
         "69",
         "3.45",
         "0"
        ],
        [
         "15",
         "11",
         "2019-01-02 00:00:00",
         "Shopping Recife",
         "Camiseta",
         "1",
         "180",
         "180",
         "9.0",
         "0"
        ],
        [
         "16",
         "11",
         "2019-01-02 00:00:00",
         "Shopping Recife",
         "Calça Listrado",
         "2",
         "181",
         "362",
         "18.1",
         "0"
        ],
        [
         "17",
         "11",
         "2019-01-02 00:00:00",
         "Shopping Recife",
         "Camisa Estampa",
         "1",
         "113",
         "113",
         "5.65",
         "0"
        ],
        [
         "18",
         "12",
         "2019-01-02 00:00:00",
         "Shopping Midway Mall",
         "Short Xadrez",
         "4",
         "100",
         "400",
         "20.0",
         "0"
        ],
        [
         "19",
         "12",
         "2019-01-02 00:00:00",
         "Shopping Midway Mall",
         "Sunga Liso",
         "2",
         "114",
         "228",
         "11.4",
         "0"
        ],
        [
         "20",
         "14",
         "2019-01-02 00:00:00",
         "Bourbon Shopping SP",
         "Casaco Liso",
         "2",
         "255",
         "510",
         "25.5",
         "0"
        ],
        [
         "21",
         "17",
         "2019-01-02 00:00:00",
         "Iguatemi Campinas",
         "Chinelo Liso",
         "1",
         "71",
         "71",
         "3.5500000000000003",
         "0"
        ],
        [
         "22",
         "18",
         "2019-01-02 00:00:00",
         "Rio Mar Shopping Fortaleza",
         "Camisa Estampa",
         "1",
         "113",
         "113",
         "5.65",
         "0"
        ],
        [
         "23",
         "19",
         "2019-01-02 00:00:00",
         "Passei das Águas Shopping",
         "Relógio Listrado",
         "1",
         "218",
         "218",
         "10.9",
         "0"
        ],
        [
         "24",
         "19",
         "2019-01-02 00:00:00",
         "Passei das Águas Shopping",
         "Calça Linho",
         "2",
         "211",
         "422",
         "21.1",
         "0"
        ],
        [
         "25",
         "20",
         "2019-01-02 00:00:00",
         "Shopping Center Interlagos",
         "Mochila Liso",
         "1",
         "276",
         "276",
         "13.8",
         "0"
        ],
        [
         "26",
         "21",
         "2019-01-02 00:00:00",
         "Iguatemi Esplanada",
         "Camisa Gola V Listrado",
         "2",
         "116",
         "232",
         "11.600000000000001",
         "0"
        ],
        [
         "27",
         "22",
         "2019-01-02 00:00:00",
         "Parque Dom Pedro Shopping",
         "Meia",
         "1",
         "30",
         "30",
         "1.5",
         "0"
        ],
        [
         "28",
         "22",
         "2019-01-02 00:00:00",
         "Parque Dom Pedro Shopping",
         "Meia Linho",
         "2",
         "78",
         "156",
         "7.800000000000001",
         "0"
        ],
        [
         "29",
         "22",
         "2019-01-02 00:00:00",
         "Parque Dom Pedro Shopping",
         "Calça Liso",
         "2",
         "190",
         "380",
         "19.0",
         "0"
        ],
        [
         "30",
         "23",
         "2019-01-02 00:00:00",
         "Center Shopping Uberlândia",
         "Bermuda Estampa",
         "3",
         "169",
         "507",
         "25.35",
         "0"
        ],
        [
         "31",
         "23",
         "2019-01-02 00:00:00",
         "Center Shopping Uberlândia",
         "Chinelo Liso",
         "3",
         "71",
         "213",
         "10.65",
         "0"
        ],
        [
         "32",
         "26",
         "2019-01-02 00:00:00",
         "Shopping União de Osasco",
         "Chinelo",
         "2",
         "60",
         "120",
         "6.0",
         "0"
        ],
        [
         "33",
         "27",
         "2019-01-02 00:00:00",
         "Rio Mar Shopping Fortaleza",
         "Sunga Linho",
         "1",
         "149",
         "149",
         "7.45",
         "0"
        ],
        [
         "34",
         "27",
         "2019-01-02 00:00:00",
         "Rio Mar Shopping Fortaleza",
         "Terno Listrado",
         "2",
         "709",
         "1418",
         "70.9",
         "0"
        ],
        [
         "35",
         "29",
         "2019-01-02 00:00:00",
         "Shopping Center Leste Aricanduva",
         "Gorro Liso",
         "4",
         "92",
         "368",
         "18.400000000000002",
         "0"
        ],
        [
         "36",
         "31",
         "2019-01-02 00:00:00",
         "Shopping Eldorado",
         "Casaco Estampa",
         "3",
         "256",
         "768",
         "38.400000000000006",
         "0"
        ],
        [
         "37",
         "31",
         "2019-01-02 00:00:00",
         "Shopping Eldorado",
         "Pulseira",
         "3",
         "70",
         "210",
         "10.5",
         "0"
        ],
        [
         "38",
         "31",
         "2019-01-02 00:00:00",
         "Shopping Eldorado",
         "Gorro Linho",
         "1",
         "124",
         "124",
         "6.2",
         "0"
        ],
        [
         "39",
         "31",
         "2019-01-02 00:00:00",
         "Shopping Eldorado",
         "Cinto Linho",
         "3",
         "248",
         "744",
         "37.2",
         "0"
        ],
        [
         "40",
         "32",
         "2019-01-02 00:00:00",
         "Shopping Vila Velha",
         "Polo Liso",
         "1",
         "137",
         "137",
         "6.8500000000000005",
         "0"
        ],
        [
         "41",
         "32",
         "2019-01-02 00:00:00",
         "Shopping Vila Velha",
         "Polo Listrado",
         "2",
         "149",
         "298",
         "14.9",
         "0"
        ],
        [
         "42",
         "33",
         "2019-01-02 00:00:00",
         "Shopping Midway Mall",
         "Camisa",
         "1",
         "100",
         "100",
         "5.0",
         "0"
        ],
        [
         "43",
         "33",
         "2019-01-02 00:00:00",
         "Shopping Midway Mall",
         "Meia Xadrez",
         "3",
         "41",
         "123",
         "6.15",
         "0"
        ],
        [
         "44",
         "34",
         "2019-01-02 00:00:00",
         "Iguatemi Esplanada",
         "Sapato Listrado",
         "1",
         "363",
         "363",
         "18.150000000000002",
         "0"
        ],
        [
         "45",
         "34",
         "2019-01-02 00:00:00",
         "Iguatemi Esplanada",
         "Camisa Gola V Liso",
         "2",
         "118",
         "236",
         "11.8",
         "0"
        ],
        [
         "46",
         "35",
         "2019-01-02 00:00:00",
         "Parque Dom Pedro Shopping",
         "Relógio",
         "2",
         "200",
         "400",
         "20.0",
         "0"
        ],
        [
         "47",
         "35",
         "2019-01-02 00:00:00",
         "Parque Dom Pedro Shopping",
         "Sapato",
         "2",
         "350",
         "700",
         "35.0",
         "0"
        ],
        [
         "48",
         "36",
         "2019-01-02 00:00:00",
         "Rio Mar Shopping Fortaleza",
         "Meia Listrado",
         "1",
         "37",
         "37",
         "1.85",
         "0"
        ],
        [
         "49",
         "38",
         "2019-01-02 00:00:00",
         "Shopping Vila Velha",
         "Meia Xadrez",
         "3",
         "41",
         "123",
         "6.15",
         "0"
        ]
       ],
       "shape": {
        "columns": 9,
        "rows": 100999
       }
      },
      "text/html": [
       "<div>\n",
       "<style scoped>\n",
       "    .dataframe tbody tr th:only-of-type {\n",
       "        vertical-align: middle;\n",
       "    }\n",
       "\n",
       "    .dataframe tbody tr th {\n",
       "        vertical-align: top;\n",
       "    }\n",
       "\n",
       "    .dataframe thead th {\n",
       "        text-align: right;\n",
       "    }\n",
       "</style>\n",
       "<table border=\"1\" class=\"dataframe\">\n",
       "  <thead>\n",
       "    <tr style=\"text-align: right;\">\n",
       "      <th></th>\n",
       "      <th>Código Venda</th>\n",
       "      <th>Data</th>\n",
       "      <th>ID Loja</th>\n",
       "      <th>Produto</th>\n",
       "      <th>Quantidade</th>\n",
       "      <th>Valor Unitário</th>\n",
       "      <th>Valor Final</th>\n",
       "      <th>Comissão</th>\n",
       "      <th>Imposto</th>\n",
       "    </tr>\n",
       "  </thead>\n",
       "  <tbody>\n",
       "    <tr>\n",
       "      <th>0</th>\n",
       "      <td>1</td>\n",
       "      <td>2019-01-01</td>\n",
       "      <td>Iguatemi Esplanada</td>\n",
       "      <td>Sapato Estampa</td>\n",
       "      <td>1</td>\n",
       "      <td>358</td>\n",
       "      <td>358</td>\n",
       "      <td>17.90</td>\n",
       "      <td>0</td>\n",
       "    </tr>\n",
       "    <tr>\n",
       "      <th>1</th>\n",
       "      <td>1</td>\n",
       "      <td>2019-01-01</td>\n",
       "      <td>Iguatemi Esplanada</td>\n",
       "      <td>Camiseta</td>\n",
       "      <td>2</td>\n",
       "      <td>180</td>\n",
       "      <td>360</td>\n",
       "      <td>18.00</td>\n",
       "      <td>0</td>\n",
       "    </tr>\n",
       "    <tr>\n",
       "      <th>2</th>\n",
       "      <td>1</td>\n",
       "      <td>2019-01-01</td>\n",
       "      <td>Iguatemi Esplanada</td>\n",
       "      <td>Sapato Xadrez</td>\n",
       "      <td>1</td>\n",
       "      <td>368</td>\n",
       "      <td>368</td>\n",
       "      <td>18.40</td>\n",
       "      <td>0</td>\n",
       "    </tr>\n",
       "    <tr>\n",
       "      <th>3</th>\n",
       "      <td>2</td>\n",
       "      <td>2019-01-02</td>\n",
       "      <td>Norte Shopping</td>\n",
       "      <td>Relógio</td>\n",
       "      <td>3</td>\n",
       "      <td>200</td>\n",
       "      <td>600</td>\n",
       "      <td>30.00</td>\n",
       "      <td>0</td>\n",
       "    </tr>\n",
       "    <tr>\n",
       "      <th>4</th>\n",
       "      <td>2</td>\n",
       "      <td>2019-01-02</td>\n",
       "      <td>Norte Shopping</td>\n",
       "      <td>Chinelo Liso</td>\n",
       "      <td>1</td>\n",
       "      <td>71</td>\n",
       "      <td>71</td>\n",
       "      <td>3.55</td>\n",
       "      <td>0</td>\n",
       "    </tr>\n",
       "    <tr>\n",
       "      <th>...</th>\n",
       "      <td>...</td>\n",
       "      <td>...</td>\n",
       "      <td>...</td>\n",
       "      <td>...</td>\n",
       "      <td>...</td>\n",
       "      <td>...</td>\n",
       "      <td>...</td>\n",
       "      <td>...</td>\n",
       "      <td>...</td>\n",
       "    </tr>\n",
       "    <tr>\n",
       "      <th>100994</th>\n",
       "      <td>69996</td>\n",
       "      <td>2019-12-26</td>\n",
       "      <td>Center Shopping Uberlândia</td>\n",
       "      <td>Short Listrado</td>\n",
       "      <td>2</td>\n",
       "      <td>102</td>\n",
       "      <td>204</td>\n",
       "      <td>10.20</td>\n",
       "      <td>0</td>\n",
       "    </tr>\n",
       "    <tr>\n",
       "      <th>100995</th>\n",
       "      <td>69996</td>\n",
       "      <td>2019-12-26</td>\n",
       "      <td>Center Shopping Uberlândia</td>\n",
       "      <td>Mochila</td>\n",
       "      <td>4</td>\n",
       "      <td>270</td>\n",
       "      <td>1080</td>\n",
       "      <td>54.00</td>\n",
       "      <td>0</td>\n",
       "    </tr>\n",
       "    <tr>\n",
       "      <th>100996</th>\n",
       "      <td>69996</td>\n",
       "      <td>2019-12-26</td>\n",
       "      <td>Center Shopping Uberlândia</td>\n",
       "      <td>Pulseira Estampa</td>\n",
       "      <td>1</td>\n",
       "      <td>87</td>\n",
       "      <td>87</td>\n",
       "      <td>4.35</td>\n",
       "      <td>0</td>\n",
       "    </tr>\n",
       "    <tr>\n",
       "      <th>100997</th>\n",
       "      <td>69997</td>\n",
       "      <td>2019-12-26</td>\n",
       "      <td>Ribeirão Shopping</td>\n",
       "      <td>Camisa Listrado</td>\n",
       "      <td>1</td>\n",
       "      <td>108</td>\n",
       "      <td>108</td>\n",
       "      <td>5.40</td>\n",
       "      <td>0</td>\n",
       "    </tr>\n",
       "    <tr>\n",
       "      <th>100998</th>\n",
       "      <td>69997</td>\n",
       "      <td>2019-12-26</td>\n",
       "      <td>Ribeirão Shopping</td>\n",
       "      <td>Short Linho</td>\n",
       "      <td>2</td>\n",
       "      <td>133</td>\n",
       "      <td>266</td>\n",
       "      <td>13.30</td>\n",
       "      <td>0</td>\n",
       "    </tr>\n",
       "  </tbody>\n",
       "</table>\n",
       "<p>100999 rows × 9 columns</p>\n",
       "</div>"
      ],
      "text/plain": [
       "        Código Venda       Data                     ID Loja           Produto  \\\n",
       "0                  1 2019-01-01          Iguatemi Esplanada    Sapato Estampa   \n",
       "1                  1 2019-01-01          Iguatemi Esplanada          Camiseta   \n",
       "2                  1 2019-01-01          Iguatemi Esplanada     Sapato Xadrez   \n",
       "3                  2 2019-01-02              Norte Shopping           Relógio   \n",
       "4                  2 2019-01-02              Norte Shopping      Chinelo Liso   \n",
       "...              ...        ...                         ...               ...   \n",
       "100994         69996 2019-12-26  Center Shopping Uberlândia    Short Listrado   \n",
       "100995         69996 2019-12-26  Center Shopping Uberlândia           Mochila   \n",
       "100996         69996 2019-12-26  Center Shopping Uberlândia  Pulseira Estampa   \n",
       "100997         69997 2019-12-26           Ribeirão Shopping   Camisa Listrado   \n",
       "100998         69997 2019-12-26           Ribeirão Shopping       Short Linho   \n",
       "\n",
       "        Quantidade  Valor Unitário  Valor Final  Comissão  Imposto  \n",
       "0                1             358          358     17.90        0  \n",
       "1                2             180          360     18.00        0  \n",
       "2                1             368          368     18.40        0  \n",
       "3                3             200          600     30.00        0  \n",
       "4                1              71           71      3.55        0  \n",
       "...            ...             ...          ...       ...      ...  \n",
       "100994           2             102          204     10.20        0  \n",
       "100995           4             270         1080     54.00        0  \n",
       "100996           1              87           87      4.35        0  \n",
       "100997           1             108          108      5.40        0  \n",
       "100998           2             133          266     13.30        0  \n",
       "\n",
       "[100999 rows x 9 columns]"
      ]
     },
     "metadata": {},
     "output_type": "display_data"
    }
   ],
   "source": [
    "# Now we want to add sales_dec_df to sales_df\n",
    "\n",
    "# Combining both dataframes\n",
    "combined_df = pd.concat([sales_df, sales_dec_df], ignore_index=True)\n",
    "\n",
    "# Removing duplicates, keeping only the first occurrence\n",
    "sales_df = combined_df.drop_duplicates()\n",
    "\n",
    "# Redefining the index after removing the duplicates - it guarantees the index keeps sequential not adding any extra column of old index\n",
    "sales_df.reset_index(drop=True, inplace=True)\n",
    "\n",
    "display(combined_df)\n"
   ]
  },
  {
   "cell_type": "markdown",
   "id": "bbaf3c8e",
   "metadata": {},
   "source": [
    "Removing columns and rows"
   ]
  },
  {
   "cell_type": "code",
   "execution_count": 188,
   "id": "0f7e3307",
   "metadata": {},
   "outputs": [
    {
     "data": {
      "application/vnd.microsoft.datawrangler.viewer.v0+json": {
       "columns": [
        {
         "name": "index",
         "rawType": "int64",
         "type": "integer"
        },
        {
         "name": "Código Venda",
         "rawType": "int64",
         "type": "integer"
        },
        {
         "name": "Data",
         "rawType": "datetime64[ns]",
         "type": "datetime"
        },
        {
         "name": "ID Loja",
         "rawType": "object",
         "type": "string"
        },
        {
         "name": "Produto",
         "rawType": "object",
         "type": "string"
        },
        {
         "name": "Quantidade",
         "rawType": "int64",
         "type": "integer"
        },
        {
         "name": "Valor Unitário",
         "rawType": "int64",
         "type": "integer"
        },
        {
         "name": "Valor Final",
         "rawType": "int64",
         "type": "integer"
        },
        {
         "name": "Comissão",
         "rawType": "float64",
         "type": "float"
        }
       ],
       "ref": "97b0ac39-c9ef-4c94-a8a0-71768714d2f5",
       "rows": [
        [
         "0",
         "1",
         "2019-01-01 00:00:00",
         "Iguatemi Esplanada",
         "Sapato Estampa",
         "1",
         "358",
         "358",
         "17.900000000000002"
        ],
        [
         "1",
         "1",
         "2019-01-01 00:00:00",
         "Iguatemi Esplanada",
         "Camiseta",
         "2",
         "180",
         "360",
         "18.0"
        ],
        [
         "2",
         "1",
         "2019-01-01 00:00:00",
         "Iguatemi Esplanada",
         "Sapato Xadrez",
         "1",
         "368",
         "368",
         "18.400000000000002"
        ],
        [
         "3",
         "2",
         "2019-01-02 00:00:00",
         "Norte Shopping",
         "Relógio",
         "3",
         "200",
         "600",
         "30.0"
        ],
        [
         "4",
         "2",
         "2019-01-02 00:00:00",
         "Norte Shopping",
         "Chinelo Liso",
         "1",
         "71",
         "71",
         "3.5500000000000003"
        ],
        [
         "5",
         "3",
         "2019-01-02 00:00:00",
         "Rio Mar Shopping Fortaleza",
         "Cinto Linho",
         "1",
         "248",
         "248",
         "12.4"
        ],
        [
         "6",
         "5",
         "2019-01-02 00:00:00",
         "Shopping Barra",
         "Calça",
         "1",
         "170",
         "170",
         "8.5"
        ],
        [
         "7",
         "6",
         "2019-01-02 00:00:00",
         "Shopping Ibirapuera",
         "Polo Listrado",
         "4",
         "149",
         "596",
         "29.8"
        ],
        [
         "8",
         "7",
         "2019-01-02 00:00:00",
         "Norte Shopping",
         "Camisa Gola V Listrado",
         "1",
         "116",
         "116",
         "5.800000000000001"
        ],
        [
         "9",
         "7",
         "2019-01-02 00:00:00",
         "Norte Shopping",
         "Camisa Liso",
         "1",
         "105",
         "105",
         "5.25"
        ],
        [
         "10",
         "8",
         "2019-01-02 00:00:00",
         "Iguatemi Campinas",
         "Terno Estampa",
         "5",
         "706",
         "3530",
         "176.5"
        ],
        [
         "11",
         "9",
         "2019-01-02 00:00:00",
         "Shopping Center Leste Aricanduva",
         "Tênis Linho",
         "1",
         "294",
         "294",
         "14.700000000000001"
        ],
        [
         "12",
         "9",
         "2019-01-02 00:00:00",
         "Shopping Center Leste Aricanduva",
         "Casaco Xadrez",
         "2",
         "259",
         "518",
         "25.900000000000002"
        ],
        [
         "13",
         "10",
         "2019-01-02 00:00:00",
         "Passei das Águas Shopping",
         "Camiseta Xadrez",
         "2",
         "200",
         "400",
         "20.0"
        ],
        [
         "14",
         "10",
         "2019-01-02 00:00:00",
         "Passei das Águas Shopping",
         "Cueca Liso",
         "1",
         "69",
         "69",
         "3.45"
        ],
        [
         "15",
         "11",
         "2019-01-02 00:00:00",
         "Shopping Recife",
         "Camiseta",
         "1",
         "180",
         "180",
         "9.0"
        ],
        [
         "16",
         "11",
         "2019-01-02 00:00:00",
         "Shopping Recife",
         "Calça Listrado",
         "2",
         "181",
         "362",
         "18.1"
        ],
        [
         "17",
         "11",
         "2019-01-02 00:00:00",
         "Shopping Recife",
         "Camisa Estampa",
         "1",
         "113",
         "113",
         "5.65"
        ],
        [
         "18",
         "12",
         "2019-01-02 00:00:00",
         "Shopping Midway Mall",
         "Short Xadrez",
         "4",
         "100",
         "400",
         "20.0"
        ],
        [
         "19",
         "12",
         "2019-01-02 00:00:00",
         "Shopping Midway Mall",
         "Sunga Liso",
         "2",
         "114",
         "228",
         "11.4"
        ],
        [
         "20",
         "14",
         "2019-01-02 00:00:00",
         "Bourbon Shopping SP",
         "Casaco Liso",
         "2",
         "255",
         "510",
         "25.5"
        ],
        [
         "21",
         "17",
         "2019-01-02 00:00:00",
         "Iguatemi Campinas",
         "Chinelo Liso",
         "1",
         "71",
         "71",
         "3.5500000000000003"
        ],
        [
         "22",
         "18",
         "2019-01-02 00:00:00",
         "Rio Mar Shopping Fortaleza",
         "Camisa Estampa",
         "1",
         "113",
         "113",
         "5.65"
        ],
        [
         "23",
         "19",
         "2019-01-02 00:00:00",
         "Passei das Águas Shopping",
         "Relógio Listrado",
         "1",
         "218",
         "218",
         "10.9"
        ],
        [
         "24",
         "19",
         "2019-01-02 00:00:00",
         "Passei das Águas Shopping",
         "Calça Linho",
         "2",
         "211",
         "422",
         "21.1"
        ],
        [
         "25",
         "20",
         "2019-01-02 00:00:00",
         "Shopping Center Interlagos",
         "Mochila Liso",
         "1",
         "276",
         "276",
         "13.8"
        ],
        [
         "26",
         "21",
         "2019-01-02 00:00:00",
         "Iguatemi Esplanada",
         "Camisa Gola V Listrado",
         "2",
         "116",
         "232",
         "11.600000000000001"
        ],
        [
         "27",
         "22",
         "2019-01-02 00:00:00",
         "Parque Dom Pedro Shopping",
         "Meia",
         "1",
         "30",
         "30",
         "1.5"
        ],
        [
         "28",
         "22",
         "2019-01-02 00:00:00",
         "Parque Dom Pedro Shopping",
         "Meia Linho",
         "2",
         "78",
         "156",
         "7.800000000000001"
        ],
        [
         "29",
         "22",
         "2019-01-02 00:00:00",
         "Parque Dom Pedro Shopping",
         "Calça Liso",
         "2",
         "190",
         "380",
         "19.0"
        ],
        [
         "30",
         "23",
         "2019-01-02 00:00:00",
         "Center Shopping Uberlândia",
         "Bermuda Estampa",
         "3",
         "169",
         "507",
         "25.35"
        ],
        [
         "31",
         "23",
         "2019-01-02 00:00:00",
         "Center Shopping Uberlândia",
         "Chinelo Liso",
         "3",
         "71",
         "213",
         "10.65"
        ],
        [
         "32",
         "26",
         "2019-01-02 00:00:00",
         "Shopping União de Osasco",
         "Chinelo",
         "2",
         "60",
         "120",
         "6.0"
        ],
        [
         "33",
         "27",
         "2019-01-02 00:00:00",
         "Rio Mar Shopping Fortaleza",
         "Sunga Linho",
         "1",
         "149",
         "149",
         "7.45"
        ],
        [
         "34",
         "27",
         "2019-01-02 00:00:00",
         "Rio Mar Shopping Fortaleza",
         "Terno Listrado",
         "2",
         "709",
         "1418",
         "70.9"
        ],
        [
         "35",
         "29",
         "2019-01-02 00:00:00",
         "Shopping Center Leste Aricanduva",
         "Gorro Liso",
         "4",
         "92",
         "368",
         "18.400000000000002"
        ],
        [
         "36",
         "31",
         "2019-01-02 00:00:00",
         "Shopping Eldorado",
         "Casaco Estampa",
         "3",
         "256",
         "768",
         "38.400000000000006"
        ],
        [
         "37",
         "31",
         "2019-01-02 00:00:00",
         "Shopping Eldorado",
         "Pulseira",
         "3",
         "70",
         "210",
         "10.5"
        ],
        [
         "38",
         "31",
         "2019-01-02 00:00:00",
         "Shopping Eldorado",
         "Gorro Linho",
         "1",
         "124",
         "124",
         "6.2"
        ],
        [
         "39",
         "31",
         "2019-01-02 00:00:00",
         "Shopping Eldorado",
         "Cinto Linho",
         "3",
         "248",
         "744",
         "37.2"
        ],
        [
         "40",
         "32",
         "2019-01-02 00:00:00",
         "Shopping Vila Velha",
         "Polo Liso",
         "1",
         "137",
         "137",
         "6.8500000000000005"
        ],
        [
         "41",
         "32",
         "2019-01-02 00:00:00",
         "Shopping Vila Velha",
         "Polo Listrado",
         "2",
         "149",
         "298",
         "14.9"
        ],
        [
         "42",
         "33",
         "2019-01-02 00:00:00",
         "Shopping Midway Mall",
         "Camisa",
         "1",
         "100",
         "100",
         "5.0"
        ],
        [
         "43",
         "33",
         "2019-01-02 00:00:00",
         "Shopping Midway Mall",
         "Meia Xadrez",
         "3",
         "41",
         "123",
         "6.15"
        ],
        [
         "44",
         "34",
         "2019-01-02 00:00:00",
         "Iguatemi Esplanada",
         "Sapato Listrado",
         "1",
         "363",
         "363",
         "18.150000000000002"
        ],
        [
         "45",
         "34",
         "2019-01-02 00:00:00",
         "Iguatemi Esplanada",
         "Camisa Gola V Liso",
         "2",
         "118",
         "236",
         "11.8"
        ],
        [
         "46",
         "35",
         "2019-01-02 00:00:00",
         "Parque Dom Pedro Shopping",
         "Relógio",
         "2",
         "200",
         "400",
         "20.0"
        ],
        [
         "47",
         "35",
         "2019-01-02 00:00:00",
         "Parque Dom Pedro Shopping",
         "Sapato",
         "2",
         "350",
         "700",
         "35.0"
        ],
        [
         "48",
         "36",
         "2019-01-02 00:00:00",
         "Rio Mar Shopping Fortaleza",
         "Meia Listrado",
         "1",
         "37",
         "37",
         "1.85"
        ],
        [
         "49",
         "38",
         "2019-01-02 00:00:00",
         "Shopping Vila Velha",
         "Meia Xadrez",
         "3",
         "41",
         "123",
         "6.15"
        ]
       ],
       "shape": {
        "columns": 8,
        "rows": 100999
       }
      },
      "text/html": [
       "<div>\n",
       "<style scoped>\n",
       "    .dataframe tbody tr th:only-of-type {\n",
       "        vertical-align: middle;\n",
       "    }\n",
       "\n",
       "    .dataframe tbody tr th {\n",
       "        vertical-align: top;\n",
       "    }\n",
       "\n",
       "    .dataframe thead th {\n",
       "        text-align: right;\n",
       "    }\n",
       "</style>\n",
       "<table border=\"1\" class=\"dataframe\">\n",
       "  <thead>\n",
       "    <tr style=\"text-align: right;\">\n",
       "      <th></th>\n",
       "      <th>Código Venda</th>\n",
       "      <th>Data</th>\n",
       "      <th>ID Loja</th>\n",
       "      <th>Produto</th>\n",
       "      <th>Quantidade</th>\n",
       "      <th>Valor Unitário</th>\n",
       "      <th>Valor Final</th>\n",
       "      <th>Comissão</th>\n",
       "    </tr>\n",
       "  </thead>\n",
       "  <tbody>\n",
       "    <tr>\n",
       "      <th>0</th>\n",
       "      <td>1</td>\n",
       "      <td>2019-01-01</td>\n",
       "      <td>Iguatemi Esplanada</td>\n",
       "      <td>Sapato Estampa</td>\n",
       "      <td>1</td>\n",
       "      <td>358</td>\n",
       "      <td>358</td>\n",
       "      <td>17.90</td>\n",
       "    </tr>\n",
       "    <tr>\n",
       "      <th>1</th>\n",
       "      <td>1</td>\n",
       "      <td>2019-01-01</td>\n",
       "      <td>Iguatemi Esplanada</td>\n",
       "      <td>Camiseta</td>\n",
       "      <td>2</td>\n",
       "      <td>180</td>\n",
       "      <td>360</td>\n",
       "      <td>18.00</td>\n",
       "    </tr>\n",
       "    <tr>\n",
       "      <th>2</th>\n",
       "      <td>1</td>\n",
       "      <td>2019-01-01</td>\n",
       "      <td>Iguatemi Esplanada</td>\n",
       "      <td>Sapato Xadrez</td>\n",
       "      <td>1</td>\n",
       "      <td>368</td>\n",
       "      <td>368</td>\n",
       "      <td>18.40</td>\n",
       "    </tr>\n",
       "    <tr>\n",
       "      <th>3</th>\n",
       "      <td>2</td>\n",
       "      <td>2019-01-02</td>\n",
       "      <td>Norte Shopping</td>\n",
       "      <td>Relógio</td>\n",
       "      <td>3</td>\n",
       "      <td>200</td>\n",
       "      <td>600</td>\n",
       "      <td>30.00</td>\n",
       "    </tr>\n",
       "    <tr>\n",
       "      <th>4</th>\n",
       "      <td>2</td>\n",
       "      <td>2019-01-02</td>\n",
       "      <td>Norte Shopping</td>\n",
       "      <td>Chinelo Liso</td>\n",
       "      <td>1</td>\n",
       "      <td>71</td>\n",
       "      <td>71</td>\n",
       "      <td>3.55</td>\n",
       "    </tr>\n",
       "    <tr>\n",
       "      <th>...</th>\n",
       "      <td>...</td>\n",
       "      <td>...</td>\n",
       "      <td>...</td>\n",
       "      <td>...</td>\n",
       "      <td>...</td>\n",
       "      <td>...</td>\n",
       "      <td>...</td>\n",
       "      <td>...</td>\n",
       "    </tr>\n",
       "    <tr>\n",
       "      <th>100994</th>\n",
       "      <td>69996</td>\n",
       "      <td>2019-12-26</td>\n",
       "      <td>Center Shopping Uberlândia</td>\n",
       "      <td>Short Listrado</td>\n",
       "      <td>2</td>\n",
       "      <td>102</td>\n",
       "      <td>204</td>\n",
       "      <td>10.20</td>\n",
       "    </tr>\n",
       "    <tr>\n",
       "      <th>100995</th>\n",
       "      <td>69996</td>\n",
       "      <td>2019-12-26</td>\n",
       "      <td>Center Shopping Uberlândia</td>\n",
       "      <td>Mochila</td>\n",
       "      <td>4</td>\n",
       "      <td>270</td>\n",
       "      <td>1080</td>\n",
       "      <td>54.00</td>\n",
       "    </tr>\n",
       "    <tr>\n",
       "      <th>100996</th>\n",
       "      <td>69996</td>\n",
       "      <td>2019-12-26</td>\n",
       "      <td>Center Shopping Uberlândia</td>\n",
       "      <td>Pulseira Estampa</td>\n",
       "      <td>1</td>\n",
       "      <td>87</td>\n",
       "      <td>87</td>\n",
       "      <td>4.35</td>\n",
       "    </tr>\n",
       "    <tr>\n",
       "      <th>100997</th>\n",
       "      <td>69997</td>\n",
       "      <td>2019-12-26</td>\n",
       "      <td>Ribeirão Shopping</td>\n",
       "      <td>Camisa Listrado</td>\n",
       "      <td>1</td>\n",
       "      <td>108</td>\n",
       "      <td>108</td>\n",
       "      <td>5.40</td>\n",
       "    </tr>\n",
       "    <tr>\n",
       "      <th>100998</th>\n",
       "      <td>69997</td>\n",
       "      <td>2019-12-26</td>\n",
       "      <td>Ribeirão Shopping</td>\n",
       "      <td>Short Linho</td>\n",
       "      <td>2</td>\n",
       "      <td>133</td>\n",
       "      <td>266</td>\n",
       "      <td>13.30</td>\n",
       "    </tr>\n",
       "  </tbody>\n",
       "</table>\n",
       "<p>100999 rows × 8 columns</p>\n",
       "</div>"
      ],
      "text/plain": [
       "        Código Venda       Data                     ID Loja           Produto  \\\n",
       "0                  1 2019-01-01          Iguatemi Esplanada    Sapato Estampa   \n",
       "1                  1 2019-01-01          Iguatemi Esplanada          Camiseta   \n",
       "2                  1 2019-01-01          Iguatemi Esplanada     Sapato Xadrez   \n",
       "3                  2 2019-01-02              Norte Shopping           Relógio   \n",
       "4                  2 2019-01-02              Norte Shopping      Chinelo Liso   \n",
       "...              ...        ...                         ...               ...   \n",
       "100994         69996 2019-12-26  Center Shopping Uberlândia    Short Listrado   \n",
       "100995         69996 2019-12-26  Center Shopping Uberlândia           Mochila   \n",
       "100996         69996 2019-12-26  Center Shopping Uberlândia  Pulseira Estampa   \n",
       "100997         69997 2019-12-26           Ribeirão Shopping   Camisa Listrado   \n",
       "100998         69997 2019-12-26           Ribeirão Shopping       Short Linho   \n",
       "\n",
       "        Quantidade  Valor Unitário  Valor Final  Comissão  \n",
       "0                1             358          358     17.90  \n",
       "1                2             180          360     18.00  \n",
       "2                1             368          368     18.40  \n",
       "3                3             200          600     30.00  \n",
       "4                1              71           71      3.55  \n",
       "...            ...             ...          ...       ...  \n",
       "100994           2             102          204     10.20  \n",
       "100995           4             270         1080     54.00  \n",
       "100996           1              87           87      4.35  \n",
       "100997           1             108          108      5.40  \n",
       "100998           2             133          266     13.30  \n",
       "\n",
       "[100999 rows x 8 columns]"
      ]
     },
     "metadata": {},
     "output_type": "display_data"
    }
   ],
   "source": [
    "# Removing 'Imposto' column\n",
    "\n",
    "combined_df = combined_df.drop('Imposto', axis=1) # Axis for column is always 1.\n",
    "display(combined_df)\n"
   ]
  },
  {
   "cell_type": "code",
   "execution_count": 189,
   "id": "27a090a7",
   "metadata": {},
   "outputs": [
    {
     "data": {
      "application/vnd.microsoft.datawrangler.viewer.v0+json": {
       "columns": [
        {
         "name": "index",
         "rawType": "int64",
         "type": "integer"
        },
        {
         "name": "Código Venda",
         "rawType": "int64",
         "type": "integer"
        },
        {
         "name": "Data",
         "rawType": "datetime64[ns]",
         "type": "datetime"
        },
        {
         "name": "ID Loja",
         "rawType": "object",
         "type": "string"
        },
        {
         "name": "Produto",
         "rawType": "object",
         "type": "string"
        },
        {
         "name": "Quantidade",
         "rawType": "int64",
         "type": "integer"
        },
        {
         "name": "Valor Unitário",
         "rawType": "int64",
         "type": "integer"
        },
        {
         "name": "Valor Final",
         "rawType": "int64",
         "type": "integer"
        },
        {
         "name": "Comissão",
         "rawType": "float64",
         "type": "float"
        }
       ],
       "ref": "c1120351-f45a-46c8-9fe8-1618c51fa925",
       "rows": [
        [
         "1",
         "1",
         "2019-01-01 00:00:00",
         "Iguatemi Esplanada",
         "Camiseta",
         "2",
         "180",
         "360",
         "18.0"
        ],
        [
         "2",
         "1",
         "2019-01-01 00:00:00",
         "Iguatemi Esplanada",
         "Sapato Xadrez",
         "1",
         "368",
         "368",
         "18.400000000000002"
        ],
        [
         "3",
         "2",
         "2019-01-02 00:00:00",
         "Norte Shopping",
         "Relógio",
         "3",
         "200",
         "600",
         "30.0"
        ],
        [
         "4",
         "2",
         "2019-01-02 00:00:00",
         "Norte Shopping",
         "Chinelo Liso",
         "1",
         "71",
         "71",
         "3.5500000000000003"
        ],
        [
         "5",
         "3",
         "2019-01-02 00:00:00",
         "Rio Mar Shopping Fortaleza",
         "Cinto Linho",
         "1",
         "248",
         "248",
         "12.4"
        ],
        [
         "6",
         "5",
         "2019-01-02 00:00:00",
         "Shopping Barra",
         "Calça",
         "1",
         "170",
         "170",
         "8.5"
        ],
        [
         "7",
         "6",
         "2019-01-02 00:00:00",
         "Shopping Ibirapuera",
         "Polo Listrado",
         "4",
         "149",
         "596",
         "29.8"
        ],
        [
         "8",
         "7",
         "2019-01-02 00:00:00",
         "Norte Shopping",
         "Camisa Gola V Listrado",
         "1",
         "116",
         "116",
         "5.800000000000001"
        ],
        [
         "9",
         "7",
         "2019-01-02 00:00:00",
         "Norte Shopping",
         "Camisa Liso",
         "1",
         "105",
         "105",
         "5.25"
        ],
        [
         "10",
         "8",
         "2019-01-02 00:00:00",
         "Iguatemi Campinas",
         "Terno Estampa",
         "5",
         "706",
         "3530",
         "176.5"
        ],
        [
         "11",
         "9",
         "2019-01-02 00:00:00",
         "Shopping Center Leste Aricanduva",
         "Tênis Linho",
         "1",
         "294",
         "294",
         "14.700000000000001"
        ],
        [
         "12",
         "9",
         "2019-01-02 00:00:00",
         "Shopping Center Leste Aricanduva",
         "Casaco Xadrez",
         "2",
         "259",
         "518",
         "25.900000000000002"
        ],
        [
         "13",
         "10",
         "2019-01-02 00:00:00",
         "Passei das Águas Shopping",
         "Camiseta Xadrez",
         "2",
         "200",
         "400",
         "20.0"
        ],
        [
         "14",
         "10",
         "2019-01-02 00:00:00",
         "Passei das Águas Shopping",
         "Cueca Liso",
         "1",
         "69",
         "69",
         "3.45"
        ],
        [
         "15",
         "11",
         "2019-01-02 00:00:00",
         "Shopping Recife",
         "Camiseta",
         "1",
         "180",
         "180",
         "9.0"
        ],
        [
         "16",
         "11",
         "2019-01-02 00:00:00",
         "Shopping Recife",
         "Calça Listrado",
         "2",
         "181",
         "362",
         "18.1"
        ],
        [
         "17",
         "11",
         "2019-01-02 00:00:00",
         "Shopping Recife",
         "Camisa Estampa",
         "1",
         "113",
         "113",
         "5.65"
        ],
        [
         "18",
         "12",
         "2019-01-02 00:00:00",
         "Shopping Midway Mall",
         "Short Xadrez",
         "4",
         "100",
         "400",
         "20.0"
        ],
        [
         "19",
         "12",
         "2019-01-02 00:00:00",
         "Shopping Midway Mall",
         "Sunga Liso",
         "2",
         "114",
         "228",
         "11.4"
        ],
        [
         "20",
         "14",
         "2019-01-02 00:00:00",
         "Bourbon Shopping SP",
         "Casaco Liso",
         "2",
         "255",
         "510",
         "25.5"
        ],
        [
         "21",
         "17",
         "2019-01-02 00:00:00",
         "Iguatemi Campinas",
         "Chinelo Liso",
         "1",
         "71",
         "71",
         "3.5500000000000003"
        ],
        [
         "22",
         "18",
         "2019-01-02 00:00:00",
         "Rio Mar Shopping Fortaleza",
         "Camisa Estampa",
         "1",
         "113",
         "113",
         "5.65"
        ],
        [
         "23",
         "19",
         "2019-01-02 00:00:00",
         "Passei das Águas Shopping",
         "Relógio Listrado",
         "1",
         "218",
         "218",
         "10.9"
        ],
        [
         "24",
         "19",
         "2019-01-02 00:00:00",
         "Passei das Águas Shopping",
         "Calça Linho",
         "2",
         "211",
         "422",
         "21.1"
        ],
        [
         "25",
         "20",
         "2019-01-02 00:00:00",
         "Shopping Center Interlagos",
         "Mochila Liso",
         "1",
         "276",
         "276",
         "13.8"
        ],
        [
         "26",
         "21",
         "2019-01-02 00:00:00",
         "Iguatemi Esplanada",
         "Camisa Gola V Listrado",
         "2",
         "116",
         "232",
         "11.600000000000001"
        ],
        [
         "27",
         "22",
         "2019-01-02 00:00:00",
         "Parque Dom Pedro Shopping",
         "Meia",
         "1",
         "30",
         "30",
         "1.5"
        ],
        [
         "28",
         "22",
         "2019-01-02 00:00:00",
         "Parque Dom Pedro Shopping",
         "Meia Linho",
         "2",
         "78",
         "156",
         "7.800000000000001"
        ],
        [
         "29",
         "22",
         "2019-01-02 00:00:00",
         "Parque Dom Pedro Shopping",
         "Calça Liso",
         "2",
         "190",
         "380",
         "19.0"
        ],
        [
         "30",
         "23",
         "2019-01-02 00:00:00",
         "Center Shopping Uberlândia",
         "Bermuda Estampa",
         "3",
         "169",
         "507",
         "25.35"
        ],
        [
         "31",
         "23",
         "2019-01-02 00:00:00",
         "Center Shopping Uberlândia",
         "Chinelo Liso",
         "3",
         "71",
         "213",
         "10.65"
        ],
        [
         "32",
         "26",
         "2019-01-02 00:00:00",
         "Shopping União de Osasco",
         "Chinelo",
         "2",
         "60",
         "120",
         "6.0"
        ],
        [
         "33",
         "27",
         "2019-01-02 00:00:00",
         "Rio Mar Shopping Fortaleza",
         "Sunga Linho",
         "1",
         "149",
         "149",
         "7.45"
        ],
        [
         "34",
         "27",
         "2019-01-02 00:00:00",
         "Rio Mar Shopping Fortaleza",
         "Terno Listrado",
         "2",
         "709",
         "1418",
         "70.9"
        ],
        [
         "35",
         "29",
         "2019-01-02 00:00:00",
         "Shopping Center Leste Aricanduva",
         "Gorro Liso",
         "4",
         "92",
         "368",
         "18.400000000000002"
        ],
        [
         "36",
         "31",
         "2019-01-02 00:00:00",
         "Shopping Eldorado",
         "Casaco Estampa",
         "3",
         "256",
         "768",
         "38.400000000000006"
        ],
        [
         "37",
         "31",
         "2019-01-02 00:00:00",
         "Shopping Eldorado",
         "Pulseira",
         "3",
         "70",
         "210",
         "10.5"
        ],
        [
         "38",
         "31",
         "2019-01-02 00:00:00",
         "Shopping Eldorado",
         "Gorro Linho",
         "1",
         "124",
         "124",
         "6.2"
        ],
        [
         "39",
         "31",
         "2019-01-02 00:00:00",
         "Shopping Eldorado",
         "Cinto Linho",
         "3",
         "248",
         "744",
         "37.2"
        ],
        [
         "40",
         "32",
         "2019-01-02 00:00:00",
         "Shopping Vila Velha",
         "Polo Liso",
         "1",
         "137",
         "137",
         "6.8500000000000005"
        ],
        [
         "41",
         "32",
         "2019-01-02 00:00:00",
         "Shopping Vila Velha",
         "Polo Listrado",
         "2",
         "149",
         "298",
         "14.9"
        ],
        [
         "42",
         "33",
         "2019-01-02 00:00:00",
         "Shopping Midway Mall",
         "Camisa",
         "1",
         "100",
         "100",
         "5.0"
        ],
        [
         "43",
         "33",
         "2019-01-02 00:00:00",
         "Shopping Midway Mall",
         "Meia Xadrez",
         "3",
         "41",
         "123",
         "6.15"
        ],
        [
         "44",
         "34",
         "2019-01-02 00:00:00",
         "Iguatemi Esplanada",
         "Sapato Listrado",
         "1",
         "363",
         "363",
         "18.150000000000002"
        ],
        [
         "45",
         "34",
         "2019-01-02 00:00:00",
         "Iguatemi Esplanada",
         "Camisa Gola V Liso",
         "2",
         "118",
         "236",
         "11.8"
        ],
        [
         "46",
         "35",
         "2019-01-02 00:00:00",
         "Parque Dom Pedro Shopping",
         "Relógio",
         "2",
         "200",
         "400",
         "20.0"
        ],
        [
         "47",
         "35",
         "2019-01-02 00:00:00",
         "Parque Dom Pedro Shopping",
         "Sapato",
         "2",
         "350",
         "700",
         "35.0"
        ],
        [
         "48",
         "36",
         "2019-01-02 00:00:00",
         "Rio Mar Shopping Fortaleza",
         "Meia Listrado",
         "1",
         "37",
         "37",
         "1.85"
        ],
        [
         "49",
         "38",
         "2019-01-02 00:00:00",
         "Shopping Vila Velha",
         "Meia Xadrez",
         "3",
         "41",
         "123",
         "6.15"
        ],
        [
         "50",
         "38",
         "2019-01-02 00:00:00",
         "Shopping Vila Velha",
         "Relógio",
         "1",
         "200",
         "200",
         "10.0"
        ]
       ],
       "shape": {
        "columns": 8,
        "rows": 100998
       }
      },
      "text/html": [
       "<div>\n",
       "<style scoped>\n",
       "    .dataframe tbody tr th:only-of-type {\n",
       "        vertical-align: middle;\n",
       "    }\n",
       "\n",
       "    .dataframe tbody tr th {\n",
       "        vertical-align: top;\n",
       "    }\n",
       "\n",
       "    .dataframe thead th {\n",
       "        text-align: right;\n",
       "    }\n",
       "</style>\n",
       "<table border=\"1\" class=\"dataframe\">\n",
       "  <thead>\n",
       "    <tr style=\"text-align: right;\">\n",
       "      <th></th>\n",
       "      <th>Código Venda</th>\n",
       "      <th>Data</th>\n",
       "      <th>ID Loja</th>\n",
       "      <th>Produto</th>\n",
       "      <th>Quantidade</th>\n",
       "      <th>Valor Unitário</th>\n",
       "      <th>Valor Final</th>\n",
       "      <th>Comissão</th>\n",
       "    </tr>\n",
       "  </thead>\n",
       "  <tbody>\n",
       "    <tr>\n",
       "      <th>1</th>\n",
       "      <td>1</td>\n",
       "      <td>2019-01-01</td>\n",
       "      <td>Iguatemi Esplanada</td>\n",
       "      <td>Camiseta</td>\n",
       "      <td>2</td>\n",
       "      <td>180</td>\n",
       "      <td>360</td>\n",
       "      <td>18.00</td>\n",
       "    </tr>\n",
       "    <tr>\n",
       "      <th>2</th>\n",
       "      <td>1</td>\n",
       "      <td>2019-01-01</td>\n",
       "      <td>Iguatemi Esplanada</td>\n",
       "      <td>Sapato Xadrez</td>\n",
       "      <td>1</td>\n",
       "      <td>368</td>\n",
       "      <td>368</td>\n",
       "      <td>18.40</td>\n",
       "    </tr>\n",
       "    <tr>\n",
       "      <th>3</th>\n",
       "      <td>2</td>\n",
       "      <td>2019-01-02</td>\n",
       "      <td>Norte Shopping</td>\n",
       "      <td>Relógio</td>\n",
       "      <td>3</td>\n",
       "      <td>200</td>\n",
       "      <td>600</td>\n",
       "      <td>30.00</td>\n",
       "    </tr>\n",
       "    <tr>\n",
       "      <th>4</th>\n",
       "      <td>2</td>\n",
       "      <td>2019-01-02</td>\n",
       "      <td>Norte Shopping</td>\n",
       "      <td>Chinelo Liso</td>\n",
       "      <td>1</td>\n",
       "      <td>71</td>\n",
       "      <td>71</td>\n",
       "      <td>3.55</td>\n",
       "    </tr>\n",
       "    <tr>\n",
       "      <th>5</th>\n",
       "      <td>3</td>\n",
       "      <td>2019-01-02</td>\n",
       "      <td>Rio Mar Shopping Fortaleza</td>\n",
       "      <td>Cinto Linho</td>\n",
       "      <td>1</td>\n",
       "      <td>248</td>\n",
       "      <td>248</td>\n",
       "      <td>12.40</td>\n",
       "    </tr>\n",
       "    <tr>\n",
       "      <th>...</th>\n",
       "      <td>...</td>\n",
       "      <td>...</td>\n",
       "      <td>...</td>\n",
       "      <td>...</td>\n",
       "      <td>...</td>\n",
       "      <td>...</td>\n",
       "      <td>...</td>\n",
       "      <td>...</td>\n",
       "    </tr>\n",
       "    <tr>\n",
       "      <th>100994</th>\n",
       "      <td>69996</td>\n",
       "      <td>2019-12-26</td>\n",
       "      <td>Center Shopping Uberlândia</td>\n",
       "      <td>Short Listrado</td>\n",
       "      <td>2</td>\n",
       "      <td>102</td>\n",
       "      <td>204</td>\n",
       "      <td>10.20</td>\n",
       "    </tr>\n",
       "    <tr>\n",
       "      <th>100995</th>\n",
       "      <td>69996</td>\n",
       "      <td>2019-12-26</td>\n",
       "      <td>Center Shopping Uberlândia</td>\n",
       "      <td>Mochila</td>\n",
       "      <td>4</td>\n",
       "      <td>270</td>\n",
       "      <td>1080</td>\n",
       "      <td>54.00</td>\n",
       "    </tr>\n",
       "    <tr>\n",
       "      <th>100996</th>\n",
       "      <td>69996</td>\n",
       "      <td>2019-12-26</td>\n",
       "      <td>Center Shopping Uberlândia</td>\n",
       "      <td>Pulseira Estampa</td>\n",
       "      <td>1</td>\n",
       "      <td>87</td>\n",
       "      <td>87</td>\n",
       "      <td>4.35</td>\n",
       "    </tr>\n",
       "    <tr>\n",
       "      <th>100997</th>\n",
       "      <td>69997</td>\n",
       "      <td>2019-12-26</td>\n",
       "      <td>Ribeirão Shopping</td>\n",
       "      <td>Camisa Listrado</td>\n",
       "      <td>1</td>\n",
       "      <td>108</td>\n",
       "      <td>108</td>\n",
       "      <td>5.40</td>\n",
       "    </tr>\n",
       "    <tr>\n",
       "      <th>100998</th>\n",
       "      <td>69997</td>\n",
       "      <td>2019-12-26</td>\n",
       "      <td>Ribeirão Shopping</td>\n",
       "      <td>Short Linho</td>\n",
       "      <td>2</td>\n",
       "      <td>133</td>\n",
       "      <td>266</td>\n",
       "      <td>13.30</td>\n",
       "    </tr>\n",
       "  </tbody>\n",
       "</table>\n",
       "<p>100998 rows × 8 columns</p>\n",
       "</div>"
      ],
      "text/plain": [
       "        Código Venda       Data                     ID Loja           Produto  \\\n",
       "1                  1 2019-01-01          Iguatemi Esplanada          Camiseta   \n",
       "2                  1 2019-01-01          Iguatemi Esplanada     Sapato Xadrez   \n",
       "3                  2 2019-01-02              Norte Shopping           Relógio   \n",
       "4                  2 2019-01-02              Norte Shopping      Chinelo Liso   \n",
       "5                  3 2019-01-02  Rio Mar Shopping Fortaleza       Cinto Linho   \n",
       "...              ...        ...                         ...               ...   \n",
       "100994         69996 2019-12-26  Center Shopping Uberlândia    Short Listrado   \n",
       "100995         69996 2019-12-26  Center Shopping Uberlândia           Mochila   \n",
       "100996         69996 2019-12-26  Center Shopping Uberlândia  Pulseira Estampa   \n",
       "100997         69997 2019-12-26           Ribeirão Shopping   Camisa Listrado   \n",
       "100998         69997 2019-12-26           Ribeirão Shopping       Short Linho   \n",
       "\n",
       "        Quantidade  Valor Unitário  Valor Final  Comissão  \n",
       "1                2             180          360     18.00  \n",
       "2                1             368          368     18.40  \n",
       "3                3             200          600     30.00  \n",
       "4                1              71           71      3.55  \n",
       "5                1             248          248     12.40  \n",
       "...            ...             ...          ...       ...  \n",
       "100994           2             102          204     10.20  \n",
       "100995           4             270         1080     54.00  \n",
       "100996           1              87           87      4.35  \n",
       "100997           1             108          108      5.40  \n",
       "100998           2             133          266     13.30  \n",
       "\n",
       "[100998 rows x 8 columns]"
      ]
     },
     "metadata": {},
     "output_type": "display_data"
    }
   ],
   "source": [
    "# Removing row number 0\n",
    "\n",
    "combined_df = combined_df.drop(0, axis=0) # Axis for row is always 0.\n",
    "display(combined_df)"
   ]
  },
  {
   "cell_type": "markdown",
   "id": "aab54686",
   "metadata": {},
   "source": [
    "Treating empty values"
   ]
  },
  {
   "cell_type": "code",
   "execution_count": 190,
   "id": "c501928d",
   "metadata": {},
   "outputs": [
    {
     "data": {
      "application/vnd.microsoft.datawrangler.viewer.v0+json": {
       "columns": [
        {
         "name": "index",
         "rawType": "int64",
         "type": "integer"
        },
        {
         "name": "Código Venda",
         "rawType": "int64",
         "type": "integer"
        },
        {
         "name": "Data",
         "rawType": "datetime64[ns]",
         "type": "datetime"
        },
        {
         "name": "ID Loja",
         "rawType": "object",
         "type": "string"
        },
        {
         "name": "Produto",
         "rawType": "object",
         "type": "string"
        },
        {
         "name": "Quantidade",
         "rawType": "int64",
         "type": "integer"
        },
        {
         "name": "Valor Unitário",
         "rawType": "int64",
         "type": "integer"
        },
        {
         "name": "Valor Final",
         "rawType": "int64",
         "type": "integer"
        },
        {
         "name": "Comissão",
         "rawType": "float64",
         "type": "float"
        }
       ],
       "ref": "6d20b475-b84f-49db-afe1-6042d6c25000",
       "rows": [
        [
         "1",
         "1",
         "2019-01-01 00:00:00",
         "Iguatemi Esplanada",
         "Camiseta",
         "2",
         "180",
         "360",
         "18.0"
        ],
        [
         "2",
         "1",
         "2019-01-01 00:00:00",
         "Iguatemi Esplanada",
         "Sapato Xadrez",
         "1",
         "368",
         "368",
         "18.400000000000002"
        ],
        [
         "3",
         "2",
         "2019-01-02 00:00:00",
         "Norte Shopping",
         "Relógio",
         "3",
         "200",
         "600",
         "30.0"
        ],
        [
         "4",
         "2",
         "2019-01-02 00:00:00",
         "Norte Shopping",
         "Chinelo Liso",
         "1",
         "71",
         "71",
         "3.5500000000000003"
        ],
        [
         "5",
         "3",
         "2019-01-02 00:00:00",
         "Rio Mar Shopping Fortaleza",
         "Cinto Linho",
         "1",
         "248",
         "248",
         "12.4"
        ],
        [
         "6",
         "5",
         "2019-01-02 00:00:00",
         "Shopping Barra",
         "Calça",
         "1",
         "170",
         "170",
         "8.5"
        ],
        [
         "7",
         "6",
         "2019-01-02 00:00:00",
         "Shopping Ibirapuera",
         "Polo Listrado",
         "4",
         "149",
         "596",
         "29.8"
        ],
        [
         "8",
         "7",
         "2019-01-02 00:00:00",
         "Norte Shopping",
         "Camisa Gola V Listrado",
         "1",
         "116",
         "116",
         "5.800000000000001"
        ],
        [
         "9",
         "7",
         "2019-01-02 00:00:00",
         "Norte Shopping",
         "Camisa Liso",
         "1",
         "105",
         "105",
         "5.25"
        ],
        [
         "10",
         "8",
         "2019-01-02 00:00:00",
         "Iguatemi Campinas",
         "Terno Estampa",
         "5",
         "706",
         "3530",
         "176.5"
        ],
        [
         "11",
         "9",
         "2019-01-02 00:00:00",
         "Shopping Center Leste Aricanduva",
         "Tênis Linho",
         "1",
         "294",
         "294",
         "14.700000000000001"
        ],
        [
         "12",
         "9",
         "2019-01-02 00:00:00",
         "Shopping Center Leste Aricanduva",
         "Casaco Xadrez",
         "2",
         "259",
         "518",
         "25.900000000000002"
        ],
        [
         "13",
         "10",
         "2019-01-02 00:00:00",
         "Passei das Águas Shopping",
         "Camiseta Xadrez",
         "2",
         "200",
         "400",
         "20.0"
        ],
        [
         "14",
         "10",
         "2019-01-02 00:00:00",
         "Passei das Águas Shopping",
         "Cueca Liso",
         "1",
         "69",
         "69",
         "3.45"
        ],
        [
         "15",
         "11",
         "2019-01-02 00:00:00",
         "Shopping Recife",
         "Camiseta",
         "1",
         "180",
         "180",
         "9.0"
        ],
        [
         "16",
         "11",
         "2019-01-02 00:00:00",
         "Shopping Recife",
         "Calça Listrado",
         "2",
         "181",
         "362",
         "18.1"
        ],
        [
         "17",
         "11",
         "2019-01-02 00:00:00",
         "Shopping Recife",
         "Camisa Estampa",
         "1",
         "113",
         "113",
         "5.65"
        ],
        [
         "18",
         "12",
         "2019-01-02 00:00:00",
         "Shopping Midway Mall",
         "Short Xadrez",
         "4",
         "100",
         "400",
         "20.0"
        ],
        [
         "19",
         "12",
         "2019-01-02 00:00:00",
         "Shopping Midway Mall",
         "Sunga Liso",
         "2",
         "114",
         "228",
         "11.4"
        ],
        [
         "20",
         "14",
         "2019-01-02 00:00:00",
         "Bourbon Shopping SP",
         "Casaco Liso",
         "2",
         "255",
         "510",
         "25.5"
        ],
        [
         "21",
         "17",
         "2019-01-02 00:00:00",
         "Iguatemi Campinas",
         "Chinelo Liso",
         "1",
         "71",
         "71",
         "3.5500000000000003"
        ],
        [
         "22",
         "18",
         "2019-01-02 00:00:00",
         "Rio Mar Shopping Fortaleza",
         "Camisa Estampa",
         "1",
         "113",
         "113",
         "5.65"
        ],
        [
         "23",
         "19",
         "2019-01-02 00:00:00",
         "Passei das Águas Shopping",
         "Relógio Listrado",
         "1",
         "218",
         "218",
         "10.9"
        ],
        [
         "24",
         "19",
         "2019-01-02 00:00:00",
         "Passei das Águas Shopping",
         "Calça Linho",
         "2",
         "211",
         "422",
         "21.1"
        ],
        [
         "25",
         "20",
         "2019-01-02 00:00:00",
         "Shopping Center Interlagos",
         "Mochila Liso",
         "1",
         "276",
         "276",
         "13.8"
        ],
        [
         "26",
         "21",
         "2019-01-02 00:00:00",
         "Iguatemi Esplanada",
         "Camisa Gola V Listrado",
         "2",
         "116",
         "232",
         "11.600000000000001"
        ],
        [
         "27",
         "22",
         "2019-01-02 00:00:00",
         "Parque Dom Pedro Shopping",
         "Meia",
         "1",
         "30",
         "30",
         "1.5"
        ],
        [
         "28",
         "22",
         "2019-01-02 00:00:00",
         "Parque Dom Pedro Shopping",
         "Meia Linho",
         "2",
         "78",
         "156",
         "7.800000000000001"
        ],
        [
         "29",
         "22",
         "2019-01-02 00:00:00",
         "Parque Dom Pedro Shopping",
         "Calça Liso",
         "2",
         "190",
         "380",
         "19.0"
        ],
        [
         "30",
         "23",
         "2019-01-02 00:00:00",
         "Center Shopping Uberlândia",
         "Bermuda Estampa",
         "3",
         "169",
         "507",
         "25.35"
        ],
        [
         "31",
         "23",
         "2019-01-02 00:00:00",
         "Center Shopping Uberlândia",
         "Chinelo Liso",
         "3",
         "71",
         "213",
         "10.65"
        ],
        [
         "32",
         "26",
         "2019-01-02 00:00:00",
         "Shopping União de Osasco",
         "Chinelo",
         "2",
         "60",
         "120",
         "6.0"
        ],
        [
         "33",
         "27",
         "2019-01-02 00:00:00",
         "Rio Mar Shopping Fortaleza",
         "Sunga Linho",
         "1",
         "149",
         "149",
         "7.45"
        ],
        [
         "34",
         "27",
         "2019-01-02 00:00:00",
         "Rio Mar Shopping Fortaleza",
         "Terno Listrado",
         "2",
         "709",
         "1418",
         "70.9"
        ],
        [
         "35",
         "29",
         "2019-01-02 00:00:00",
         "Shopping Center Leste Aricanduva",
         "Gorro Liso",
         "4",
         "92",
         "368",
         "18.400000000000002"
        ],
        [
         "36",
         "31",
         "2019-01-02 00:00:00",
         "Shopping Eldorado",
         "Casaco Estampa",
         "3",
         "256",
         "768",
         "38.400000000000006"
        ],
        [
         "37",
         "31",
         "2019-01-02 00:00:00",
         "Shopping Eldorado",
         "Pulseira",
         "3",
         "70",
         "210",
         "10.5"
        ],
        [
         "38",
         "31",
         "2019-01-02 00:00:00",
         "Shopping Eldorado",
         "Gorro Linho",
         "1",
         "124",
         "124",
         "6.2"
        ],
        [
         "39",
         "31",
         "2019-01-02 00:00:00",
         "Shopping Eldorado",
         "Cinto Linho",
         "3",
         "248",
         "744",
         "37.2"
        ],
        [
         "40",
         "32",
         "2019-01-02 00:00:00",
         "Shopping Vila Velha",
         "Polo Liso",
         "1",
         "137",
         "137",
         "6.8500000000000005"
        ],
        [
         "41",
         "32",
         "2019-01-02 00:00:00",
         "Shopping Vila Velha",
         "Polo Listrado",
         "2",
         "149",
         "298",
         "14.9"
        ],
        [
         "42",
         "33",
         "2019-01-02 00:00:00",
         "Shopping Midway Mall",
         "Camisa",
         "1",
         "100",
         "100",
         "5.0"
        ],
        [
         "43",
         "33",
         "2019-01-02 00:00:00",
         "Shopping Midway Mall",
         "Meia Xadrez",
         "3",
         "41",
         "123",
         "6.15"
        ],
        [
         "44",
         "34",
         "2019-01-02 00:00:00",
         "Iguatemi Esplanada",
         "Sapato Listrado",
         "1",
         "363",
         "363",
         "18.150000000000002"
        ],
        [
         "45",
         "34",
         "2019-01-02 00:00:00",
         "Iguatemi Esplanada",
         "Camisa Gola V Liso",
         "2",
         "118",
         "236",
         "11.8"
        ],
        [
         "46",
         "35",
         "2019-01-02 00:00:00",
         "Parque Dom Pedro Shopping",
         "Relógio",
         "2",
         "200",
         "400",
         "20.0"
        ],
        [
         "47",
         "35",
         "2019-01-02 00:00:00",
         "Parque Dom Pedro Shopping",
         "Sapato",
         "2",
         "350",
         "700",
         "35.0"
        ],
        [
         "48",
         "36",
         "2019-01-02 00:00:00",
         "Rio Mar Shopping Fortaleza",
         "Meia Listrado",
         "1",
         "37",
         "37",
         "1.85"
        ],
        [
         "49",
         "38",
         "2019-01-02 00:00:00",
         "Shopping Vila Velha",
         "Meia Xadrez",
         "3",
         "41",
         "123",
         "6.15"
        ],
        [
         "50",
         "38",
         "2019-01-02 00:00:00",
         "Shopping Vila Velha",
         "Relógio",
         "1",
         "200",
         "200",
         "10.0"
        ]
       ],
       "shape": {
        "columns": 8,
        "rows": 100998
       }
      },
      "text/html": [
       "<div>\n",
       "<style scoped>\n",
       "    .dataframe tbody tr th:only-of-type {\n",
       "        vertical-align: middle;\n",
       "    }\n",
       "\n",
       "    .dataframe tbody tr th {\n",
       "        vertical-align: top;\n",
       "    }\n",
       "\n",
       "    .dataframe thead th {\n",
       "        text-align: right;\n",
       "    }\n",
       "</style>\n",
       "<table border=\"1\" class=\"dataframe\">\n",
       "  <thead>\n",
       "    <tr style=\"text-align: right;\">\n",
       "      <th></th>\n",
       "      <th>Código Venda</th>\n",
       "      <th>Data</th>\n",
       "      <th>ID Loja</th>\n",
       "      <th>Produto</th>\n",
       "      <th>Quantidade</th>\n",
       "      <th>Valor Unitário</th>\n",
       "      <th>Valor Final</th>\n",
       "      <th>Comissão</th>\n",
       "    </tr>\n",
       "  </thead>\n",
       "  <tbody>\n",
       "    <tr>\n",
       "      <th>1</th>\n",
       "      <td>1</td>\n",
       "      <td>2019-01-01</td>\n",
       "      <td>Iguatemi Esplanada</td>\n",
       "      <td>Camiseta</td>\n",
       "      <td>2</td>\n",
       "      <td>180</td>\n",
       "      <td>360</td>\n",
       "      <td>18.00</td>\n",
       "    </tr>\n",
       "    <tr>\n",
       "      <th>2</th>\n",
       "      <td>1</td>\n",
       "      <td>2019-01-01</td>\n",
       "      <td>Iguatemi Esplanada</td>\n",
       "      <td>Sapato Xadrez</td>\n",
       "      <td>1</td>\n",
       "      <td>368</td>\n",
       "      <td>368</td>\n",
       "      <td>18.40</td>\n",
       "    </tr>\n",
       "    <tr>\n",
       "      <th>3</th>\n",
       "      <td>2</td>\n",
       "      <td>2019-01-02</td>\n",
       "      <td>Norte Shopping</td>\n",
       "      <td>Relógio</td>\n",
       "      <td>3</td>\n",
       "      <td>200</td>\n",
       "      <td>600</td>\n",
       "      <td>30.00</td>\n",
       "    </tr>\n",
       "    <tr>\n",
       "      <th>4</th>\n",
       "      <td>2</td>\n",
       "      <td>2019-01-02</td>\n",
       "      <td>Norte Shopping</td>\n",
       "      <td>Chinelo Liso</td>\n",
       "      <td>1</td>\n",
       "      <td>71</td>\n",
       "      <td>71</td>\n",
       "      <td>3.55</td>\n",
       "    </tr>\n",
       "    <tr>\n",
       "      <th>5</th>\n",
       "      <td>3</td>\n",
       "      <td>2019-01-02</td>\n",
       "      <td>Rio Mar Shopping Fortaleza</td>\n",
       "      <td>Cinto Linho</td>\n",
       "      <td>1</td>\n",
       "      <td>248</td>\n",
       "      <td>248</td>\n",
       "      <td>12.40</td>\n",
       "    </tr>\n",
       "    <tr>\n",
       "      <th>...</th>\n",
       "      <td>...</td>\n",
       "      <td>...</td>\n",
       "      <td>...</td>\n",
       "      <td>...</td>\n",
       "      <td>...</td>\n",
       "      <td>...</td>\n",
       "      <td>...</td>\n",
       "      <td>...</td>\n",
       "    </tr>\n",
       "    <tr>\n",
       "      <th>100994</th>\n",
       "      <td>69996</td>\n",
       "      <td>2019-12-26</td>\n",
       "      <td>Center Shopping Uberlândia</td>\n",
       "      <td>Short Listrado</td>\n",
       "      <td>2</td>\n",
       "      <td>102</td>\n",
       "      <td>204</td>\n",
       "      <td>10.20</td>\n",
       "    </tr>\n",
       "    <tr>\n",
       "      <th>100995</th>\n",
       "      <td>69996</td>\n",
       "      <td>2019-12-26</td>\n",
       "      <td>Center Shopping Uberlândia</td>\n",
       "      <td>Mochila</td>\n",
       "      <td>4</td>\n",
       "      <td>270</td>\n",
       "      <td>1080</td>\n",
       "      <td>54.00</td>\n",
       "    </tr>\n",
       "    <tr>\n",
       "      <th>100996</th>\n",
       "      <td>69996</td>\n",
       "      <td>2019-12-26</td>\n",
       "      <td>Center Shopping Uberlândia</td>\n",
       "      <td>Pulseira Estampa</td>\n",
       "      <td>1</td>\n",
       "      <td>87</td>\n",
       "      <td>87</td>\n",
       "      <td>4.35</td>\n",
       "    </tr>\n",
       "    <tr>\n",
       "      <th>100997</th>\n",
       "      <td>69997</td>\n",
       "      <td>2019-12-26</td>\n",
       "      <td>Ribeirão Shopping</td>\n",
       "      <td>Camisa Listrado</td>\n",
       "      <td>1</td>\n",
       "      <td>108</td>\n",
       "      <td>108</td>\n",
       "      <td>5.40</td>\n",
       "    </tr>\n",
       "    <tr>\n",
       "      <th>100998</th>\n",
       "      <td>69997</td>\n",
       "      <td>2019-12-26</td>\n",
       "      <td>Ribeirão Shopping</td>\n",
       "      <td>Short Linho</td>\n",
       "      <td>2</td>\n",
       "      <td>133</td>\n",
       "      <td>266</td>\n",
       "      <td>13.30</td>\n",
       "    </tr>\n",
       "  </tbody>\n",
       "</table>\n",
       "<p>100998 rows × 8 columns</p>\n",
       "</div>"
      ],
      "text/plain": [
       "        Código Venda       Data                     ID Loja           Produto  \\\n",
       "1                  1 2019-01-01          Iguatemi Esplanada          Camiseta   \n",
       "2                  1 2019-01-01          Iguatemi Esplanada     Sapato Xadrez   \n",
       "3                  2 2019-01-02              Norte Shopping           Relógio   \n",
       "4                  2 2019-01-02              Norte Shopping      Chinelo Liso   \n",
       "5                  3 2019-01-02  Rio Mar Shopping Fortaleza       Cinto Linho   \n",
       "...              ...        ...                         ...               ...   \n",
       "100994         69996 2019-12-26  Center Shopping Uberlândia    Short Listrado   \n",
       "100995         69996 2019-12-26  Center Shopping Uberlândia           Mochila   \n",
       "100996         69996 2019-12-26  Center Shopping Uberlândia  Pulseira Estampa   \n",
       "100997         69997 2019-12-26           Ribeirão Shopping   Camisa Listrado   \n",
       "100998         69997 2019-12-26           Ribeirão Shopping       Short Linho   \n",
       "\n",
       "        Quantidade  Valor Unitário  Valor Final  Comissão  \n",
       "1                2             180          360     18.00  \n",
       "2                1             368          368     18.40  \n",
       "3                3             200          600     30.00  \n",
       "4                1              71           71      3.55  \n",
       "5                1             248          248     12.40  \n",
       "...            ...             ...          ...       ...  \n",
       "100994           2             102          204     10.20  \n",
       "100995           4             270         1080     54.00  \n",
       "100996           1              87           87      4.35  \n",
       "100997           1             108          108      5.40  \n",
       "100998           2             133          266     13.30  \n",
       "\n",
       "[100998 rows x 8 columns]"
      ]
     },
     "metadata": {},
     "output_type": "display_data"
    }
   ],
   "source": [
    "# Deleting all empty rows\n",
    "\n",
    "#combined_df = combined_df.dropna(how='all')\n",
    "\n",
    "# Deleting all empy columns\n",
    "\n",
    "#combined_df = combined_df.dropna(how='all', axis=1)\n",
    "\n",
    "# Deleting all lines that have at least one empty value\n",
    "\n",
    "#combined_df = combined_df.dropna()\n",
    "\n",
    "# Fill empty values\n",
    "\n",
    "# 1 - Fill with the mean of the column\n",
    "\n",
    "combined_df['Comissão'] = combined_df['Comissão'].fillna(combined_df['Comissão'].mean())\n",
    "\n",
    "# 2 - Fill with last value\n",
    "\n",
    "combined_df = combined_df.ffill()\n",
    "\n",
    "display(combined_df)"
   ]
  },
  {
   "cell_type": "markdown",
   "id": "7a976049",
   "metadata": {},
   "source": [
    "Calculating indicatores\n",
    "- Groupby\n",
    "- Value counts"
   ]
  },
  {
   "cell_type": "code",
   "execution_count": 191,
   "id": "9211d96f",
   "metadata": {},
   "outputs": [
    {
     "data": {
      "application/vnd.microsoft.datawrangler.viewer.v0+json": {
       "columns": [
        {
         "name": "ID Loja",
         "rawType": "object",
         "type": "string"
        },
        {
         "name": "count",
         "rawType": "int64",
         "type": "integer"
        }
       ],
       "ref": "1e356080-8266-4f3d-a4ca-fe71d82ccf96",
       "rows": [
        [
         "Shopping Vila Velha",
         "4227"
        ],
        [
         "Palladium Shopping Curitiba",
         "4203"
        ],
        [
         "Norte Shopping",
         "4171"
        ],
        [
         "Rio Mar Shopping Fortaleza",
         "4112"
        ],
        [
         "Bourbon Shopping SP",
         "4108"
        ],
        [
         "Iguatemi Campinas",
         "4103"
        ],
        [
         "Rio Mar Recife",
         "4096"
        ],
        [
         "Shopping Center Leste Aricanduva",
         "4083"
        ],
        [
         "Shopping SP Market",
         "4072"
        ],
        [
         "Shopping Ibirapuera",
         "4043"
        ],
        [
         "Novo Shopping Ribeirão Preto",
         "4043"
        ],
        [
         "Ribeirão Shopping",
         "4038"
        ],
        [
         "Salvador Shopping",
         "4022"
        ],
        [
         "Shopping Iguatemi Fortaleza",
         "4012"
        ],
        [
         "Shopping Center Interlagos",
         "4011"
        ],
        [
         "Center Shopping Uberlândia",
         "4004"
        ],
        [
         "Shopping Eldorado",
         "3996"
        ],
        [
         "Passei das Águas Shopping",
         "3992"
        ],
        [
         "Shopping União de Osasco",
         "3991"
        ],
        [
         "Iguatemi Esplanada",
         "3974"
        ],
        [
         "Shopping Barra",
         "3955"
        ],
        [
         "Shopping Morumbi",
         "3953"
        ],
        [
         "Parque Dom Pedro Shopping",
         "3897"
        ],
        [
         "Shopping Recife",
         "3885"
        ],
        [
         "Shopping Midway Mall",
         "3832"
        ]
       ],
       "shape": {
        "columns": 1,
        "rows": 25
       }
      },
      "text/plain": [
       "ID Loja\n",
       "Shopping Vila Velha                 4227\n",
       "Palladium Shopping Curitiba         4203\n",
       "Norte Shopping                      4171\n",
       "Rio Mar Shopping Fortaleza          4112\n",
       "Bourbon Shopping SP                 4108\n",
       "Iguatemi Campinas                   4103\n",
       "Rio Mar Recife                      4096\n",
       "Shopping Center Leste Aricanduva    4083\n",
       "Shopping SP Market                  4072\n",
       "Shopping Ibirapuera                 4043\n",
       "Novo Shopping Ribeirão Preto        4043\n",
       "Ribeirão Shopping                   4038\n",
       "Salvador Shopping                   4022\n",
       "Shopping Iguatemi Fortaleza         4012\n",
       "Shopping Center Interlagos          4011\n",
       "Center Shopping Uberlândia          4004\n",
       "Shopping Eldorado                   3996\n",
       "Passei das Águas Shopping           3992\n",
       "Shopping União de Osasco            3991\n",
       "Iguatemi Esplanada                  3974\n",
       "Shopping Barra                      3955\n",
       "Shopping Morumbi                    3953\n",
       "Parque Dom Pedro Shopping           3897\n",
       "Shopping Recife                     3885\n",
       "Shopping Midway Mall                3832\n",
       "Name: count, dtype: int64"
      ]
     },
     "metadata": {},
     "output_type": "display_data"
    }
   ],
   "source": [
    "# To count the number of transactions of each store we can use the value counts method.\n",
    "\n",
    "transaction_store = sales_df['ID Loja'].value_counts()\n",
    "display(transaction_store)"
   ]
  },
  {
   "cell_type": "code",
   "execution_count": 192,
   "id": "f9f3c48f",
   "metadata": {},
   "outputs": [
    {
     "data": {
      "application/vnd.microsoft.datawrangler.viewer.v0+json": {
       "columns": [
        {
         "name": "Produto",
         "rawType": "object",
         "type": "string"
        },
        {
         "name": "Valor Final",
         "rawType": "int64",
         "type": "integer"
        }
       ],
       "ref": "e95cd2a0-45d1-41f7-bebb-4a115426b4ca",
       "rows": [
        [
         "Bermuda",
         "271950"
        ],
        [
         "Bermuda Estampa",
         "291187"
        ],
        [
         "Bermuda Linho",
         "394680"
        ],
        [
         "Bermuda Liso",
         "274907"
        ],
        [
         "Bermuda Listrado",
         "293237"
        ],
        [
         "Bermuda Xadrez",
         "281015"
        ],
        [
         "Calça",
         "323680"
        ],
        [
         "Calça Estampa",
         "321432"
        ],
        [
         "Calça Linho",
         "391405"
        ],
        [
         "Calça Liso",
         "358150"
        ],
        [
         "Calça Listrado",
         "328515"
        ],
        [
         "Calça Xadrez",
         "348170"
        ],
        [
         "Camisa",
         "178000"
        ],
        [
         "Camisa Estampa",
         "208372"
        ],
        [
         "Camisa Gola V",
         "179200"
        ],
        [
         "Camisa Gola V Estampa",
         "206146"
        ],
        [
         "Camisa Gola V Linho",
         "248675"
        ],
        [
         "Camisa Gola V Liso",
         "224436"
        ],
        [
         "Camisa Gola V Listrado",
         "202768"
        ],
        [
         "Camisa Gola V Xadrez",
         "197094"
        ],
        [
         "Camisa Linho",
         "255210"
        ],
        [
         "Camisa Liso",
         "196875"
        ],
        [
         "Camisa Listrado",
         "198936"
        ],
        [
         "Camisa Xadrez",
         "199395"
        ],
        [
         "Camiseta",
         "322740"
        ],
        [
         "Camiseta Estampa",
         "356916"
        ],
        [
         "Camiseta Linho",
         "396271"
        ],
        [
         "Camiseta Liso",
         "338844"
        ],
        [
         "Camiseta Listrado",
         "361101"
        ],
        [
         "Camiseta Xadrez",
         "360200"
        ],
        [
         "Casaco",
         "450500"
        ],
        [
         "Casaco Estampa",
         "454400"
        ],
        [
         "Casaco Linho",
         "547768"
        ],
        [
         "Casaco Liso",
         "503880"
        ],
        [
         "Casaco Listrado",
         "475054"
        ],
        [
         "Casaco Xadrez",
         "454027"
        ],
        [
         "Chinelo",
         "106620"
        ],
        [
         "Chinelo Estampa",
         "133348"
        ],
        [
         "Chinelo Linho",
         "188265"
        ],
        [
         "Chinelo Liso",
         "136746"
        ],
        [
         "Chinelo Listrado",
         "127677"
        ],
        [
         "Chinelo Xadrez",
         "120252"
        ],
        [
         "Cinto",
         "363800"
        ],
        [
         "Cinto Estampa",
         "377454"
        ],
        [
         "Cinto Linho",
         "430528"
        ],
        [
         "Cinto Liso",
         "389576"
        ],
        [
         "Cinto Listrado",
         "380492"
        ],
        [
         "Cinto Xadrez",
         "371090"
        ],
        [
         "Cueca",
         "98900"
        ],
        [
         "Cueca Estampa",
         "119922"
        ]
       ],
       "shape": {
        "columns": 1,
        "rows": 120
       }
      },
      "text/html": [
       "<div>\n",
       "<style scoped>\n",
       "    .dataframe tbody tr th:only-of-type {\n",
       "        vertical-align: middle;\n",
       "    }\n",
       "\n",
       "    .dataframe tbody tr th {\n",
       "        vertical-align: top;\n",
       "    }\n",
       "\n",
       "    .dataframe thead th {\n",
       "        text-align: right;\n",
       "    }\n",
       "</style>\n",
       "<table border=\"1\" class=\"dataframe\">\n",
       "  <thead>\n",
       "    <tr style=\"text-align: right;\">\n",
       "      <th></th>\n",
       "      <th>Valor Final</th>\n",
       "    </tr>\n",
       "    <tr>\n",
       "      <th>Produto</th>\n",
       "      <th></th>\n",
       "    </tr>\n",
       "  </thead>\n",
       "  <tbody>\n",
       "    <tr>\n",
       "      <th>Bermuda</th>\n",
       "      <td>271950</td>\n",
       "    </tr>\n",
       "    <tr>\n",
       "      <th>Bermuda Estampa</th>\n",
       "      <td>291187</td>\n",
       "    </tr>\n",
       "    <tr>\n",
       "      <th>Bermuda Linho</th>\n",
       "      <td>394680</td>\n",
       "    </tr>\n",
       "    <tr>\n",
       "      <th>Bermuda Liso</th>\n",
       "      <td>274907</td>\n",
       "    </tr>\n",
       "    <tr>\n",
       "      <th>Bermuda Listrado</th>\n",
       "      <td>293237</td>\n",
       "    </tr>\n",
       "    <tr>\n",
       "      <th>...</th>\n",
       "      <td>...</td>\n",
       "    </tr>\n",
       "    <tr>\n",
       "      <th>Tênis Estampa</th>\n",
       "      <td>457472</td>\n",
       "    </tr>\n",
       "    <tr>\n",
       "      <th>Tênis Linho</th>\n",
       "      <td>538608</td>\n",
       "    </tr>\n",
       "    <tr>\n",
       "      <th>Tênis Liso</th>\n",
       "      <td>474012</td>\n",
       "    </tr>\n",
       "    <tr>\n",
       "      <th>Tênis Listrado</th>\n",
       "      <td>480508</td>\n",
       "    </tr>\n",
       "    <tr>\n",
       "      <th>Tênis Xadrez</th>\n",
       "      <td>459466</td>\n",
       "    </tr>\n",
       "  </tbody>\n",
       "</table>\n",
       "<p>120 rows × 1 columns</p>\n",
       "</div>"
      ],
      "text/plain": [
       "                  Valor Final\n",
       "Produto                      \n",
       "Bermuda                271950\n",
       "Bermuda Estampa        291187\n",
       "Bermuda Linho          394680\n",
       "Bermuda Liso           274907\n",
       "Bermuda Listrado       293237\n",
       "...                       ...\n",
       "Tênis Estampa          457472\n",
       "Tênis Linho            538608\n",
       "Tênis Liso             474012\n",
       "Tênis Listrado         480508\n",
       "Tênis Xadrez           459466\n",
       "\n",
       "[120 rows x 1 columns]"
      ]
     },
     "metadata": {},
     "output_type": "display_data"
    }
   ],
   "source": [
    "# To calculate the revenue of each product we need to use Groupby\n",
    "\n",
    "product_revenue = sales_df[['Produto', 'Valor Final']].groupby('Produto').sum()\n",
    "display(product_revenue)"
   ]
  },
  {
   "cell_type": "markdown",
   "id": "2ddce6ed",
   "metadata": {},
   "source": [
    "Merging different tables"
   ]
  },
  {
   "cell_type": "code",
   "execution_count": 193,
   "id": "1ce7d231",
   "metadata": {},
   "outputs": [
    {
     "data": {
      "application/vnd.microsoft.datawrangler.viewer.v0+json": {
       "columns": [
        {
         "name": "index",
         "rawType": "int64",
         "type": "integer"
        },
        {
         "name": "ID Loja",
         "rawType": "object",
         "type": "string"
        },
        {
         "name": "Gerente",
         "rawType": "object",
         "type": "string"
        }
       ],
       "ref": "6ba0e86c-c989-40d9-a779-7b125c3bb8a9",
       "rows": [
        [
         "0",
         "Iguatemi Esplanada",
         "Salvador"
        ],
        [
         "1",
         "Norte Shopping",
         "Joana"
        ],
        [
         "2",
         "Rio Mar Shopping Fortaleza",
         "Maria"
        ],
        [
         "3",
         "Shopping Barra",
         "Letícia"
        ],
        [
         "4",
         "Shopping Ibirapuera",
         "Helena"
        ],
        [
         "5",
         "Iguatemi Campinas",
         "Luiza"
        ],
        [
         "6",
         "Shopping Center Leste Aricanduva",
         "Julia"
        ],
        [
         "7",
         "Passei das Águas Shopping",
         "Nicole"
        ],
        [
         "8",
         "Shopping Recife",
         "André"
        ],
        [
         "9",
         "Shopping Midway Mall",
         "João"
        ],
        [
         "10",
         "Bourbon Shopping SP",
         "Marcus"
        ],
        [
         "11",
         "Shopping Center Interlagos",
         "Amanda"
        ],
        [
         "12",
         "Parque Dom Pedro Shopping",
         "Carol"
        ],
        [
         "13",
         "Center Shopping Uberlândia",
         "Andressa"
        ],
        [
         "14",
         "Shopping União de Osasco",
         "Lilia"
        ],
        [
         "15",
         "Shopping Eldorado",
         "Paulo"
        ],
        [
         "16",
         "Shopping Vila Velha",
         "Pablo"
        ],
        [
         "17",
         "Novo Shopping Ribeirão Preto",
         "Diana"
        ],
        [
         "18",
         "Rio Mar Recife",
         "Ana"
        ],
        [
         "19",
         "Palladium Shopping Curitiba",
         "Flavia"
        ],
        [
         "20",
         "Shopping SP Market",
         "Fernanda"
        ],
        [
         "21",
         "Ribeirão Shopping",
         "Fábio"
        ],
        [
         "22",
         "Shopping Iguatemi Fortaleza",
         "Joel"
        ],
        [
         "23",
         "Shopping Morumbi",
         "Gisele"
        ],
        [
         "24",
         "Salvador Shopping",
         "Mateus"
        ]
       ],
       "shape": {
        "columns": 2,
        "rows": 25
       }
      },
      "text/html": [
       "<div>\n",
       "<style scoped>\n",
       "    .dataframe tbody tr th:only-of-type {\n",
       "        vertical-align: middle;\n",
       "    }\n",
       "\n",
       "    .dataframe tbody tr th {\n",
       "        vertical-align: top;\n",
       "    }\n",
       "\n",
       "    .dataframe thead th {\n",
       "        text-align: right;\n",
       "    }\n",
       "</style>\n",
       "<table border=\"1\" class=\"dataframe\">\n",
       "  <thead>\n",
       "    <tr style=\"text-align: right;\">\n",
       "      <th></th>\n",
       "      <th>ID Loja</th>\n",
       "      <th>Gerente</th>\n",
       "    </tr>\n",
       "  </thead>\n",
       "  <tbody>\n",
       "    <tr>\n",
       "      <th>0</th>\n",
       "      <td>Iguatemi Esplanada</td>\n",
       "      <td>Salvador</td>\n",
       "    </tr>\n",
       "    <tr>\n",
       "      <th>1</th>\n",
       "      <td>Norte Shopping</td>\n",
       "      <td>Joana</td>\n",
       "    </tr>\n",
       "    <tr>\n",
       "      <th>2</th>\n",
       "      <td>Rio Mar Shopping Fortaleza</td>\n",
       "      <td>Maria</td>\n",
       "    </tr>\n",
       "    <tr>\n",
       "      <th>3</th>\n",
       "      <td>Shopping Barra</td>\n",
       "      <td>Letícia</td>\n",
       "    </tr>\n",
       "    <tr>\n",
       "      <th>4</th>\n",
       "      <td>Shopping Ibirapuera</td>\n",
       "      <td>Helena</td>\n",
       "    </tr>\n",
       "    <tr>\n",
       "      <th>5</th>\n",
       "      <td>Iguatemi Campinas</td>\n",
       "      <td>Luiza</td>\n",
       "    </tr>\n",
       "    <tr>\n",
       "      <th>6</th>\n",
       "      <td>Shopping Center Leste Aricanduva</td>\n",
       "      <td>Julia</td>\n",
       "    </tr>\n",
       "    <tr>\n",
       "      <th>7</th>\n",
       "      <td>Passei das Águas Shopping</td>\n",
       "      <td>Nicole</td>\n",
       "    </tr>\n",
       "    <tr>\n",
       "      <th>8</th>\n",
       "      <td>Shopping Recife</td>\n",
       "      <td>André</td>\n",
       "    </tr>\n",
       "    <tr>\n",
       "      <th>9</th>\n",
       "      <td>Shopping Midway Mall</td>\n",
       "      <td>João</td>\n",
       "    </tr>\n",
       "    <tr>\n",
       "      <th>10</th>\n",
       "      <td>Bourbon Shopping SP</td>\n",
       "      <td>Marcus</td>\n",
       "    </tr>\n",
       "    <tr>\n",
       "      <th>11</th>\n",
       "      <td>Shopping Center Interlagos</td>\n",
       "      <td>Amanda</td>\n",
       "    </tr>\n",
       "    <tr>\n",
       "      <th>12</th>\n",
       "      <td>Parque Dom Pedro Shopping</td>\n",
       "      <td>Carol</td>\n",
       "    </tr>\n",
       "    <tr>\n",
       "      <th>13</th>\n",
       "      <td>Center Shopping Uberlândia</td>\n",
       "      <td>Andressa</td>\n",
       "    </tr>\n",
       "    <tr>\n",
       "      <th>14</th>\n",
       "      <td>Shopping União de Osasco</td>\n",
       "      <td>Lilia</td>\n",
       "    </tr>\n",
       "    <tr>\n",
       "      <th>15</th>\n",
       "      <td>Shopping Eldorado</td>\n",
       "      <td>Paulo</td>\n",
       "    </tr>\n",
       "    <tr>\n",
       "      <th>16</th>\n",
       "      <td>Shopping Vila Velha</td>\n",
       "      <td>Pablo</td>\n",
       "    </tr>\n",
       "    <tr>\n",
       "      <th>17</th>\n",
       "      <td>Novo Shopping Ribeirão Preto</td>\n",
       "      <td>Diana</td>\n",
       "    </tr>\n",
       "    <tr>\n",
       "      <th>18</th>\n",
       "      <td>Rio Mar Recife</td>\n",
       "      <td>Ana</td>\n",
       "    </tr>\n",
       "    <tr>\n",
       "      <th>19</th>\n",
       "      <td>Palladium Shopping Curitiba</td>\n",
       "      <td>Flavia</td>\n",
       "    </tr>\n",
       "    <tr>\n",
       "      <th>20</th>\n",
       "      <td>Shopping SP Market</td>\n",
       "      <td>Fernanda</td>\n",
       "    </tr>\n",
       "    <tr>\n",
       "      <th>21</th>\n",
       "      <td>Ribeirão Shopping</td>\n",
       "      <td>Fábio</td>\n",
       "    </tr>\n",
       "    <tr>\n",
       "      <th>22</th>\n",
       "      <td>Shopping Iguatemi Fortaleza</td>\n",
       "      <td>Joel</td>\n",
       "    </tr>\n",
       "    <tr>\n",
       "      <th>23</th>\n",
       "      <td>Shopping Morumbi</td>\n",
       "      <td>Gisele</td>\n",
       "    </tr>\n",
       "    <tr>\n",
       "      <th>24</th>\n",
       "      <td>Salvador Shopping</td>\n",
       "      <td>Mateus</td>\n",
       "    </tr>\n",
       "  </tbody>\n",
       "</table>\n",
       "</div>"
      ],
      "text/plain": [
       "                             ID Loja   Gerente\n",
       "0                 Iguatemi Esplanada  Salvador\n",
       "1                     Norte Shopping     Joana\n",
       "2         Rio Mar Shopping Fortaleza     Maria\n",
       "3                     Shopping Barra   Letícia\n",
       "4                Shopping Ibirapuera    Helena\n",
       "5                  Iguatemi Campinas     Luiza\n",
       "6   Shopping Center Leste Aricanduva     Julia\n",
       "7          Passei das Águas Shopping    Nicole\n",
       "8                    Shopping Recife     André\n",
       "9               Shopping Midway Mall      João\n",
       "10               Bourbon Shopping SP    Marcus\n",
       "11        Shopping Center Interlagos    Amanda\n",
       "12         Parque Dom Pedro Shopping     Carol\n",
       "13        Center Shopping Uberlândia  Andressa\n",
       "14          Shopping União de Osasco     Lilia\n",
       "15                 Shopping Eldorado     Paulo\n",
       "16               Shopping Vila Velha     Pablo\n",
       "17      Novo Shopping Ribeirão Preto     Diana\n",
       "18                    Rio Mar Recife       Ana\n",
       "19       Palladium Shopping Curitiba    Flavia\n",
       "20                Shopping SP Market  Fernanda\n",
       "21                 Ribeirão Shopping     Fábio\n",
       "22       Shopping Iguatemi Fortaleza      Joel\n",
       "23                  Shopping Morumbi    Gisele\n",
       "24                 Salvador Shopping    Mateus"
      ]
     },
     "metadata": {},
     "output_type": "display_data"
    }
   ],
   "source": [
    "# Importing the table managers\n",
    "managers_df = pd.read_excel (\"Managers.xlsx\")\n",
    "display(managers_df)"
   ]
  },
  {
   "cell_type": "code",
   "execution_count": 194,
   "id": "e28f6311",
   "metadata": {},
   "outputs": [
    {
     "data": {
      "application/vnd.microsoft.datawrangler.viewer.v0+json": {
       "columns": [
        {
         "name": "index",
         "rawType": "int64",
         "type": "integer"
        },
        {
         "name": "Código Venda",
         "rawType": "int64",
         "type": "integer"
        },
        {
         "name": "Data",
         "rawType": "datetime64[ns]",
         "type": "datetime"
        },
        {
         "name": "ID Loja",
         "rawType": "object",
         "type": "string"
        },
        {
         "name": "Produto",
         "rawType": "object",
         "type": "string"
        },
        {
         "name": "Quantidade",
         "rawType": "int64",
         "type": "integer"
        },
        {
         "name": "Valor Unitário",
         "rawType": "int64",
         "type": "integer"
        },
        {
         "name": "Valor Final",
         "rawType": "int64",
         "type": "integer"
        },
        {
         "name": "Comissão",
         "rawType": "float64",
         "type": "float"
        },
        {
         "name": "Gerente",
         "rawType": "object",
         "type": "string"
        }
       ],
       "ref": "054f5d3f-eb4c-440a-ab3f-4a12fce2c50b",
       "rows": [
        [
         "0",
         "1",
         "2019-01-01 00:00:00",
         "Iguatemi Esplanada",
         "Camiseta",
         "2",
         "180",
         "360",
         "18.0",
         "Salvador"
        ],
        [
         "1",
         "1",
         "2019-01-01 00:00:00",
         "Iguatemi Esplanada",
         "Sapato Xadrez",
         "1",
         "368",
         "368",
         "18.400000000000002",
         "Salvador"
        ],
        [
         "2",
         "2",
         "2019-01-02 00:00:00",
         "Norte Shopping",
         "Relógio",
         "3",
         "200",
         "600",
         "30.0",
         "Joana"
        ],
        [
         "3",
         "2",
         "2019-01-02 00:00:00",
         "Norte Shopping",
         "Chinelo Liso",
         "1",
         "71",
         "71",
         "3.5500000000000003",
         "Joana"
        ],
        [
         "4",
         "3",
         "2019-01-02 00:00:00",
         "Rio Mar Shopping Fortaleza",
         "Cinto Linho",
         "1",
         "248",
         "248",
         "12.4",
         "Maria"
        ],
        [
         "5",
         "5",
         "2019-01-02 00:00:00",
         "Shopping Barra",
         "Calça",
         "1",
         "170",
         "170",
         "8.5",
         "Letícia"
        ],
        [
         "6",
         "6",
         "2019-01-02 00:00:00",
         "Shopping Ibirapuera",
         "Polo Listrado",
         "4",
         "149",
         "596",
         "29.8",
         "Helena"
        ],
        [
         "7",
         "7",
         "2019-01-02 00:00:00",
         "Norte Shopping",
         "Camisa Gola V Listrado",
         "1",
         "116",
         "116",
         "5.800000000000001",
         "Joana"
        ],
        [
         "8",
         "7",
         "2019-01-02 00:00:00",
         "Norte Shopping",
         "Camisa Liso",
         "1",
         "105",
         "105",
         "5.25",
         "Joana"
        ],
        [
         "9",
         "8",
         "2019-01-02 00:00:00",
         "Iguatemi Campinas",
         "Terno Estampa",
         "5",
         "706",
         "3530",
         "176.5",
         "Luiza"
        ],
        [
         "10",
         "9",
         "2019-01-02 00:00:00",
         "Shopping Center Leste Aricanduva",
         "Tênis Linho",
         "1",
         "294",
         "294",
         "14.700000000000001",
         "Julia"
        ],
        [
         "11",
         "9",
         "2019-01-02 00:00:00",
         "Shopping Center Leste Aricanduva",
         "Casaco Xadrez",
         "2",
         "259",
         "518",
         "25.900000000000002",
         "Julia"
        ],
        [
         "12",
         "10",
         "2019-01-02 00:00:00",
         "Passei das Águas Shopping",
         "Camiseta Xadrez",
         "2",
         "200",
         "400",
         "20.0",
         "Nicole"
        ],
        [
         "13",
         "10",
         "2019-01-02 00:00:00",
         "Passei das Águas Shopping",
         "Cueca Liso",
         "1",
         "69",
         "69",
         "3.45",
         "Nicole"
        ],
        [
         "14",
         "11",
         "2019-01-02 00:00:00",
         "Shopping Recife",
         "Camiseta",
         "1",
         "180",
         "180",
         "9.0",
         "André"
        ],
        [
         "15",
         "11",
         "2019-01-02 00:00:00",
         "Shopping Recife",
         "Calça Listrado",
         "2",
         "181",
         "362",
         "18.1",
         "André"
        ],
        [
         "16",
         "11",
         "2019-01-02 00:00:00",
         "Shopping Recife",
         "Camisa Estampa",
         "1",
         "113",
         "113",
         "5.65",
         "André"
        ],
        [
         "17",
         "12",
         "2019-01-02 00:00:00",
         "Shopping Midway Mall",
         "Short Xadrez",
         "4",
         "100",
         "400",
         "20.0",
         "João"
        ],
        [
         "18",
         "12",
         "2019-01-02 00:00:00",
         "Shopping Midway Mall",
         "Sunga Liso",
         "2",
         "114",
         "228",
         "11.4",
         "João"
        ],
        [
         "19",
         "14",
         "2019-01-02 00:00:00",
         "Bourbon Shopping SP",
         "Casaco Liso",
         "2",
         "255",
         "510",
         "25.5",
         "Marcus"
        ],
        [
         "20",
         "17",
         "2019-01-02 00:00:00",
         "Iguatemi Campinas",
         "Chinelo Liso",
         "1",
         "71",
         "71",
         "3.5500000000000003",
         "Luiza"
        ],
        [
         "21",
         "18",
         "2019-01-02 00:00:00",
         "Rio Mar Shopping Fortaleza",
         "Camisa Estampa",
         "1",
         "113",
         "113",
         "5.65",
         "Maria"
        ],
        [
         "22",
         "19",
         "2019-01-02 00:00:00",
         "Passei das Águas Shopping",
         "Relógio Listrado",
         "1",
         "218",
         "218",
         "10.9",
         "Nicole"
        ],
        [
         "23",
         "19",
         "2019-01-02 00:00:00",
         "Passei das Águas Shopping",
         "Calça Linho",
         "2",
         "211",
         "422",
         "21.1",
         "Nicole"
        ],
        [
         "24",
         "20",
         "2019-01-02 00:00:00",
         "Shopping Center Interlagos",
         "Mochila Liso",
         "1",
         "276",
         "276",
         "13.8",
         "Amanda"
        ],
        [
         "25",
         "21",
         "2019-01-02 00:00:00",
         "Iguatemi Esplanada",
         "Camisa Gola V Listrado",
         "2",
         "116",
         "232",
         "11.600000000000001",
         "Salvador"
        ],
        [
         "26",
         "22",
         "2019-01-02 00:00:00",
         "Parque Dom Pedro Shopping",
         "Meia",
         "1",
         "30",
         "30",
         "1.5",
         "Carol"
        ],
        [
         "27",
         "22",
         "2019-01-02 00:00:00",
         "Parque Dom Pedro Shopping",
         "Meia Linho",
         "2",
         "78",
         "156",
         "7.800000000000001",
         "Carol"
        ],
        [
         "28",
         "22",
         "2019-01-02 00:00:00",
         "Parque Dom Pedro Shopping",
         "Calça Liso",
         "2",
         "190",
         "380",
         "19.0",
         "Carol"
        ],
        [
         "29",
         "23",
         "2019-01-02 00:00:00",
         "Center Shopping Uberlândia",
         "Bermuda Estampa",
         "3",
         "169",
         "507",
         "25.35",
         "Andressa"
        ],
        [
         "30",
         "23",
         "2019-01-02 00:00:00",
         "Center Shopping Uberlândia",
         "Chinelo Liso",
         "3",
         "71",
         "213",
         "10.65",
         "Andressa"
        ],
        [
         "31",
         "26",
         "2019-01-02 00:00:00",
         "Shopping União de Osasco",
         "Chinelo",
         "2",
         "60",
         "120",
         "6.0",
         "Lilia"
        ],
        [
         "32",
         "27",
         "2019-01-02 00:00:00",
         "Rio Mar Shopping Fortaleza",
         "Sunga Linho",
         "1",
         "149",
         "149",
         "7.45",
         "Maria"
        ],
        [
         "33",
         "27",
         "2019-01-02 00:00:00",
         "Rio Mar Shopping Fortaleza",
         "Terno Listrado",
         "2",
         "709",
         "1418",
         "70.9",
         "Maria"
        ],
        [
         "34",
         "29",
         "2019-01-02 00:00:00",
         "Shopping Center Leste Aricanduva",
         "Gorro Liso",
         "4",
         "92",
         "368",
         "18.400000000000002",
         "Julia"
        ],
        [
         "35",
         "31",
         "2019-01-02 00:00:00",
         "Shopping Eldorado",
         "Casaco Estampa",
         "3",
         "256",
         "768",
         "38.400000000000006",
         "Paulo"
        ],
        [
         "36",
         "31",
         "2019-01-02 00:00:00",
         "Shopping Eldorado",
         "Pulseira",
         "3",
         "70",
         "210",
         "10.5",
         "Paulo"
        ],
        [
         "37",
         "31",
         "2019-01-02 00:00:00",
         "Shopping Eldorado",
         "Gorro Linho",
         "1",
         "124",
         "124",
         "6.2",
         "Paulo"
        ],
        [
         "38",
         "31",
         "2019-01-02 00:00:00",
         "Shopping Eldorado",
         "Cinto Linho",
         "3",
         "248",
         "744",
         "37.2",
         "Paulo"
        ],
        [
         "39",
         "32",
         "2019-01-02 00:00:00",
         "Shopping Vila Velha",
         "Polo Liso",
         "1",
         "137",
         "137",
         "6.8500000000000005",
         "Pablo"
        ],
        [
         "40",
         "32",
         "2019-01-02 00:00:00",
         "Shopping Vila Velha",
         "Polo Listrado",
         "2",
         "149",
         "298",
         "14.9",
         "Pablo"
        ],
        [
         "41",
         "33",
         "2019-01-02 00:00:00",
         "Shopping Midway Mall",
         "Camisa",
         "1",
         "100",
         "100",
         "5.0",
         "João"
        ],
        [
         "42",
         "33",
         "2019-01-02 00:00:00",
         "Shopping Midway Mall",
         "Meia Xadrez",
         "3",
         "41",
         "123",
         "6.15",
         "João"
        ],
        [
         "43",
         "34",
         "2019-01-02 00:00:00",
         "Iguatemi Esplanada",
         "Sapato Listrado",
         "1",
         "363",
         "363",
         "18.150000000000002",
         "Salvador"
        ],
        [
         "44",
         "34",
         "2019-01-02 00:00:00",
         "Iguatemi Esplanada",
         "Camisa Gola V Liso",
         "2",
         "118",
         "236",
         "11.8",
         "Salvador"
        ],
        [
         "45",
         "35",
         "2019-01-02 00:00:00",
         "Parque Dom Pedro Shopping",
         "Relógio",
         "2",
         "200",
         "400",
         "20.0",
         "Carol"
        ],
        [
         "46",
         "35",
         "2019-01-02 00:00:00",
         "Parque Dom Pedro Shopping",
         "Sapato",
         "2",
         "350",
         "700",
         "35.0",
         "Carol"
        ],
        [
         "47",
         "36",
         "2019-01-02 00:00:00",
         "Rio Mar Shopping Fortaleza",
         "Meia Listrado",
         "1",
         "37",
         "37",
         "1.85",
         "Maria"
        ],
        [
         "48",
         "38",
         "2019-01-02 00:00:00",
         "Shopping Vila Velha",
         "Meia Xadrez",
         "3",
         "41",
         "123",
         "6.15",
         "Pablo"
        ],
        [
         "49",
         "38",
         "2019-01-02 00:00:00",
         "Shopping Vila Velha",
         "Relógio",
         "1",
         "200",
         "200",
         "10.0",
         "Pablo"
        ]
       ],
       "shape": {
        "columns": 9,
        "rows": 100998
       }
      },
      "text/html": [
       "<div>\n",
       "<style scoped>\n",
       "    .dataframe tbody tr th:only-of-type {\n",
       "        vertical-align: middle;\n",
       "    }\n",
       "\n",
       "    .dataframe tbody tr th {\n",
       "        vertical-align: top;\n",
       "    }\n",
       "\n",
       "    .dataframe thead th {\n",
       "        text-align: right;\n",
       "    }\n",
       "</style>\n",
       "<table border=\"1\" class=\"dataframe\">\n",
       "  <thead>\n",
       "    <tr style=\"text-align: right;\">\n",
       "      <th></th>\n",
       "      <th>Código Venda</th>\n",
       "      <th>Data</th>\n",
       "      <th>ID Loja</th>\n",
       "      <th>Produto</th>\n",
       "      <th>Quantidade</th>\n",
       "      <th>Valor Unitário</th>\n",
       "      <th>Valor Final</th>\n",
       "      <th>Comissão</th>\n",
       "      <th>Gerente</th>\n",
       "    </tr>\n",
       "  </thead>\n",
       "  <tbody>\n",
       "    <tr>\n",
       "      <th>0</th>\n",
       "      <td>1</td>\n",
       "      <td>2019-01-01</td>\n",
       "      <td>Iguatemi Esplanada</td>\n",
       "      <td>Camiseta</td>\n",
       "      <td>2</td>\n",
       "      <td>180</td>\n",
       "      <td>360</td>\n",
       "      <td>18.00</td>\n",
       "      <td>Salvador</td>\n",
       "    </tr>\n",
       "    <tr>\n",
       "      <th>1</th>\n",
       "      <td>1</td>\n",
       "      <td>2019-01-01</td>\n",
       "      <td>Iguatemi Esplanada</td>\n",
       "      <td>Sapato Xadrez</td>\n",
       "      <td>1</td>\n",
       "      <td>368</td>\n",
       "      <td>368</td>\n",
       "      <td>18.40</td>\n",
       "      <td>Salvador</td>\n",
       "    </tr>\n",
       "    <tr>\n",
       "      <th>2</th>\n",
       "      <td>2</td>\n",
       "      <td>2019-01-02</td>\n",
       "      <td>Norte Shopping</td>\n",
       "      <td>Relógio</td>\n",
       "      <td>3</td>\n",
       "      <td>200</td>\n",
       "      <td>600</td>\n",
       "      <td>30.00</td>\n",
       "      <td>Joana</td>\n",
       "    </tr>\n",
       "    <tr>\n",
       "      <th>3</th>\n",
       "      <td>2</td>\n",
       "      <td>2019-01-02</td>\n",
       "      <td>Norte Shopping</td>\n",
       "      <td>Chinelo Liso</td>\n",
       "      <td>1</td>\n",
       "      <td>71</td>\n",
       "      <td>71</td>\n",
       "      <td>3.55</td>\n",
       "      <td>Joana</td>\n",
       "    </tr>\n",
       "    <tr>\n",
       "      <th>4</th>\n",
       "      <td>3</td>\n",
       "      <td>2019-01-02</td>\n",
       "      <td>Rio Mar Shopping Fortaleza</td>\n",
       "      <td>Cinto Linho</td>\n",
       "      <td>1</td>\n",
       "      <td>248</td>\n",
       "      <td>248</td>\n",
       "      <td>12.40</td>\n",
       "      <td>Maria</td>\n",
       "    </tr>\n",
       "    <tr>\n",
       "      <th>...</th>\n",
       "      <td>...</td>\n",
       "      <td>...</td>\n",
       "      <td>...</td>\n",
       "      <td>...</td>\n",
       "      <td>...</td>\n",
       "      <td>...</td>\n",
       "      <td>...</td>\n",
       "      <td>...</td>\n",
       "      <td>...</td>\n",
       "    </tr>\n",
       "    <tr>\n",
       "      <th>100993</th>\n",
       "      <td>69996</td>\n",
       "      <td>2019-12-26</td>\n",
       "      <td>Center Shopping Uberlândia</td>\n",
       "      <td>Short Listrado</td>\n",
       "      <td>2</td>\n",
       "      <td>102</td>\n",
       "      <td>204</td>\n",
       "      <td>10.20</td>\n",
       "      <td>Andressa</td>\n",
       "    </tr>\n",
       "    <tr>\n",
       "      <th>100994</th>\n",
       "      <td>69996</td>\n",
       "      <td>2019-12-26</td>\n",
       "      <td>Center Shopping Uberlândia</td>\n",
       "      <td>Mochila</td>\n",
       "      <td>4</td>\n",
       "      <td>270</td>\n",
       "      <td>1080</td>\n",
       "      <td>54.00</td>\n",
       "      <td>Andressa</td>\n",
       "    </tr>\n",
       "    <tr>\n",
       "      <th>100995</th>\n",
       "      <td>69996</td>\n",
       "      <td>2019-12-26</td>\n",
       "      <td>Center Shopping Uberlândia</td>\n",
       "      <td>Pulseira Estampa</td>\n",
       "      <td>1</td>\n",
       "      <td>87</td>\n",
       "      <td>87</td>\n",
       "      <td>4.35</td>\n",
       "      <td>Andressa</td>\n",
       "    </tr>\n",
       "    <tr>\n",
       "      <th>100996</th>\n",
       "      <td>69997</td>\n",
       "      <td>2019-12-26</td>\n",
       "      <td>Ribeirão Shopping</td>\n",
       "      <td>Camisa Listrado</td>\n",
       "      <td>1</td>\n",
       "      <td>108</td>\n",
       "      <td>108</td>\n",
       "      <td>5.40</td>\n",
       "      <td>Fábio</td>\n",
       "    </tr>\n",
       "    <tr>\n",
       "      <th>100997</th>\n",
       "      <td>69997</td>\n",
       "      <td>2019-12-26</td>\n",
       "      <td>Ribeirão Shopping</td>\n",
       "      <td>Short Linho</td>\n",
       "      <td>2</td>\n",
       "      <td>133</td>\n",
       "      <td>266</td>\n",
       "      <td>13.30</td>\n",
       "      <td>Fábio</td>\n",
       "    </tr>\n",
       "  </tbody>\n",
       "</table>\n",
       "<p>100998 rows × 9 columns</p>\n",
       "</div>"
      ],
      "text/plain": [
       "        Código Venda       Data                     ID Loja           Produto  \\\n",
       "0                  1 2019-01-01          Iguatemi Esplanada          Camiseta   \n",
       "1                  1 2019-01-01          Iguatemi Esplanada     Sapato Xadrez   \n",
       "2                  2 2019-01-02              Norte Shopping           Relógio   \n",
       "3                  2 2019-01-02              Norte Shopping      Chinelo Liso   \n",
       "4                  3 2019-01-02  Rio Mar Shopping Fortaleza       Cinto Linho   \n",
       "...              ...        ...                         ...               ...   \n",
       "100993         69996 2019-12-26  Center Shopping Uberlândia    Short Listrado   \n",
       "100994         69996 2019-12-26  Center Shopping Uberlândia           Mochila   \n",
       "100995         69996 2019-12-26  Center Shopping Uberlândia  Pulseira Estampa   \n",
       "100996         69997 2019-12-26           Ribeirão Shopping   Camisa Listrado   \n",
       "100997         69997 2019-12-26           Ribeirão Shopping       Short Linho   \n",
       "\n",
       "        Quantidade  Valor Unitário  Valor Final  Comissão   Gerente  \n",
       "0                2             180          360     18.00  Salvador  \n",
       "1                1             368          368     18.40  Salvador  \n",
       "2                3             200          600     30.00     Joana  \n",
       "3                1              71           71      3.55     Joana  \n",
       "4                1             248          248     12.40     Maria  \n",
       "...            ...             ...          ...       ...       ...  \n",
       "100993           2             102          204     10.20  Andressa  \n",
       "100994           4             270         1080     54.00  Andressa  \n",
       "100995           1              87           87      4.35  Andressa  \n",
       "100996           1             108          108      5.40     Fábio  \n",
       "100997           2             133          266     13.30     Fábio  \n",
       "\n",
       "[100998 rows x 9 columns]"
      ]
     },
     "metadata": {},
     "output_type": "display_data"
    }
   ],
   "source": [
    "# Merging Managers DataFrame to our main DataFrame so we can know who is the manager of each store.\n",
    "\n",
    "combined_df= combined_df.merge(managers_df)\n",
    "display (combined_df)"
   ]
  }
 ],
 "metadata": {
  "kernelspec": {
   "display_name": "Python 3",
   "language": "python",
   "name": "python3"
  },
  "language_info": {
   "codemirror_mode": {
    "name": "ipython",
    "version": 3
   },
   "file_extension": ".py",
   "mimetype": "text/x-python",
   "name": "python",
   "nbconvert_exporter": "python",
   "pygments_lexer": "ipython3",
   "version": "3.13.0"
  }
 },
 "nbformat": 4,
 "nbformat_minor": 5
}
